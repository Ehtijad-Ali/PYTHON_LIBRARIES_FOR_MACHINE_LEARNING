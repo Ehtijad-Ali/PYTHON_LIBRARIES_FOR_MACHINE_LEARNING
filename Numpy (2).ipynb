{
 "cells": [
  {
   "cell_type": "markdown",
   "id": "6a2f17ae-c257-4c84-ba25-7fe991646fa2",
   "metadata": {},
   "source": [
    "# List Methods"
   ]
  },
  {
   "cell_type": "code",
   "execution_count": 1,
   "id": "ea46e590-4606-40e5-b4da-f17d4eacba7f",
   "metadata": {},
   "outputs": [
    {
     "name": "stdout",
     "output_type": "stream",
     "text": [
      "[20, 30, 50, 60, 70, 80, 90] <class 'list'>\n"
     ]
    }
   ],
   "source": [
    "# delete function\n",
    "l=[20,30,40,50,60,70,80,90];\n",
    "del l[2]\n",
    "print(l,type(l))"
   ]
  },
  {
   "cell_type": "code",
   "execution_count": 2,
   "id": "6ad19bdc-ede7-43b5-8251-1fbbff9db696",
   "metadata": {},
   "outputs": [
    {
     "name": "stdout",
     "output_type": "stream",
     "text": [
      "50\n",
      "[20, 30, 40, 60, 70, 80, 90]\n"
     ]
    }
   ],
   "source": [
    "# pop function\n",
    "l=[20,30,40,50,60,70,80,90];\n",
    "print(l.pop(3))\n",
    "print(l)"
   ]
  },
  {
   "cell_type": "code",
   "execution_count": 3,
   "id": "36b34417-c4ec-4750-8296-453986226b97",
   "metadata": {},
   "outputs": [
    {
     "name": "stdout",
     "output_type": "stream",
     "text": [
      "[20, 30, 50, 60, 70, 80, 90]\n"
     ]
    }
   ],
   "source": [
    "# remove function\n",
    "l=[20,30,40,50,60,70,80,90];\n",
    "l.remove(40)\n",
    "print(l)"
   ]
  },
  {
   "cell_type": "code",
   "execution_count": 4,
   "id": "93f648e2-0458-42c5-ab16-f03705790e14",
   "metadata": {},
   "outputs": [
    {
     "name": "stdout",
     "output_type": "stream",
     "text": [
      "[]\n"
     ]
    }
   ],
   "source": [
    "# clear function\n",
    "l=[20,30,40,50,60,70,80,90];\n",
    "l.clear()\n",
    "print(l)"
   ]
  },
  {
   "cell_type": "code",
   "execution_count": 5,
   "id": "1056edfc-6be1-4b01-87b4-e65cb53471f1",
   "metadata": {},
   "outputs": [
    {
     "name": "stdout",
     "output_type": "stream",
     "text": [
      "[20, 30, 40, 45, 50, 60, 70, 80, 90]\n"
     ]
    }
   ],
   "source": [
    "# insert function\n",
    "l=[20,30,40,50,60,70,80,90];\n",
    "l.insert(3,45)# give index no first and than give value\n",
    "print(l)"
   ]
  },
  {
   "cell_type": "code",
   "execution_count": 6,
   "id": "50affd4f-2eef-4b47-a18d-0bff064b29dc",
   "metadata": {},
   "outputs": [
    {
     "name": "stdout",
     "output_type": "stream",
     "text": [
      "[20, 30, 40, 50, 60, 70, 80, 90, [100, 110, 120, 130]]\n"
     ]
    }
   ],
   "source": [
    "#append function\n",
    "l=[20,30,40,50,60,70,80,90];\n",
    "m=[100,110,120,130];\n",
    "l.append(m)# add value at the last of the list\n",
    "print(l)"
   ]
  },
  {
   "cell_type": "code",
   "execution_count": 7,
   "id": "8115d32b-50d9-49ce-9b9d-65c52fe31d79",
   "metadata": {},
   "outputs": [
    {
     "name": "stdout",
     "output_type": "stream",
     "text": [
      "[20, 30, 40, 50, 60, 70, 80, 90, 100, 110, 120, 130]\n"
     ]
    }
   ],
   "source": [
    "# extend funnction\n",
    "l=[20,30,40,50,60,70,80,90];\n",
    "m=[100,110,120,130];\n",
    "l.extend(m)\n",
    "print(l)"
   ]
  },
  {
   "cell_type": "code",
   "execution_count": 8,
   "id": "ccabd05a-bc52-4abc-a45d-6126b5698d8c",
   "metadata": {},
   "outputs": [
    {
     "name": "stdout",
     "output_type": "stream",
     "text": [
      "3\n"
     ]
    }
   ],
   "source": [
    "# count function\n",
    "l=[20,30,40,50,60,70,80,90,50,50,40,40,45];\n",
    "n=l.count(50)\n",
    "print(n)"
   ]
  },
  {
   "cell_type": "code",
   "execution_count": 9,
   "id": "cb8c6577-db77-4947-bd55-62a7cc941d70",
   "metadata": {},
   "outputs": [
    {
     "data": {
      "text/plain": [
       "101"
      ]
     },
     "execution_count": 9,
     "metadata": {},
     "output_type": "execute_result"
    }
   ],
   "source": [
    "# maximum function\n",
    "l=[20,30,40,50,60,70,80,90,50,50,40,40,45,101]\n",
    "max(l)"
   ]
  },
  {
   "cell_type": "code",
   "execution_count": 10,
   "id": "b76fa1c5-0461-447f-83ce-818958e8c520",
   "metadata": {},
   "outputs": [
    {
     "data": {
      "text/plain": [
       "20"
      ]
     },
     "execution_count": 10,
     "metadata": {},
     "output_type": "execute_result"
    }
   ],
   "source": [
    "# minimum function\n",
    "l=[20,30,40,50,60,70,80,90,50,50,40,40,45,101]\n",
    "min(l)"
   ]
  },
  {
   "cell_type": "code",
   "execution_count": 11,
   "id": "53b25c33-db3f-4e04-992d-e92403236a4c",
   "metadata": {},
   "outputs": [
    {
     "name": "stdout",
     "output_type": "stream",
     "text": [
      "[0, 20, 30, 40, 40, 40, 40, 40, 45, 45, 50, 50, 50, 50, 50, 60, 70, 80, 90, 90, 101, 101]\n"
     ]
    }
   ],
   "source": [
    "# sort function: acending order \n",
    "l=[0,90,50,50,40,40,45,101,20,30,40,50,60,70,80,90,50,50,40,40,45,101]\n",
    "l.sort()\n",
    "print(l)"
   ]
  },
  {
   "cell_type": "code",
   "execution_count": 12,
   "id": "d1b62d31-a0d8-4a7d-ace1-5c5e326050a0",
   "metadata": {},
   "outputs": [
    {
     "name": "stdout",
     "output_type": "stream",
     "text": [
      "[101, 45, 40, 40, 50, 50, 90, 80, 70, 60, 50, 40, 30, 20]\n"
     ]
    }
   ],
   "source": [
    "# reverse function:decending order\n",
    "l=[20,30,40,50,60,70,80,90,50,50,40,40,45,101]\n",
    "l.reverse()\n",
    "print(l)"
   ]
  },
  {
   "cell_type": "code",
   "execution_count": 13,
   "id": "d3bd9a48-ed2d-4529-818e-fddc26d39ea5",
   "metadata": {},
   "outputs": [
    {
     "name": "stdout",
     "output_type": "stream",
     "text": [
      "0\n"
     ]
    }
   ],
   "source": [
    "# index function\n",
    "l=[20,30,40,50,60,70,80,90,50,50,40,40,45,101]\n",
    "m=l.index(20)\n",
    "print(m)"
   ]
  },
  {
   "cell_type": "markdown",
   "id": "ce85bb8a-e516-45e6-b19c-33986e456909",
   "metadata": {},
   "source": [
    "# String Methods"
   ]
  },
  {
   "cell_type": "code",
   "execution_count": 30,
   "id": "97e32850-1396-42cc-a426-dd8245668091",
   "metadata": {},
   "outputs": [
    {
     "name": "stdout",
     "output_type": "stream",
     "text": [
      "LIFE IS UNEXPECTED JOURNEY NEVER EXCEPT ANY THING FROM ANYONE\n"
     ]
    }
   ],
   "source": [
    "# Uppercse\n",
    "str = 'life is unexpected journey never except any thing from anyone'\n",
    "upper = str.upper()\n",
    "print(upper)"
   ]
  },
  {
   "cell_type": "code",
   "execution_count": 31,
   "id": "ab44298b-6615-4b7d-a438-89c6a3ad1f48",
   "metadata": {},
   "outputs": [
    {
     "name": "stdout",
     "output_type": "stream",
     "text": [
      "life is unexpected journey never except any thing from anyone\n"
     ]
    }
   ],
   "source": [
    "# lowercase \n",
    "str = 'life is unexpected journey never except any thing from anyone'\n",
    "lower = str.lower()\n",
    "print(lower)"
   ]
  },
  {
   "cell_type": "code",
   "execution_count": 61,
   "id": "0b1fe396-2676-41b8-b63f-b5721f6e42b2",
   "metadata": {},
   "outputs": [
    {
     "name": "stdout",
     "output_type": "stream",
     "text": [
      "0\n"
     ]
    }
   ],
   "source": [
    "# Find\n",
    "str = 'life is unexpected journey never except any thing from anyone'\n",
    "find = str.find('l')\n",
    "print(find)"
   ]
  },
  {
   "cell_type": "code",
   "execution_count": 33,
   "id": "25efac8e-cdf7-4bcd-90ee-8ddff5088bef",
   "metadata": {},
   "outputs": [
    {
     "name": "stdout",
     "output_type": "stream",
     "text": [
      "1\n"
     ]
    }
   ],
   "source": [
    "# Index\n",
    "str = 'life is unexpected journey never except any thing from anyone'\n",
    "index = str.index('i')\n",
    "print(index)"
   ]
  },
  {
   "cell_type": "code",
   "execution_count": 34,
   "id": "ae8107fc-9538-4480-b0ba-46252ef1cbc7",
   "metadata": {},
   "outputs": [
    {
     "name": "stdout",
     "output_type": "stream",
     "text": [
      "10\n"
     ]
    }
   ],
   "source": [
    "# count\n",
    "str = 'life is unexpected journey never except any thing from anyone'\n",
    "count = str.count('e')\n",
    "print(count)"
   ]
  },
  {
   "cell_type": "code",
   "execution_count": 54,
   "id": "82441245-613b-4d81-bdb4-eb4fd4de944d",
   "metadata": {},
   "outputs": [
    {
     "name": "stdout",
     "output_type": "stream",
     "text": [
      "ilife is unexpected journey never except any thing from anyoneamlife is unexpected journey never except any thing from anyonealife is unexpected journey never except any thing from anyonedatalife is unexpected journey never except any thing from anyonescientistlife is unexpected journey never except any thing from anyoneandlife is unexpected journey never except any thing from anyonemachinelife is unexpected journey never except any thing from anyonelearninglife is unexpected journey never except any thing from anyoneengineer\n"
     ]
    }
   ],
   "source": [
    "# join\n",
    "str = 'life is unexpected journey never except any thing from anyone'\n",
    "str_1 = 'i am a data scientist and machine learning engineer'\n",
    "join = str.join(str_1.split())\n",
    "print(join)"
   ]
  },
  {
   "cell_type": "code",
   "execution_count": 56,
   "id": "2d1b23fc-a78f-4fd3-a329-3e64bdf352f0",
   "metadata": {},
   "outputs": [
    {
     "name": "stdout",
     "output_type": "stream",
     "text": [
      "False\n"
     ]
    }
   ],
   "source": [
    "# Isalpha\n",
    "str = 'life is unexpected journey never except any thing from anyone'\n",
    "isa = str.isalpha()\n",
    "print(isa)"
   ]
  },
  {
   "cell_type": "code",
   "execution_count": 63,
   "id": "2a5bcf3d-1496-4088-a75a-b28dfcbab14d",
   "metadata": {},
   "outputs": [
    {
     "name": "stdout",
     "output_type": "stream",
     "text": [
      "False\n"
     ]
    }
   ],
   "source": [
    "# is digit\n",
    "str = 'life is unexpected journey never except any thing from anyone'\n",
    "isalp = str.isdigit()\n",
    "print(isalp)"
   ]
  },
  {
   "cell_type": "code",
   "execution_count": 64,
   "id": "8e69f186-1fec-48c5-99cf-f25ce39315da",
   "metadata": {},
   "outputs": [
    {
     "name": "stdout",
     "output_type": "stream",
     "text": [
      "False\n"
     ]
    }
   ],
   "source": [
    "# isalnum\n",
    "\n",
    "str = 'life is unexpected journey never except any thing from anyone 12123'\n",
    "isalp = str.isalnum()\n",
    "print(isalp)"
   ]
  },
  {
   "cell_type": "code",
   "execution_count": 59,
   "id": "8cf2a122-ff58-4113-bd93-51aa7a1e43f1",
   "metadata": {},
   "outputs": [
    {
     "name": "stdout",
     "output_type": "stream",
     "text": [
      "['life', 'is', 'unexpected', 'journey', 'never', 'except', 'any', 'thing', 'from', 'anyone']\n"
     ]
    }
   ],
   "source": [
    "# Split string to list\n",
    "str = 'life is unexpected journey never except any thing from anyone'\n",
    "spl = str.split()\n",
    "print(spl)"
   ]
  },
  {
   "cell_type": "code",
   "execution_count": 60,
   "id": "5395bfbb-3684-40ff-8f67-c14a447605f1",
   "metadata": {},
   "outputs": [
    {
     "name": "stdout",
     "output_type": "stream",
     "text": [
      "life is unexpected journey always except any thing from anyone\n"
     ]
    }
   ],
   "source": [
    "str = 'life is unexpected journey never except any thing from anyone'\n",
    "replace = str.replace('never', 'always')\n",
    "print(replace)"
   ]
  },
  {
   "cell_type": "markdown",
   "id": "af8d19e7-fdac-49b9-8002-7045bf82026e",
   "metadata": {},
   "source": [
    "# String Formating"
   ]
  },
  {
   "cell_type": "code",
   "execution_count": 65,
   "id": "60568cd6-9a70-49c0-a6e1-38900b80fc97",
   "metadata": {},
   "outputs": [
    {
     "name": "stdout",
     "output_type": "stream",
     "text": [
      "i am a data scientist and machine learning engineer 45\n"
     ]
    }
   ],
   "source": [
    "w=\"i {} a data {} and machine {} engineer {}\".format(\"am\", \"scientist\",\"learning\",45);\n",
    "print(w)"
   ]
  },
  {
   "cell_type": "code",
   "execution_count": 66,
   "id": "d83c8bba-d8f6-4df9-ae69-ba01549755e3",
   "metadata": {},
   "outputs": [
    {
     "name": "stdout",
     "output_type": "stream",
     "text": [
      "failue you slaps always in public\n"
     ]
    }
   ],
   "source": [
    "w=\"failue {1} slaps {0} in {2}\".format(\"always\", \"you\",\"public\",45);\n",
    "print(w)"
   ]
  },
  {
   "cell_type": "code",
   "execution_count": 73,
   "id": "5d802ae2-873e-4c7e-97de-1811c9da2226",
   "metadata": {},
   "outputs": [
    {
     "name": "stdout",
     "output_type": "stream",
     "text": [
      "Never ignore a person who truly cares for you\n"
     ]
    }
   ],
   "source": [
    "w = \"Never {b} a {a} who {c} cares for {d}\".format(a=\"person\", b=\"ignore\", c=\"truly\", d=\"you\")\n",
    "print(w)\n"
   ]
  },
  {
   "cell_type": "code",
   "execution_count": null,
   "id": "3e2a619b-6a76-4901-8cda-c80bcf3b6feb",
   "metadata": {},
   "outputs": [],
   "source": [
    "w=\"Never {b:^20} a {a:^20} who  {c:<26} cares {d:>30}\".format(a=\"ignore\", b=\"person\",c=\"\",d=45);   # < right align\n",
    "print(w)   "
   ]
  },
  {
   "cell_type": "code",
   "execution_count": null,
   "id": "97109f21-159f-4683-a737-ff7e9cc105b5",
   "metadata": {},
   "outputs": [],
   "source": []
  },
  {
   "cell_type": "code",
   "execution_count": null,
   "id": "af06f044-42f0-4263-80ca-a22768a346dd",
   "metadata": {},
   "outputs": [],
   "source": []
  },
  {
   "cell_type": "code",
   "execution_count": null,
   "id": "b561cb87-4b23-45d7-a204-ae6d85eca807",
   "metadata": {},
   "outputs": [],
   "source": []
  },
  {
   "cell_type": "code",
   "execution_count": null,
   "id": "44c4781f-28bf-48f1-a0ef-971f6f293e13",
   "metadata": {},
   "outputs": [],
   "source": []
  },
  {
   "cell_type": "markdown",
   "id": "6ba9aed4-d7ac-4e6f-95dc-97b3746cc5d7",
   "metadata": {},
   "source": [
    "# Task 1"
   ]
  },
  {
   "cell_type": "code",
   "execution_count": 8,
   "id": "7010a369-0b97-4182-a39d-c44c457bd347",
   "metadata": {},
   "outputs": [
    {
     "name": "stdin",
     "output_type": "stream",
     "text": [
      "Enter the line of text :- dont try to be others be unique\n"
     ]
    },
    {
     "name": "stdout",
     "output_type": "stream",
     "text": [
      "DONT TRY TO BE OTHERS BE UNIQUE\n",
      "\n",
      "dont try to be others be unique\n",
      "\n",
      "Dont try to be others be unique\n"
     ]
    }
   ],
   "source": [
    "string = input('Enter the line of text :-')\n",
    "upper_case = string.upper()\n",
    "print(upper_case)\n",
    "print()\n",
    "lower_case = string.lower()\n",
    "print(lower_case)\n",
    "print()\n",
    "capitalize_case = string.capitalize()\n",
    "print(capitalize_case)"
   ]
  },
  {
   "cell_type": "markdown",
   "id": "52e5d7ee-09ff-4f89-931f-3400a5f9e704",
   "metadata": {},
   "source": [
    "# Task 2"
   ]
  },
  {
   "cell_type": "code",
   "execution_count": 3,
   "id": "22e662be-0a70-4159-988f-f7113f183148",
   "metadata": {},
   "outputs": [
    {
     "name": "stdin",
     "output_type": "stream",
     "text": [
      "Enter the line of text:  hello how are you\n"
     ]
    },
    {
     "name": "stdout",
     "output_type": "stream",
     "text": [
      "Estimated number of words: 4\n"
     ]
    }
   ],
   "source": [
    "def estimate_word_count(string):\n",
    "    string = string.strip()\n",
    "    space_count = string.count(' ')\n",
    "    word_count = space_count + 1\n",
    "    return word_count\n",
    "\n",
    "input = input(\"Enter the line of text: \")\n",
    "estimated_words = estimate_word_count(input)\n",
    "print(f\"Estimated number of words: {estimated_words}\")"
   ]
  },
  {
   "cell_type": "code",
   "execution_count": 37,
   "id": "d15a8f0d-fe47-4818-a7f5-6ffc7cd1a791",
   "metadata": {},
   "outputs": [
    {
     "name": "stdin",
     "output_type": "stream",
     "text": [
      "Enter the line of text :  i am a data scientist and machine learnig engineer\n"
     ]
    },
    {
     "name": "stdout",
     "output_type": "stream",
     "text": [
      "Number Of Words: 9\n"
     ]
    }
   ],
   "source": [
    "user_input = input(\"Enter the line of text : \")\n",
    "num_spaces = user_input.count(\" \")\n",
    "num_words = num_spaces + 1\n",
    "print(\"Number Of Words:\", num_words)"
   ]
  },
  {
   "cell_type": "markdown",
   "id": "0239d1bf-079c-4668-8b88-03d0684b3f42",
   "metadata": {},
   "source": [
    "# Task 3"
   ]
  },
  {
   "cell_type": "code",
   "execution_count": 36,
   "id": "696a1d1e-8051-4541-a41a-bb98df108581",
   "metadata": {},
   "outputs": [
    {
     "name": "stdin",
     "output_type": "stream",
     "text": [
      "Please enter a string:  FKSJN jskjdJDSJ \n"
     ]
    },
    {
     "name": "stdout",
     "output_type": "stream",
     "text": [
      "fksjn jskjdjdsj \n"
     ]
    }
   ],
   "source": [
    "import builtins\n",
    "input = builtins.input\n",
    "s = input(\"Please enter a string: \")\n",
    "s = s.lower()\n",
    "s = s.replace(\".\", \"\").replace(\",\", \"\")\n",
    "print(s)"
   ]
  },
  {
   "cell_type": "markdown",
   "id": "ae33bf50-2136-4dc0-9064-b710101ce4b6",
   "metadata": {},
   "source": [
    "# Task 4"
   ]
  },
  {
   "cell_type": "code",
   "execution_count": 9,
   "id": "f306e6a1-6767-44ed-a457-37a1e895dc06",
   "metadata": {},
   "outputs": [
    {
     "name": "stdout",
     "output_type": "stream",
     "text": [
      "[4353, 2314, 2956, 9362, 3900]\n"
     ]
    }
   ],
   "source": [
    "ids = [4353, 2314, 2956, 3382, 9362, 3900]\n",
    "ids.remove(3382)\n",
    "print(ids)"
   ]
  },
  {
   "cell_type": "markdown",
   "id": "c456f9ce-27d9-4ba9-ad53-b79f6ef68485",
   "metadata": {},
   "source": [
    "# Get the index of 9362."
   ]
  },
  {
   "cell_type": "code",
   "execution_count": 10,
   "id": "12ae49c2-695f-4ecd-906f-143723a80005",
   "metadata": {},
   "outputs": [
    {
     "name": "stdout",
     "output_type": "stream",
     "text": [
      "Index of 9362: 3\n"
     ]
    }
   ],
   "source": [
    "index_of_9362 = ids.index(9362)\n",
    "print(\"Index of 9362:\", index_of_9362)"
   ]
  },
  {
   "cell_type": "markdown",
   "id": "c49a7a6f-78eb-4cc0-be51-3d74f2a6cd0d",
   "metadata": {},
   "source": [
    "# Insert 4499 in the list after 9362."
   ]
  },
  {
   "cell_type": "code",
   "execution_count": 12,
   "id": "2173dcae-4c0a-4fe9-9214-81d68eb7adc1",
   "metadata": {},
   "outputs": [
    {
     "name": "stdout",
     "output_type": "stream",
     "text": [
      "[4353, 2314, 2956, 9362, 4499, 4499, 3900]\n"
     ]
    }
   ],
   "source": [
    "ids.insert(index_of_9362 + 1, 4499)\n",
    "print(ids)"
   ]
  },
  {
   "cell_type": "markdown",
   "id": "ea70b5b6-7bbc-4cfa-b040-440082705922",
   "metadata": {},
   "source": [
    "# Extend the list by adding [5566, 1830] to it."
   ]
  },
  {
   "cell_type": "code",
   "execution_count": 13,
   "id": "7f589b8c-51b0-442c-85a0-02124faed9d1",
   "metadata": {},
   "outputs": [
    {
     "name": "stdout",
     "output_type": "stream",
     "text": [
      "[4353, 2314, 2956, 9362, 4499, 4499, 3900, 5566, 1830]\n"
     ]
    }
   ],
   "source": [
    "ids.extend([5566, 1830])\n",
    "print(ids)"
   ]
  },
  {
   "cell_type": "markdown",
   "id": "e0626941-1f48-4164-8277-5f4fd80e99f7",
   "metadata": {},
   "source": [
    "# Reverse the list."
   ]
  },
  {
   "cell_type": "code",
   "execution_count": 14,
   "id": "78e4db50-5026-4c4e-bfdb-8f02552c8bcc",
   "metadata": {},
   "outputs": [
    {
     "name": "stdout",
     "output_type": "stream",
     "text": [
      "[1830, 5566, 3900, 4499, 4499, 9362, 2956, 2314, 4353]\n"
     ]
    }
   ],
   "source": [
    "ids.reverse()\n",
    "print(ids)"
   ]
  },
  {
   "cell_type": "markdown",
   "id": "7ed651b6-73a6-4c5b-a7d1-c746da698305",
   "metadata": {},
   "source": [
    "# Sort the list."
   ]
  },
  {
   "cell_type": "code",
   "execution_count": 15,
   "id": "6a0e3cda-1c54-417e-b87d-cc9fbe3edc88",
   "metadata": {},
   "outputs": [
    {
     "name": "stdout",
     "output_type": "stream",
     "text": [
      "[1830, 2314, 2956, 3900, 4353, 4499, 4499, 5566, 9362]\n"
     ]
    }
   ],
   "source": [
    "ids.sort()\n",
    "print(ids)"
   ]
  },
  {
   "cell_type": "markdown",
   "id": "99d0dee1-f516-4338-9996-149cd841cd82",
   "metadata": {},
   "source": [
    "# Task 4"
   ]
  },
  {
   "cell_type": "code",
   "execution_count": 18,
   "id": "df46f8b6-dad9-4e9c-8a92-9ac4a0166831",
   "metadata": {},
   "outputs": [
    {
     "name": "stdout",
     "output_type": "stream",
     "text": [
      "Roll  Count      Percentage\n",
      "------------------------------\n",
      "2     269        2.69%\n",
      "3     554        5.54%\n",
      "4     821        8.21%\n",
      "5     1157       11.57%\n",
      "6     1357       13.57%\n",
      "7     1696       16.96%\n",
      "8     1377       13.77%\n",
      "9     1110       11.10%\n",
      "10    839        8.39%\n",
      "11    543        5.43%\n",
      "12    277        2.77%\n"
     ]
    }
   ],
   "source": [
    "import random\n",
    "num_rolls = 10000\n",
    "roll_counts = {i: 0 for i in range(2, 13)}\n",
    "\n",
    "for _ in range(num_rolls):\n",
    "    die1 = random.randint(1, 6)\n",
    "    die2 = random.randint(1, 6)\n",
    "    roll = die1 + die2\n",
    "    roll_counts[roll] += 1\n",
    "\n",
    "print(f\"{'Roll':<5} {'Count':<10} {'Percentage':<10}\")\n",
    "print(\"-\" * 30)\n",
    "for roll, count in roll_counts.items():\n",
    "    percentage = (count / num_rolls) * 100\n",
    "    print(f\"{roll:<5} {count:<10} {percentage:.2f}%\")\n"
   ]
  },
  {
   "cell_type": "code",
   "execution_count": 38,
   "id": "b5465d2d-78fe-4be4-9628-caac366c2e6c",
   "metadata": {},
   "outputs": [
    {
     "name": "stdout",
     "output_type": "stream",
     "text": [
      "Outcome\tPercentage\n",
      "2\t3.03%\n",
      "3\t5.98%\n",
      "4\t8.81%\n",
      "5\t11.02%\n",
      "6\t13.43%\n",
      "7\t16.01%\n",
      "8\t13.89%\n",
      "9\t11.16%\n",
      "10\t8.28%\n",
      "11\t5.47%\n",
      "12\t2.92%\n"
     ]
    }
   ],
   "source": [
    "import random\n",
    "num_rolls = 10000\n",
    "rolls = [random.randint(1, 6) + random.randint(1, 6) for _ in range(num_rolls)]\n",
    "counts = [rolls.count(i) for i in range(2, 13)]\n",
    "percentages = [count / num_rolls * 100 for count in counts]\n",
    "print(\"Outcome\\tPercentage\")\n",
    "for i, percentage in enumerate(percentages):\n",
    "    print(f\"{i+2}\\t{percentage:.2f}%\")"
   ]
  },
  {
   "cell_type": "markdown",
   "id": "aed8d6f5-e353-4183-bfa1-388b987ee47d",
   "metadata": {},
   "source": [
    "# Task 6"
   ]
  },
  {
   "cell_type": "code",
   "execution_count": 22,
   "id": "c1af6ba2-6263-4425-8b09-11eaf3cbf63d",
   "metadata": {},
   "outputs": [
    {
     "name": "stdout",
     "output_type": "stream",
     "text": [
      "List: [23, 44, 94, 17, 57, 71, 25, 78, 46, 100, 44, 52, 28, 24, 51, 82, 71, 63, 30, 70, 27, 14, 43, 34, 2, 96, 96, 75, 60, 49, 82, 35, 74, 42, 62, 76, 17, 81, 76, 20, 55, 60, 85, 53, 67, 45, 17, 40, 40, 87, 97, 65, 3, 26, 52, 72, 76, 55, 50, 56, 22, 42, 66, 77, 37, 28, 94, 87, 86, 70, 95, 11, 13, 64, 39, 68, 63, 86, 78, 27, 10, 94, 16, 71, 77, 65, 97, 20, 59, 84, 25, 29, 55, 46, 67, 8, 25, 28, 48]\n",
      "Mean: 53\n",
      "Median: 55\n",
      "Mode: 94\n"
     ]
    }
   ],
   "source": [
    "from statistics import mode as stat_mode\n",
    "import random\n",
    "\n",
    "def calculate_mean(numbers):\n",
    "    return sum(numbers) // len(numbers)\n",
    "\n",
    "def calculate_median(numbers):\n",
    "    sorted_numbers = sorted(numbers)\n",
    "    n = len(sorted_numbers)\n",
    "    mid = n // 2\n",
    "    \n",
    "    if n % 2 == 0:\n",
    "        median = (sorted_numbers[mid - 1] + sorted_numbers[mid]) // 2\n",
    "    else:\n",
    "        median = sorted_numbers[mid]\n",
    "    \n",
    "    return median\n",
    "\n",
    "def calculate_mode(numbers):\n",
    "    return stat_mode(numbers)\n",
    "\n",
    "num = [random.randint(1, 100) for _ in range(99)]\n",
    "\n",
    "mean = calculate_mean(num)\n",
    "median = calculate_median(num)\n",
    "mode = calculate_mode(num)\n",
    "\n",
    "print(\"List:\", num)\n",
    "print(f\"Mean: {mean}\")\n",
    "print(f\"Median: {median}\")\n",
    "print(f\"Mode: {mode}\")\n",
    "\n"
   ]
  },
  {
   "cell_type": "code",
   "execution_count": 42,
   "id": "155cf62d-76b4-4ea0-9903-0822fab45ab5",
   "metadata": {},
   "outputs": [
    {
     "name": "stdout",
     "output_type": "stream",
     "text": [
      "[13, 80, 7, 50, 82, 49, 49, 5, 23, 71, 15, 30, 98, 27, 49, 75, 62, 23, 34, 34, 14, 91, 24, 58, 29, 2, 57, 72, 8, 24, 100, 77, 40, 45, 50, 46, 26, 85, 27, 52, 75, 14, 33, 86, 63, 47, 88, 72, 81, 87, 88, 25, 91, 4, 28, 53, 85, 54, 31, 78, 41, 34, 29, 84, 84, 90, 43, 68, 23, 40, 16, 81, 43, 48, 79, 25, 26, 19, 91, 21, 20, 86, 41, 13, 94, 20, 69, 2, 49, 36, 26, 65, 25, 38, 53, 4, 1, 29, 51]\n",
      "Mean: 47\n",
      "Median: 45\n",
      "Mode: 49\n"
     ]
    }
   ],
   "source": [
    "import random\n",
    "from collections import Counter\n",
    "\n",
    "def mean(numbers):\n",
    "    return sum(numbers) // len(numbers)\n",
    "\n",
    "def median(numbers):\n",
    "    numbers.sort()\n",
    "    mid = len(numbers) // 2\n",
    "    if len(numbers) % 2 == 0:\n",
    "        return (numbers[mid-1] + numbers[mid]) // 2\n",
    "    else:\n",
    "        return numbers[mid]\n",
    "\n",
    "def mode(numbers):\n",
    "    counter = Counter(numbers)\n",
    "    return counter.most_common(1)[0][0]\n",
    "\n",
    "random_numbers = [random.randint(1, 100) for _ in range(99)]\n",
    "print(random_numbers)\n",
    "\n",
    "print(\"Mean:\", mean(random_numbers))\n",
    "print(\"Median:\", median(random_numbers))\n",
    "print(\"Mode:\", mode(random_numbers))"
   ]
  },
  {
   "cell_type": "markdown",
   "id": "b070fd0b-c4ba-4825-ad45-e919ebdd345b",
   "metadata": {},
   "source": [
    "# Task 7"
   ]
  },
  {
   "cell_type": "code",
   "execution_count": 24,
   "id": "ca05fe47-fa68-4121-b077-8ab5132a5c64",
   "metadata": {},
   "outputs": [
    {
     "name": "stdout",
     "output_type": "stream",
     "text": [
      "Original list: [1, 2, 3, 4, 5]\n",
      "Rotated list: [5, 1, 2, 3, 4]\n"
     ]
    }
   ],
   "source": [
    "def rotate_list(elements):\n",
    "    if len(elements) == 0:\n",
    "        return elements \n",
    "    rotated_list = [elements[-1]] + elements[:-1]\n",
    "    return rotated_list\n",
    "my_list = [1, 2, 3, 4, 5]\n",
    "rotated = rotate_list(my_list)\n",
    "\n",
    "print(\"Original list:\", my_list)\n",
    "print(\"Rotated list:\", rotated)\n"
   ]
  },
  {
   "cell_type": "markdown",
   "id": "d644f23a-9b62-4164-b191-efd67d53340a",
   "metadata": {},
   "source": [
    "# Task 8"
   ]
  },
  {
   "cell_type": "code",
   "execution_count": 25,
   "id": "fdb4938f-a99c-4e1a-be82-660ecdc5c903",
   "metadata": {},
   "outputs": [
    {
     "name": "stdout",
     "output_type": "stream",
     "text": [
      "Generated List: [0, 0, 1, 1, 0, 0, 1, 1, 0, 1, 0, 1, 0, 1, 1, 0, 1, 1, 0, 0, 0, 1, 1, 0, 0, 1, 1, 1, 0, 0, 0, 0, 1, 0, 0, 1, 0, 0, 1, 1, 1, 1, 0, 1, 1, 0, 0, 1, 1, 1, 1, 0, 1, 1, 1, 0, 0, 1, 1, 0, 1, 0, 1, 1, 1, 1, 1, 0, 1, 0, 0, 0, 1, 1, 1, 1, 0, 1, 1, 0, 0, 1, 1, 0, 1, 1, 1, 1, 1, 0, 0, 1, 1, 1, 0, 0, 0, 0, 0, 0]\n",
      "Longest run of zeros: 6\n"
     ]
    }
   ],
   "source": [
    "import random\n",
    "\n",
    "random_list = [random.randint(0, 1) for _ in range(100)]\n",
    "\n",
    "def longest_run_of_zeros(numbers):\n",
    "    max_run = 0\n",
    "    current_run = 0\n",
    "    \n",
    "    for number in numbers:\n",
    "        if number == 0:\n",
    "            current_run += 1\n",
    "            if current_run > max_run:\n",
    "                max_run = current_run\n",
    "        else:\n",
    "            current_run = 0\n",
    "    \n",
    "    return max_run\n",
    "\n",
    "longest_run = longest_run_of_zeros(random_list)\n",
    "\n",
    "print(\"Generated List:\", random_list)\n",
    "print(\"Longest run of zeros:\", longest_run)"
   ]
  },
  {
   "cell_type": "code",
   "execution_count": 43,
   "id": "bab28be4-636a-49e6-a57d-1704d6a5b0b9",
   "metadata": {},
   "outputs": [
    {
     "name": "stdout",
     "output_type": "stream",
     "text": [
      "Random List: [0, 1, 1, 1, 0, 1, 1, 1, 0, 0, 0, 0, 1, 1, 1, 0, 0, 0, 1, 0, 1, 0, 1, 0, 1, 1, 0, 0, 1, 1, 0, 0, 1, 1, 0, 1, 0, 1, 1, 1, 0, 1, 1, 0, 1, 1, 1, 1, 1, 1, 0, 1, 0, 0, 1, 0, 0, 1, 0, 0, 1, 1, 1, 1, 1, 1, 0, 0, 0, 1, 1, 1, 1, 0, 1, 1, 0, 1, 1, 1, 1, 0, 0, 0, 0, 0, 0, 0, 1, 1, 0, 0, 1, 0, 0, 1, 0, 0, 1, 0]\n",
      "Longest Run of Zeros: 7\n"
     ]
    }
   ],
   "source": [
    "import random\n",
    "random_list = [random.randint(0, 1) for _ in range(100)]\n",
    "\n",
    "longest_run = 0\n",
    "current_run = 0\n",
    "\n",
    "for num in random_list:\n",
    "    if num == 0:\n",
    "        current_run += 1\n",
    "        longest_run = max(longest_run, current_run)\n",
    "    else:\n",
    "        current_run = 0\n",
    "\n",
    "print(\"Random List:\", random_list)\n",
    "print(\"Longest Run of Zeros:\", longest_run)"
   ]
  }
 ],
 "metadata": {
  "kernelspec": {
   "display_name": "Python 3 (ipykernel)",
   "language": "python",
   "name": "python3"
  },
  "language_info": {
   "codemirror_mode": {
    "name": "ipython",
    "version": 3
   },
   "file_extension": ".py",
   "mimetype": "text/x-python",
   "name": "python",
   "nbconvert_exporter": "python",
   "pygments_lexer": "ipython3",
   "version": "3.12.4"
  }
 },
 "nbformat": 4,
 "nbformat_minor": 5
}
