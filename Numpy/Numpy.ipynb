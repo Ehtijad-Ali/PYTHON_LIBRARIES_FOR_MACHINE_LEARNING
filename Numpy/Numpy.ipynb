{
 "cells": [
  {
   "cell_type": "markdown",
   "id": "109fd416-b6fc-498e-ade1-e60cf851d470",
   "metadata": {},
   "source": [
    "# NUMPY (Numerial Python)"
   ]
  },
  {
   "cell_type": "code",
   "execution_count": 2,
   "id": "40792ac3-e39d-4bc6-960b-61fec6e8ce5a",
   "metadata": {},
   "outputs": [
    {
     "name": "stdout",
     "output_type": "stream",
     "text": [
      "3 <class 'numpy.ndarray'>\n",
      "0\n"
     ]
    }
   ],
   "source": [
    "import numpy as np\n",
    "arra = np.array(3)\n",
    "print(arra, type(arra))\n",
    "print(arra.ndim)"
   ]
  },
  {
   "cell_type": "code",
   "execution_count": 7,
   "id": "7d21f6ce-c84b-4676-bec2-7802683d7d3a",
   "metadata": {},
   "outputs": [
    {
     "name": "stdout",
     "output_type": "stream",
     "text": [
      "[1 3 4 5 6 7 8 9] <class 'numpy.ndarray'>\n",
      "1\n"
     ]
    }
   ],
   "source": [
    "arra_1 = np.array([1,3,4,5,6,7,8,9])\n",
    "print(arra_1,type(arra_1))\n",
    "print(arra_1.ndim)"
   ]
  },
  {
   "cell_type": "code",
   "execution_count": 13,
   "id": "f8da371e-93d4-414a-93de-1e58326f4752",
   "metadata": {},
   "outputs": [
    {
     "name": "stdout",
     "output_type": "stream",
     "text": [
      "[ 6 10 16 22 26]\n"
     ]
    }
   ],
   "source": [
    "arra_2 = np.array([[1,2,3,4,5],[2,3,5,7,8]])*2\n",
    "print(arra_2[0] + arra_2[1])"
   ]
  },
  {
   "cell_type": "code",
   "execution_count": 20,
   "id": "fbf8bbed-b209-4fa3-88b0-03731e9fae86",
   "metadata": {},
   "outputs": [
    {
     "name": "stdout",
     "output_type": "stream",
     "text": [
      "[[ 22  22  22  22  22]\n",
      " [100 100 100 100 100]]\n"
     ]
    }
   ],
   "source": [
    "arra_2[0]= 22\n",
    "print(arra_2)"
   ]
  },
  {
   "cell_type": "code",
   "execution_count": 25,
   "id": "ea043cfa-95ac-4502-a30f-3f6ed7df68be",
   "metadata": {},
   "outputs": [
    {
     "name": "stdout",
     "output_type": "stream",
     "text": [
      "[[2. 2. 2. 2.]\n",
      " [2. 2. 2. 2.]\n",
      " [2. 2. 3. 2.]]\n"
     ]
    }
   ],
   "source": [
    "q = np.ones((3, 4))*2\n",
    "q[2][2]=3\n",
    "print(q)"
   ]
  },
  {
   "cell_type": "code",
   "execution_count": 29,
   "id": "17d69315-40e4-4266-85a0-de83284c0bfb",
   "metadata": {},
   "outputs": [
    {
     "data": {
      "text/plain": [
       "array([[ 0.,  0.,  0.,  0.,  0.],\n",
       "       [ 0.,  0.,  0.,  0.,  0.],\n",
       "       [ 0.,  0., 77.,  0.,  0.],\n",
       "       [ 0.,  0.,  0.,  0.,  0.],\n",
       "       [ 0.,  0.,  0.,  0.,  0.]])"
      ]
     },
     "execution_count": 29,
     "metadata": {},
     "output_type": "execute_result"
    }
   ],
   "source": [
    "c = np.zeros((5,5))\n",
    "c[2][2] = 77\n",
    "c"
   ]
  },
  {
   "cell_type": "code",
   "execution_count": 32,
   "id": "9d6b2676-f695-4013-8a7d-45e955cfcf3d",
   "metadata": {},
   "outputs": [
    {
     "data": {
      "text/plain": [
       "array([ 1.        ,  7.33333333, 13.66666667, 20.        ])"
      ]
     },
     "execution_count": 32,
     "metadata": {},
     "output_type": "execute_result"
    }
   ],
   "source": [
    "np.linspace(1,20,4)"
   ]
  },
  {
   "cell_type": "markdown",
   "id": "ad6a0abe-6f49-46a0-b2e2-f4fd7de1a807",
   "metadata": {},
   "source": [
    "# indexing "
   ]
  },
  {
   "cell_type": "code",
   "execution_count": 38,
   "id": "1a997ff0-aef6-49ae-ab51-4206b3ba78d4",
   "metadata": {},
   "outputs": [
    {
     "name": "stdout",
     "output_type": "stream",
     "text": [
      "8 89\n"
     ]
    }
   ],
   "source": [
    "arra = np.array([[1,4,6,8,8,4],[2,3,4,6,89,0]])\n",
    "print(arra[0,3],arra[1,4])"
   ]
  },
  {
   "cell_type": "markdown",
   "id": "24de3258-1a62-4d90-901d-1b4db51e6b9c",
   "metadata": {},
   "source": [
    "# slicing"
   ]
  },
  {
   "cell_type": "code",
   "execution_count": 42,
   "id": "6ff465b2-8582-4a29-8969-a3f0ecfd4030",
   "metadata": {},
   "outputs": [
    {
     "name": "stdout",
     "output_type": "stream",
     "text": [
      "[1 6 8]\n",
      "[ 3  4  6 89  0]\n"
     ]
    }
   ],
   "source": [
    "arra = np.array([[1,4,6,8,8,4],[2,3,4,6,89,0]])\n",
    "print(arra[0][::2])\n",
    "print(arra[1][1:6])"
   ]
  },
  {
   "cell_type": "markdown",
   "id": "3b09936c-5503-4570-a5b5-ac7f08f627e8",
   "metadata": {},
   "source": [
    "# Copy And View"
   ]
  },
  {
   "cell_type": "code",
   "execution_count": 45,
   "id": "ad12fd3e-ca31-40b2-a7c7-d23bf5c71d41",
   "metadata": {},
   "outputs": [
    {
     "name": "stdout",
     "output_type": "stream",
     "text": [
      "[11  3  5  7  9]\n",
      "[1 3 5 7 9]\n"
     ]
    }
   ],
   "source": [
    "arr = np.array([1,3,5,7,9])\n",
    "ar = arr.copy()\n",
    "arr[0]=11\n",
    "print(arr)\n",
    "print(ar)"
   ]
  },
  {
   "cell_type": "code",
   "execution_count": 46,
   "id": "ee960b89-19ac-4260-b459-51e957df6cc8",
   "metadata": {},
   "outputs": [
    {
     "name": "stdout",
     "output_type": "stream",
     "text": [
      "[11  3  5  7  9]\n",
      "[11  3  5  7  9]\n"
     ]
    }
   ],
   "source": [
    "arr = np.array([1,3,5,7,9])\n",
    "ar = arr.view()\n",
    "arr[0]=11\n",
    "print(arr)\n",
    "print(ar)"
   ]
  },
  {
   "cell_type": "markdown",
   "id": "7f0987c2-37e2-445c-9d15-b3493a03d1c6",
   "metadata": {},
   "source": [
    "# Shape And Size"
   ]
  },
  {
   "cell_type": "code",
   "execution_count": 47,
   "id": "d8ee671e-515d-43a9-8ec0-79718a57318b",
   "metadata": {},
   "outputs": [
    {
     "data": {
      "text/plain": [
       "(2, 6)"
      ]
     },
     "execution_count": 47,
     "metadata": {},
     "output_type": "execute_result"
    }
   ],
   "source": [
    "arra = np.array([[1,4,6,8,8,4],[2,3,4,6,89,0]])\n",
    "arra.shape"
   ]
  },
  {
   "cell_type": "code",
   "execution_count": 48,
   "id": "9e5819dd-a9a9-44ae-ae01-cb7ce5025259",
   "metadata": {},
   "outputs": [
    {
     "name": "stdout",
     "output_type": "stream",
     "text": [
      "[[[[[ 1  4  6  8  8  4]\n",
      "    [ 2  3  4  6 89  0]]]]] (1, 1, 1, 2, 6)\n"
     ]
    }
   ],
   "source": [
    "arra = np.array([[1,4,6,8,8,4],[2,3,4,6,89,0]], ndmin = 5)\n",
    "print(arra, arra.shape)"
   ]
  },
  {
   "cell_type": "code",
   "execution_count": 49,
   "id": "d048383c-07b6-4750-90e4-1148183f1011",
   "metadata": {},
   "outputs": [
    {
     "data": {
      "text/plain": [
       "12"
      ]
     },
     "execution_count": 49,
     "metadata": {},
     "output_type": "execute_result"
    }
   ],
   "source": [
    "arra.size"
   ]
  },
  {
   "cell_type": "markdown",
   "id": "af5374ff-39d6-4834-a739-124102abf0b4",
   "metadata": {},
   "source": [
    "# Reshaping"
   ]
  },
  {
   "cell_type": "code",
   "execution_count": 67,
   "id": "bd619d75-1ead-4004-ad08-ac105615abb9",
   "metadata": {},
   "outputs": [
    {
     "name": "stdout",
     "output_type": "stream",
     "text": [
      "[[1 4 6 8]\n",
      " [8 4 2 3]\n",
      " [4 8 9 0]]\n"
     ]
    }
   ],
   "source": [
    "arra = np.array([1,4,6,8,8,4,2,3,4,8,9,0])\n",
    "arra_2 = arra.reshape(3,4)\n",
    "print(arra_2)"
   ]
  },
  {
   "cell_type": "code",
   "execution_count": 68,
   "id": "17bb0091-cf9b-42b4-a130-e94ea7e019b4",
   "metadata": {},
   "outputs": [
    {
     "name": "stdout",
     "output_type": "stream",
     "text": [
      "[[[1 4]\n",
      "  [6 8]\n",
      "  [8 4]]\n",
      "\n",
      " [[2 3]\n",
      "  [4 8]\n",
      "  [9 0]]]\n"
     ]
    }
   ],
   "source": [
    "arra = np.array([1,4,6,8,8,4,2,3,4,8,9,0])\n",
    "arra_2 = arra.reshape(2,3,2)\n",
    "print(arra_2)"
   ]
  },
  {
   "cell_type": "code",
   "execution_count": 69,
   "id": "9477c4e1-b2b2-4cfa-84af-62e8ced4c147",
   "metadata": {},
   "outputs": [
    {
     "name": "stdout",
     "output_type": "stream",
     "text": [
      "[1 4 6 8 8 4 2 3]\n"
     ]
    }
   ],
   "source": [
    "arra = np.array([1,4,6,8,8,4,2,3])\n",
    "arra_2 = arra.reshape(2,4).base\n",
    "print(arra_2)"
   ]
  },
  {
   "cell_type": "code",
   "execution_count": 70,
   "id": "8d0ebeb2-2dfe-4023-80a0-acb4074fef95",
   "metadata": {},
   "outputs": [
    {
     "name": "stdout",
     "output_type": "stream",
     "text": [
      "[[[1 4]\n",
      "  [6 8]]\n",
      "\n",
      " [[8 4]\n",
      "  [2 3]]]\n"
     ]
    }
   ],
   "source": [
    "arra = np.array([1,4,6,8,8,4,2,3])\n",
    "arra_2 = arra.reshape(2,2,-1)\n",
    "print(arra_2)"
   ]
  },
  {
   "cell_type": "code",
   "execution_count": 73,
   "id": "4089ea1e-7062-4a0b-b190-00aa117433f6",
   "metadata": {},
   "outputs": [
    {
     "name": "stdout",
     "output_type": "stream",
     "text": [
      "[1 4 6 8 8 4 2 3]\n"
     ]
    }
   ],
   "source": [
    "arra = np.array([[1,4,6,8],[8,4,2,3]])\n",
    "arra_2 = arra.reshape(-1)\n",
    "print(arra_2)"
   ]
  },
  {
   "cell_type": "markdown",
   "id": "405f12d4-982a-41a1-8159-ce0c845f6ed3",
   "metadata": {},
   "source": [
    "# Iterating Array"
   ]
  },
  {
   "cell_type": "code",
   "execution_count": 51,
   "id": "f251ff59-b2c2-4802-980d-a95bb56554b8",
   "metadata": {},
   "outputs": [
    {
     "name": "stdout",
     "output_type": "stream",
     "text": [
      "1\n",
      "4\n",
      "6\n",
      "8\n",
      "8\n",
      "4\n",
      "2\n",
      "3\n",
      "4\n",
      "6\n",
      "89\n",
      "0\n"
     ]
    }
   ],
   "source": [
    "# iterating 2_D array\n",
    "\n",
    "arra = np.array([[1,4,6,8,8,4],[2,3,4,6,89,0]])\n",
    "for i in arra:\n",
    "    for n in i:\n",
    "        print(n)"
   ]
  },
  {
   "cell_type": "code",
   "execution_count": 53,
   "id": "872b7072-ba45-4ff1-874e-adb11ee49833",
   "metadata": {},
   "outputs": [
    {
     "name": "stdout",
     "output_type": "stream",
     "text": [
      "1\n",
      "4\n",
      "6\n",
      "8\n",
      "8\n",
      "4\n",
      "2\n",
      "3\n",
      "4\n",
      "6\n",
      "89\n",
      "0\n"
     ]
    }
   ],
   "source": [
    "# iterating 3_D array\n",
    "arra = np.array([[[1,4,6,8,8,4]],[[2,3,4,6,89,0]]])\n",
    "for n in arra:\n",
    "    for k in n:\n",
    "        for f in k:\n",
    "            print(f)\n"
   ]
  },
  {
   "cell_type": "code",
   "execution_count": 59,
   "id": "5dc02f83-82fa-4d9f-92c5-2c1d1a0fb544",
   "metadata": {},
   "outputs": [
    {
     "name": "stdout",
     "output_type": "stream",
     "text": [
      "1\n",
      "4\n",
      "6\n",
      "8\n",
      "8\n",
      "4\n",
      "2\n",
      "3\n",
      "4\n",
      "6\n",
      "89\n",
      "0\n"
     ]
    }
   ],
   "source": [
    "arra = np.array([[1,4,6],[8,8,4],[2,3,4],[6,89,0]])\n",
    "for n in np.nditer(arra):\n",
    "    print(n)"
   ]
  },
  {
   "cell_type": "code",
   "execution_count": 62,
   "id": "de7dd230-82a0-411d-993b-106494bc33f2",
   "metadata": {},
   "outputs": [
    {
     "name": "stdout",
     "output_type": "stream",
     "text": [
      "1\n",
      "6\n",
      "8\n",
      "4\n",
      "2\n",
      "4\n",
      "6\n",
      "0\n"
     ]
    }
   ],
   "source": [
    "arra = np.array([[1,4,6],[8,8,4],[2,3,4],[6,89,0]])\n",
    "for n in np.nditer(arra[:, ::2]):\n",
    "    print(n)"
   ]
  },
  {
   "cell_type": "markdown",
   "id": "32420975-0cac-4730-a8f2-0b891bfe4626",
   "metadata": {},
   "source": [
    "# Concatnate and Stack"
   ]
  },
  {
   "cell_type": "code",
   "execution_count": 11,
   "id": "1803426d-70bd-4b9c-ba6f-9db3e4d7c3ee",
   "metadata": {},
   "outputs": [
    {
     "name": "stdout",
     "output_type": "stream",
     "text": [
      "[ 1  2  3  4  5  4  5  6 11 23]\n"
     ]
    }
   ],
   "source": [
    "import numpy as np\n",
    "\n",
    "arra_1 = np.array([1, 2, 3,4,5])\n",
    "arra_2  = np.array([4, 5, 6,11,23])\n",
    "concat  = np.concatenate((arra_1, arra_2))\n",
    "print(concat)\n"
   ]
  },
  {
   "cell_type": "code",
   "execution_count": 22,
   "id": "b83ed2ec-2cbd-4e7c-9ec9-0d76d8ed29db",
   "metadata": {},
   "outputs": [
    {
     "name": "stdout",
     "output_type": "stream",
     "text": [
      "[[ 1  2  3  4  5]\n",
      " [ 4  5  6 11 23]]\n"
     ]
    }
   ],
   "source": [
    "arra_1 = np.array([1, 2, 3,4,5])\n",
    "arra_2  = np.array([4, 5, 6,11,23])\n",
    "concat  = np.stack((arra_1, arra_2))\n",
    "print(concat)"
   ]
  },
  {
   "cell_type": "code",
   "execution_count": 20,
   "id": "1647e02c-250d-43d9-b6e1-5eb4e9841e47",
   "metadata": {},
   "outputs": [
    {
     "name": "stdout",
     "output_type": "stream",
     "text": [
      "[[ 1  2  3  4  5  6]\n",
      " [ 4  4  5 11 23 33]]\n"
     ]
    }
   ],
   "source": [
    "arra_1 = np.array([[1, 2, 3],[4,4,5]])\n",
    "arra_2  = np.array([[4, 5, 6],[11,23,33]])\n",
    "concat  = np.concatenate((arra_1, arra_2),axis = 1)\n",
    "print(concat)\n"
   ]
  },
  {
   "cell_type": "code",
   "execution_count": 21,
   "id": "8804c74c-137b-4a55-b723-8ed839bd2402",
   "metadata": {},
   "outputs": [
    {
     "name": "stdout",
     "output_type": "stream",
     "text": [
      "[[[ 1  2  3]\n",
      "  [ 4  5  6]]\n",
      "\n",
      " [[ 4  4  5]\n",
      "  [11 23 33]]]\n"
     ]
    }
   ],
   "source": [
    "arra_1 = np.array([[1, 2, 3],[4,4,5]])\n",
    "arra_2  = np.array([[4, 5, 6],[11,23,33]])\n",
    "concat  = np.stack((arra_1, arra_2),axis = 1)\n",
    "print(concat)"
   ]
  },
  {
   "cell_type": "code",
   "execution_count": 23,
   "id": "da209a2e-8726-49c3-b983-037fd48d6b07",
   "metadata": {},
   "outputs": [
    {
     "name": "stdout",
     "output_type": "stream",
     "text": [
      "[ 1  2  3  4  5  4  5  6 11 23]\n"
     ]
    }
   ],
   "source": [
    "# Hortizantal stack\n",
    "arra_1 = np.array([1, 2, 3,4,5])\n",
    "arra_2  = np.array([4, 5, 6,11,23])\n",
    "concat  = np.hstack((arra_1, arra_2))\n",
    "print(concat)"
   ]
  },
  {
   "cell_type": "code",
   "execution_count": 24,
   "id": "bbe1569a-68cd-4d9f-ab39-c8024ce06389",
   "metadata": {},
   "outputs": [
    {
     "name": "stdout",
     "output_type": "stream",
     "text": [
      "[[ 1  2  3  4  5]\n",
      " [ 4  5  6 11 23]]\n"
     ]
    }
   ],
   "source": [
    "arra_1 = np.array([1, 2, 3,4,5])\n",
    "arra_2  = np.array([4, 5, 6,11,23])\n",
    "concat  = np.vstack((arra_1, arra_2))\n",
    "print(concat)"
   ]
  },
  {
   "cell_type": "code",
   "execution_count": 25,
   "id": "06ad84a2-bddc-407b-a7bd-920f6f457adf",
   "metadata": {},
   "outputs": [
    {
     "name": "stdout",
     "output_type": "stream",
     "text": [
      "[[[ 1  4]\n",
      "  [ 2  5]\n",
      "  [ 3  6]\n",
      "  [ 4 11]\n",
      "  [ 5 23]]]\n"
     ]
    }
   ],
   "source": [
    "arra_1 = np.array([1, 2, 3,4,5])\n",
    "arra_2  = np.array([4, 5, 6,11,23])\n",
    "concat  = np.dstack((arra_1, arra_2))\n",
    "print(concat)"
   ]
  },
  {
   "cell_type": "markdown",
   "id": "45d0f32d-3d64-4eba-ba2b-9ff0ff162f9f",
   "metadata": {},
   "source": [
    "# Array Spliting"
   ]
  },
  {
   "cell_type": "code",
   "execution_count": 30,
   "id": "7beb8a16-691f-455b-87e1-5b106aad46a9",
   "metadata": {},
   "outputs": [
    {
     "name": "stdout",
     "output_type": "stream",
     "text": [
      "[array([1, 2]), array([4, 6]), array([7, 8]), array([9, 1]), array([2, 3]), array([4, 6])]\n"
     ]
    }
   ],
   "source": [
    "new  = np.array([1, 2, 4, 6, 7, 8, 9, 1 ,2, 3, 4, 6])\n",
    "splt = np.array_split(new, 6)\n",
    "print(splt)\n"
   ]
  },
  {
   "cell_type": "code",
   "execution_count": 37,
   "id": "293c817b-2a3c-4da0-aa33-f1a158cb6120",
   "metadata": {},
   "outputs": [
    {
     "name": "stdout",
     "output_type": "stream",
     "text": [
      "[1 2]\n",
      "[4 6]\n",
      "[7 8]\n",
      "[7 8]\n",
      "[2 3]\n"
     ]
    }
   ],
   "source": [
    "print(splt[0])\n",
    "print(splt[1])\n",
    "print(splt[2])\n",
    "print(splt[2])\n",
    "print(splt[4])"
   ]
  },
  {
   "cell_type": "code",
   "execution_count": 44,
   "id": "c84edcc7-d646-4810-a14b-56fa9d6274b2",
   "metadata": {},
   "outputs": [
    {
     "name": "stdout",
     "output_type": "stream",
     "text": [
      "[array([[1, 2],\n",
      "       [4, 6]]), array([[7, 8],\n",
      "       [9, 1]]), array([[2, 3],\n",
      "       [4, 6]])]\n"
     ]
    }
   ],
   "source": [
    "new_1 = np.array([[1, 2],[ 4, 6], [7, 8], [9, 1] ,[2, 3], [4, 6]])\n",
    "s = np.array_split(new_1 , 3)\n",
    "print(s)"
   ]
  },
  {
   "cell_type": "code",
   "execution_count": 48,
   "id": "20015ad7-8647-4fa8-b46b-825f823fa840",
   "metadata": {},
   "outputs": [
    {
     "name": "stdout",
     "output_type": "stream",
     "text": [
      "[array([[1],\n",
      "       [4],\n",
      "       [7],\n",
      "       [9],\n",
      "       [2],\n",
      "       [4]]), array([[2],\n",
      "       [6],\n",
      "       [8],\n",
      "       [1],\n",
      "       [3],\n",
      "       [6]])]\n"
     ]
    }
   ],
   "source": [
    "new_1 = np.array([[1, 2],[ 4, 6], [7, 8], [9, 1] ,[2, 3], [4, 6]])\n",
    "s = np.array_split(new_1, 2, axis = 1)\n",
    "print(s)"
   ]
  },
  {
   "cell_type": "code",
   "execution_count": 53,
   "id": "64a19741-1f6d-42d7-9f00-2673e41f6995",
   "metadata": {},
   "outputs": [
    {
     "name": "stdout",
     "output_type": "stream",
     "text": [
      "[array([[1],\n",
      "       [4],\n",
      "       [7],\n",
      "       [9],\n",
      "       [2],\n",
      "       [4]]), array([[2],\n",
      "       [6],\n",
      "       [8],\n",
      "       [1],\n",
      "       [3],\n",
      "       [6]])]\n"
     ]
    }
   ],
   "source": [
    "new_1 = np.array([[1, 2],[ 4, 6], [7, 8], [9, 1] ,[2, 3], [4, 6]])\n",
    "s = np.hsplit(new_1, 2)\n",
    "print(s)"
   ]
  },
  {
   "cell_type": "markdown",
   "id": "8ae4d192-fcc7-4bde-b2bf-e887162177ae",
   "metadata": {},
   "source": [
    "# Searching "
   ]
  },
  {
   "cell_type": "code",
   "execution_count": 56,
   "id": "b82ee7f6-dd67-400c-a0fc-3be46cbffe31",
   "metadata": {},
   "outputs": [
    {
     "data": {
      "text/plain": [
       "(array([1, 8], dtype=int64),)"
      ]
     },
     "execution_count": 56,
     "metadata": {},
     "output_type": "execute_result"
    }
   ],
   "source": [
    "new_1 = np.array([1, 2, 4, 6, 7, 8, 9, 1 ,2, 3, 4, 6])\n",
    "s = np.where(new_1 == 2)\n",
    "s"
   ]
  },
  {
   "cell_type": "code",
   "execution_count": 60,
   "id": "c60d9be5-4a46-4b11-98d4-3fdf115e41c3",
   "metadata": {},
   "outputs": [
    {
     "data": {
      "text/plain": [
       "(array([ 1,  2,  3,  5,  7,  9, 10], dtype=int64),)"
      ]
     },
     "execution_count": 60,
     "metadata": {},
     "output_type": "execute_result"
    }
   ],
   "source": [
    "new_1 = np.array([1, 2, 4, 6, 7, 8, 9,2, 3, 4, 6])\n",
    "s = np.where(new_1%2 == 0)\n",
    "s"
   ]
  },
  {
   "cell_type": "code",
   "execution_count": 62,
   "id": "43027ab6-c716-4fc1-9cbe-71e2812eb7be",
   "metadata": {},
   "outputs": [
    {
     "name": "stdout",
     "output_type": "stream",
     "text": [
      "(array([0, 4, 6, 8], dtype=int64),)\n"
     ]
    }
   ],
   "source": [
    "new_1 = np.array([1, 2, 4, 6, 7, 8, 9,2, 3, 4, 6])\n",
    "s = np.where(new_1%2 == 1)\n",
    "print(s)"
   ]
  },
  {
   "cell_type": "code",
   "execution_count": 78,
   "id": "0693f0f2-22ad-4b66-bd27-fc7b27e72302",
   "metadata": {},
   "outputs": [
    {
     "name": "stdout",
     "output_type": "stream",
     "text": [
      "1\n"
     ]
    }
   ],
   "source": [
    "new_1 = np.array([1, 2, 4, 6])\n",
    "s = np.searchsorted(new_1, 2)\n",
    "print(s)"
   ]
  },
  {
   "cell_type": "code",
   "execution_count": 82,
   "id": "d425b3aa-4fc8-4cb5-ad19-bee39da3b261",
   "metadata": {},
   "outputs": [
    {
     "name": "stdout",
     "output_type": "stream",
     "text": [
      "2\n"
     ]
    }
   ],
   "source": [
    "new_1 = np.array([1, 2, 4, 6,])\n",
    "s = np.searchsorted(new_1, 2, side = 'right')\n",
    "print(s)"
   ]
  },
  {
   "cell_type": "code",
   "execution_count": 81,
   "id": "883021a7-6051-4939-9afd-d4de6deee2d3",
   "metadata": {},
   "outputs": [
    {
     "name": "stdout",
     "output_type": "stream",
     "text": [
      "[0 1 2 3 4]\n"
     ]
    }
   ],
   "source": [
    "new_1 = np.array([1, 2, 4, 6, 7, 8, 9])\n",
    "s = np.searchsorted(new_1,[1, 2, 4 ,6, 7])\n",
    "print(s)"
   ]
  },
  {
   "cell_type": "markdown",
   "id": "ff1f3bfa-fe00-4692-a02d-f4e7ed513119",
   "metadata": {},
   "source": [
    "# Sorting "
   ]
  },
  {
   "cell_type": "code",
   "execution_count": 85,
   "id": "1edbf38b-069e-4cb5-a546-cff34c26ea8d",
   "metadata": {},
   "outputs": [
    {
     "name": "stdout",
     "output_type": "stream",
     "text": [
      "[1 2 3 4 5]\n"
     ]
    }
   ],
   "source": [
    "srt = np.array([1, 3, 5, 2, 4])\n",
    "print(np.sort(srt))"
   ]
  },
  {
   "cell_type": "code",
   "execution_count": 90,
   "id": "4cff0352-2e02-4808-8d94-b43a677a1f99",
   "metadata": {},
   "outputs": [
    {
     "name": "stdout",
     "output_type": "stream",
     "text": [
      "[1 2 3 4 5 8]\n"
     ]
    }
   ],
   "source": [
    "srt = np.array([[1, 3, 5] , [2, 4, 8]])\n",
    "c = np.concatenate(srt)\n",
    "print(np.sort(c))"
   ]
  },
  {
   "cell_type": "code",
   "execution_count": 92,
   "id": "07459ebd-19cf-4bcc-9e76-6cc99091d4ca",
   "metadata": {},
   "outputs": [
    {
     "data": {
      "text/plain": [
       "array(['aizam', 'lisat', 'nadeem', 'wahid'], dtype='<U6')"
      ]
     },
     "execution_count": 92,
     "metadata": {},
     "output_type": "execute_result"
    }
   ],
   "source": [
    "str = np.array(['nadeem', 'lisat', 'wahid', 'aizam'])\n",
    "np.sort(str)"
   ]
  },
  {
   "cell_type": "markdown",
   "id": "8af5d0ef-e932-4da6-a2f5-d9cd3665ecce",
   "metadata": {},
   "source": [
    "# Filtering "
   ]
  },
  {
   "cell_type": "code",
   "execution_count": 100,
   "id": "66ffb616-9b72-4f3a-99ef-bf6146bf4781",
   "metadata": {},
   "outputs": [
    {
     "name": "stdout",
     "output_type": "stream",
     "text": [
      "[ 2  5  7  9 11]\n"
     ]
    }
   ],
   "source": [
    "x = np.array([1, 2, 3, 5, 6 ,7, 8, 9, 10, 11])\n",
    "y = [False, True, False, True, False, True, False, True, False, True]\n",
    "z = x[y]\n",
    "print(z)"
   ]
  },
  {
   "cell_type": "code",
   "execution_count": 112,
   "id": "c8222bf7-ffe8-436c-a641-e74c7bccfbd9",
   "metadata": {},
   "outputs": [
    {
     "name": "stdout",
     "output_type": "stream",
     "text": [
      "[3 4 4 5 6 5 6 7]\n",
      "[False, True, False, True, True, True, True, True, True, True]\n"
     ]
    }
   ],
   "source": [
    "x = np.array([1, 3, 2, 4, 4, 5, 6, 5, 6, 7 ])\n",
    "\n",
    "filter_array = []\n",
    "\n",
    "for i in x:\n",
    "    if i >= 3:\n",
    "        filter_array.append(True)\n",
    "    else:\n",
    "        filter_array.append(False)\n",
    "new = x[filter_array]\n",
    "print(new)\n",
    "print(filter_array)\n",
    "        "
   ]
  },
  {
   "cell_type": "code",
   "execution_count": 113,
   "id": "b8ec1c2f-ba05-4a96-a2f6-104bcd3606c8",
   "metadata": {},
   "outputs": [
    {
     "name": "stdout",
     "output_type": "stream",
     "text": [
      "[False  True False  True False  True False  True False  True]\n"
     ]
    }
   ],
   "source": [
    "new = np.array([1, 2, 3, 4, 5, 6, 7, 8, 9, 10])\n",
    "filter_array = new % 2==0\n",
    "print(filter_array)"
   ]
  },
  {
   "cell_type": "code",
   "execution_count": 114,
   "id": "51ae6d44-b063-4eaf-82ca-2fa19709cd0e",
   "metadata": {},
   "outputs": [
    {
     "name": "stdout",
     "output_type": "stream",
     "text": [
      "[ True False  True False  True False  True False  True False]\n"
     ]
    }
   ],
   "source": [
    "new = np.array([1, 2, 3, 4, 5, 6, 7, 8, 9, 10])\n",
    "filter_array = new % 2==1\n",
    "print(filter_array)"
   ]
  },
  {
   "cell_type": "code",
   "execution_count": 115,
   "id": "cc2b4005-b139-4ee4-adec-934c44e04bf6",
   "metadata": {},
   "outputs": [
    {
     "name": "stdout",
     "output_type": "stream",
     "text": [
      "[ True  True  True  True  True  True False False False False]\n"
     ]
    }
   ],
   "source": [
    "new = np.array([1, 2, 3, 4, 5, 6, 7, 8, 9, 10])\n",
    "filter_array = new < 7\n",
    "print(filter_array)"
   ]
  },
  {
   "cell_type": "markdown",
   "id": "65c396ad-1ed5-49d6-b3e9-ec871547a6f1",
   "metadata": {},
   "source": [
    "# Random , Rand and Randint"
   ]
  },
  {
   "cell_type": "code",
   "execution_count": 119,
   "id": "1359c11c-3f16-4b7f-ba6b-ffed4e5592c6",
   "metadata": {},
   "outputs": [
    {
     "name": "stdout",
     "output_type": "stream",
     "text": [
      "14\n"
     ]
    }
   ],
   "source": [
    "from numpy import random\n",
    "x = np.random.randint(100)\n",
    "print(x)"
   ]
  },
  {
   "cell_type": "code",
   "execution_count": 120,
   "id": "8c524010-3ce8-475e-b70d-3ce5fdf548f9",
   "metadata": {},
   "outputs": [
    {
     "name": "stdout",
     "output_type": "stream",
     "text": [
      "0.7211952749230625\n"
     ]
    }
   ],
   "source": [
    "x = np.random.rand()\n",
    "print(x)"
   ]
  },
  {
   "cell_type": "code",
   "execution_count": 122,
   "id": "3ab39c0e-d555-4b57-94f0-1ae8df7ab717",
   "metadata": {},
   "outputs": [
    {
     "name": "stdout",
     "output_type": "stream",
     "text": [
      "[24 82 62 48 65 17 95 96 77 76]\n"
     ]
    }
   ],
   "source": [
    "x = np.random.randint(100, size=(10))\n",
    "print(x)"
   ]
  },
  {
   "cell_type": "code",
   "execution_count": 124,
   "id": "6dae328d-7d32-44d3-8385-09ff7d63a1d0",
   "metadata": {},
   "outputs": [
    {
     "name": "stdout",
     "output_type": "stream",
     "text": [
      "[[74 35 85 16 62 16 81 27 18 42]\n",
      " [50 81 65 69 91  8  3 43 24 12]\n",
      " [48 95 37 80 94 92 29  4 83  9]\n",
      " [80 51 74 15  0 31 60 87 73 77]\n",
      " [41 79  9 27 94 95 67 39 42  1]\n",
      " [35 36 24 32 60 37 90 28 40 97]\n",
      " [76 91 23 31 17 32 78 65 96 20]\n",
      " [23 50 97 55 41 64 56 42 86 42]\n",
      " [41 37  8 26 43 52 87 69 52 95]\n",
      " [29 47 76 97 43 30 21  8 44 43]]\n"
     ]
    }
   ],
   "source": [
    "x = np.random.randint(100, size=(10, 10))\n",
    "print(x)"
   ]
  },
  {
   "cell_type": "code",
   "execution_count": 127,
   "id": "03ed830d-2a51-4cfc-881b-178e9bb74304",
   "metadata": {},
   "outputs": [
    {
     "name": "stdout",
     "output_type": "stream",
     "text": [
      "[[0.6215231  0.14048638 0.03928136]\n",
      " [0.95951675 0.36216125 0.51542822]\n",
      " [0.06673339 0.39817162 0.98948809]\n",
      " [0.68848971 0.2138442  0.66670067]\n",
      " [0.75250477 0.27449183 0.4504604 ]]\n"
     ]
    }
   ],
   "source": [
    "x = np.random.rand(5,  3)\n",
    "print(x)"
   ]
  },
  {
   "cell_type": "code",
   "execution_count": 137,
   "id": "07643768-661f-44ab-aa32-79a889b8332b",
   "metadata": {},
   "outputs": [
    {
     "name": "stdout",
     "output_type": "stream",
     "text": [
      "[[6 9 8 1 3 9 3 8 9 7]\n",
      " [7 3 8 7 9 1 8 4 7 6]\n",
      " [7 3 1 6 4 7 1 4 6 9]\n",
      " [5 5 7 5 8 4 5 5 3 8]]\n"
     ]
    }
   ],
   "source": [
    "x = np.random.choice([1, 3, 4, 5, 6 ,7 ,9, 8], size = (4, 10))\n",
    "print(x)"
   ]
  },
  {
   "cell_type": "code",
   "execution_count": 142,
   "id": "0d194e57-92b4-4f8d-a793-f78b8352de31",
   "metadata": {},
   "outputs": [
    {
     "name": "stdout",
     "output_type": "stream",
     "text": [
      "[7 5 7 7 5 5 7 5 3 7 7 5 5 7 7 5 5 5 7 7 7 7 7 3 7 7 7 7 5 3 5 5 5 7 5 7 7\n",
      " 7 3 5 7 7 7 7 7 7 7 5 7 7 7 5 5 7 5 7 7 7 5 7 7 5 3 7 7 3 7 5 5 7 7 7 5 5\n",
      " 7 7 5 5 7 7 7 3 5 7 7 3 5 7 7 3 5 5 7 7 5 5 7 7 7 7]\n"
     ]
    }
   ],
   "source": [
    "x = random.choice([3, 5, 7, 9], p=[0.1, 0.3, 0.6, 0.0], size=(100))\n",
    "\n",
    "print(x)"
   ]
  },
  {
   "cell_type": "code",
   "execution_count": 150,
   "id": "973db8c0-eda9-498e-b914-cd02894a23b8",
   "metadata": {},
   "outputs": [
    {
     "name": "stdout",
     "output_type": "stream",
     "text": [
      "[[3 7 7 5 5 7 5 7 5]\n",
      " [3 7 7 7 7 5 7 7 3]\n",
      " [5 7 7 7 7 5 5 3 7]\n",
      " [7 7 5 5 7 7 7 5 7]]\n"
     ]
    }
   ],
   "source": [
    "x = random.choice([3, 5, 7, 9], p=[0.1, 0.3, 0.6, 0.0], size=(4, 9))\n",
    "\n",
    "print(x)"
   ]
  },
  {
   "cell_type": "markdown",
   "id": "775a6598-803d-40d6-829a-a2b586e5952a",
   "metadata": {},
   "source": [
    "# Permutation and shuffling"
   ]
  },
  {
   "cell_type": "code",
   "execution_count": 155,
   "id": "15e09c74-4c38-4d97-81dd-fbda6eb73d8f",
   "metadata": {},
   "outputs": [
    {
     "data": {
      "text/plain": [
       "array([1, 6, 4, 5, 3, 7, 2])"
      ]
     },
     "execution_count": 155,
     "metadata": {},
     "output_type": "execute_result"
    }
   ],
   "source": [
    "# shuffling the elements from the array\n",
    "# here we can shuffle the element in the original array \n",
    "\n",
    "shf = np.array([1, 2, 3, 4, 5, 6, 7])\n",
    "new = random.shuffle(shf)\n",
    "shf"
   ]
  },
  {
   "cell_type": "code",
   "execution_count": 157,
   "id": "fd7bedb0-c6e1-4cc5-89ce-de03773ed001",
   "metadata": {},
   "outputs": [
    {
     "name": "stdout",
     "output_type": "stream",
     "text": [
      "[4 1 7 5 2 3 6]\n"
     ]
    }
   ],
   "source": [
    "shf = np.array([1, 2, 3, 4, 5, 6, 7])\n",
    "print(random.permutation(shf))"
   ]
  },
  {
   "cell_type": "markdown",
   "id": "c836c266-2d75-423c-a4a4-b14eac269550",
   "metadata": {},
   "source": [
    "# Seaborn "
   ]
  },
  {
   "cell_type": "code",
   "execution_count": 159,
   "id": "920bb313-bffc-481d-9dd6-095994b0f16c",
   "metadata": {},
   "outputs": [
    {
     "name": "stdout",
     "output_type": "stream",
     "text": [
      "Requirement already satisfied: seaborn in c:\\users\\ehtijad\\anaconda3\\lib\\site-packages (0.13.2)\n",
      "Requirement already satisfied: numpy!=1.24.0,>=1.20 in c:\\users\\ehtijad\\anaconda3\\lib\\site-packages (from seaborn) (1.26.4)\n",
      "Requirement already satisfied: pandas>=1.2 in c:\\users\\ehtijad\\anaconda3\\lib\\site-packages (from seaborn) (2.2.2)\n",
      "Requirement already satisfied: matplotlib!=3.6.1,>=3.4 in c:\\users\\ehtijad\\anaconda3\\lib\\site-packages (from seaborn) (3.8.4)\n",
      "Requirement already satisfied: contourpy>=1.0.1 in c:\\users\\ehtijad\\anaconda3\\lib\\site-packages (from matplotlib!=3.6.1,>=3.4->seaborn) (1.2.0)\n",
      "Requirement already satisfied: cycler>=0.10 in c:\\users\\ehtijad\\anaconda3\\lib\\site-packages (from matplotlib!=3.6.1,>=3.4->seaborn) (0.11.0)\n",
      "Requirement already satisfied: fonttools>=4.22.0 in c:\\users\\ehtijad\\anaconda3\\lib\\site-packages (from matplotlib!=3.6.1,>=3.4->seaborn) (4.51.0)\n",
      "Requirement already satisfied: kiwisolver>=1.3.1 in c:\\users\\ehtijad\\anaconda3\\lib\\site-packages (from matplotlib!=3.6.1,>=3.4->seaborn) (1.4.4)\n",
      "Requirement already satisfied: packaging>=20.0 in c:\\users\\ehtijad\\anaconda3\\lib\\site-packages (from matplotlib!=3.6.1,>=3.4->seaborn) (23.2)\n",
      "Requirement already satisfied: pillow>=8 in c:\\users\\ehtijad\\anaconda3\\lib\\site-packages (from matplotlib!=3.6.1,>=3.4->seaborn) (10.3.0)\n",
      "Requirement already satisfied: pyparsing>=2.3.1 in c:\\users\\ehtijad\\anaconda3\\lib\\site-packages (from matplotlib!=3.6.1,>=3.4->seaborn) (3.0.9)\n",
      "Requirement already satisfied: python-dateutil>=2.7 in c:\\users\\ehtijad\\anaconda3\\lib\\site-packages (from matplotlib!=3.6.1,>=3.4->seaborn) (2.9.0.post0)\n",
      "Requirement already satisfied: pytz>=2020.1 in c:\\users\\ehtijad\\anaconda3\\lib\\site-packages (from pandas>=1.2->seaborn) (2024.1)\n",
      "Requirement already satisfied: tzdata>=2022.7 in c:\\users\\ehtijad\\anaconda3\\lib\\site-packages (from pandas>=1.2->seaborn) (2023.3)\n",
      "Requirement already satisfied: six>=1.5 in c:\\users\\ehtijad\\anaconda3\\lib\\site-packages (from python-dateutil>=2.7->matplotlib!=3.6.1,>=3.4->seaborn) (1.16.0)\n"
     ]
    }
   ],
   "source": [
    "! pip install seaborn"
   ]
  },
  {
   "cell_type": "code",
   "execution_count": 7,
   "id": "54440a8c-2fe7-4a3b-b14e-fbe37b38f0f5",
   "metadata": {},
   "outputs": [
    {
     "data": {
      "image/png": "[encoded data removed]",
      "text/plain": [
       "<Figure size 500x300 with 1 Axes>"
      ]
     },
     "metadata": {},
     "output_type": "display_data"
    }
   ],
   "source": [
    "import seaborn as sns\n",
    "import matplotlib.pyplot as plt\n",
    "import numpy as np\n",
    "import warnings\n",
    "warnings.filterwarnings('ignore')\n",
    "plt.figure(figsize=(5, 3))\n",
    "sea_b = np.array([1, 2, 3, 4, 5, 6])\n",
    "sns.distplot(sea_b)\n",
    "plt.show()"
   ]
  },
  {
   "cell_type": "code",
   "execution_count": 8,
   "id": "00035616-798e-4193-84b7-7ba5a3221be8",
   "metadata": {},
   "outputs": [
    {
     "data": {
      "image/png": "[encoded data removed]",
      "text/plain": [
       "<Figure size 500x300 with 1 Axes>"
      ]
     },
     "metadata": {},
     "output_type": "display_data"
    }
   ],
   "source": [
    "plt.figure(figsize=(5, 3))\n",
    "sns.distplot([1, 2, 3, 4, 5, 6], hist = False)\n",
    "plt.show()"
   ]
  },
  {
   "cell_type": "markdown",
   "id": "b61d35c4-b1c0-4247-9603-9831ad0f1264",
   "metadata": {},
   "source": [
    "# Numpy Normal(Gaussian) Distribution"
   ]
  },
  {
   "cell_type": "code",
   "execution_count": 9,
   "id": "5a58e4c3-e5f0-46ee-ae79-7e8bafb69220",
   "metadata": {},
   "outputs": [
    {
     "data": {
      "text/plain": [
       "array([[ 1.42134305, -1.31208088, -0.63678115,  0.71918455, -0.68797841],\n",
       "       [-0.79232939,  0.07315904, -0.25739135, -2.48760267,  0.49986516],\n",
       "       [ 0.50384645, -0.18779123, -1.00180255,  0.82007797, -1.56969965],\n",
       "       [ 1.52108739,  1.87101683, -0.07776855,  1.30073473,  1.19125762]])"
      ]
     },
     "execution_count": 9,
     "metadata": {},
     "output_type": "execute_result"
    }
   ],
   "source": [
    "# Normal distribution parameters\n",
    "# loc = mean\n",
    "# scale = standard deviatation\n",
    "# size  = shape os return array\n",
    "\n",
    "gus_dis = random.normal(size  = (4, 5))\n",
    "gus_dis"
   ]
  },
  {
   "cell_type": "code",
   "execution_count": 10,
   "id": "26addcdb-f857-4c66-aece-679c87152320",
   "metadata": {},
   "outputs": [
    {
     "data": {
      "text/plain": [
       "array([[ 5.12882764, -1.31815011, -0.05626929,  1.20198168,  0.4201435 ],\n",
       "       [-0.74153685, -2.09511922, -1.76390597, -0.65202073, -0.97996522],\n",
       "       [ 3.52947617, -0.66695753,  2.17999282,  1.5785903 ,  2.1938487 ],\n",
       "       [ 1.45148431,  1.5190113 ,  2.40622482,  0.95129213,  0.59362056]])"
      ]
     },
     "execution_count": 10,
     "metadata": {},
     "output_type": "execute_result"
    }
   ],
   "source": [
    "gus_dis = random.normal(loc = 1, scale = 2 , size  = (4, 5))\n",
    "gus_dis"
   ]
  },
  {
   "cell_type": "code",
   "execution_count": 11,
   "id": "218bea9b-9ec2-4769-8848-51c390ed87e9",
   "metadata": {},
   "outputs": [
    {
     "data": {
      "image/png": "[encoded data removed]",
      "text/plain": [
       "<Figure size 500x300 with 1 Axes>"
      ]
     },
     "metadata": {},
     "output_type": "display_data"
    }
   ],
   "source": [
    "plt.figure(figsize = (5, 3))\n",
    "sns.distplot(gus_dis, hist = False)\n",
    "plt.show()"
   ]
  },
  {
   "cell_type": "code",
   "execution_count": 12,
   "id": "3ede172e-d0dc-4bcb-aa89-2b83fc311584",
   "metadata": {},
   "outputs": [
    {
     "data": {
      "image/png": "[encoded data removed]",
      "text/plain": [
       "<Figure size 500x300 with 1 Axes>"
      ]
     },
     "metadata": {},
     "output_type": "display_data"
    }
   ],
   "source": [
    "plt.figure(figsize = (5, 3))\n",
    "sns.distplot(random.normal(size=1000), hist = False)\n",
    "plt.show()"
   ]
  },
  {
   "cell_type": "markdown",
   "id": "31b8ef23-44c4-47c2-80a3-2aa76127d67b",
   "metadata": {},
   "source": [
    "# Binomial Distribution"
   ]
  },
  {
   "cell_type": "code",
   "execution_count": 13,
   "id": "7b818870-74a0-42b6-af09-96ab8655f15f",
   "metadata": {},
   "outputs": [
    {
     "data": {
      "text/plain": [
       "array([7, 3, 5, 7, 5, 4, 5, 5, 6, 3, 7, 2, 4, 5, 3, 6, 5, 5, 6, 5, 4, 6,\n",
       "       6, 7, 3, 6, 6, 6, 6, 7, 2, 4, 7, 6, 4, 6, 7, 7, 6, 6, 7, 4, 6, 6,\n",
       "       5, 4, 3, 7, 6, 5, 6, 4, 6, 4, 3, 7, 1, 4, 4, 8, 3, 6, 3, 6, 5, 3,\n",
       "       4, 4, 1, 6, 6, 5, 5, 6, 4, 4, 3, 5, 7, 3, 2, 6, 4, 5, 4, 4, 5, 5,\n",
       "       4, 6, 6, 8, 3, 5, 3, 5, 5, 3, 2, 3])"
      ]
     },
     "execution_count": 13,
     "metadata": {},
     "output_type": "execute_result"
    }
   ],
   "source": [
    "# Parameters of Binomial Distribution\n",
    "# n = number of turns\n",
    "# p = occurance or probablity \n",
    "# size = return array\n",
    "new = random.binomial(n= 10, p = 0.5, size = 100)\n",
    "new"
   ]
  },
  {
   "cell_type": "code",
   "execution_count": 14,
   "id": "52e49e52-2e6e-4a9e-aeae-533c0e52d96a",
   "metadata": {},
   "outputs": [
    {
     "data": {
      "image/png": "[encoded data removed]",
      "text/plain": [
       "<Figure size 500x300 with 1 Axes>"
      ]
     },
     "metadata": {},
     "output_type": "display_data"
    }
   ],
   "source": [
    "plt.figure(figsize = (5, 3))\n",
    "sns.distplot(random.binomial(n= 10, p = 0.5, size = 1000), hist = True, kde = True)\n",
    "plt.show()"
   ]
  },
  {
   "cell_type": "code",
   "execution_count": 15,
   "id": "b8098865-ce43-4138-87f2-77604687411c",
   "metadata": {},
   "outputs": [
    {
     "data": {
      "image/png": "[encoded data removed]",
      "text/plain": [
       "<Figure size 600x400 with 1 Axes>"
      ]
     },
     "metadata": {},
     "output_type": "display_data"
    }
   ],
   "source": [
    "# now we can compare the normal and binomial distribution while visualizaing the graph\n",
    "plt.figure(figsize = (6, 4))\n",
    "sns.distplot(random.normal(loc = 50, scale = 5, size = 1000), hist = False , label = 'Gusssion')\n",
    "sns.distplot(random.binomial(n = 100 , p = 0.5, size = 1000), hist = False , label = 'Binomial')\n",
    "plt.show()\n",
    "\n",
    "             "
   ]
  },
  {
   "cell_type": "markdown",
   "id": "9d9a037a-9831-4995-81cc-90ac1f4032b9",
   "metadata": {},
   "source": [
    "# Poisson Distribution"
   ]
  },
  {
   "cell_type": "code",
   "execution_count": 16,
   "id": "59dc773c-be51-494f-87cc-f4e674cee3b7",
   "metadata": {},
   "outputs": [
    {
     "data": {
      "text/plain": [
       "array([10,  6,  7,  6,  6,  6,  2,  6, 10,  4])"
      ]
     },
     "execution_count": 16,
     "metadata": {},
     "output_type": "execute_result"
    }
   ],
   "source": [
    "# how many time an event occurs\n",
    "# Parameters = lam (rate of occurance)\n",
    "# size\n",
    "\n",
    "new = random.poisson(lam = 5, size = 10)\n",
    "new"
   ]
  },
  {
   "cell_type": "code",
   "execution_count": 17,
   "id": "085cd37d-2bea-41e5-9d87-487bcca1bf58",
   "metadata": {},
   "outputs": [
    {
     "data": {
      "image/png": "[encoded data removed]",
      "text/plain": [
       "<Figure size 600x400 with 1 Axes>"
      ]
     },
     "metadata": {},
     "output_type": "display_data"
    }
   ],
   "source": [
    "plt.figure(figsize = (6, 4))\n",
    "sns.distplot(random.poisson(lam = 5, size = 10), hist = False)\n",
    "plt.show()"
   ]
  },
  {
   "cell_type": "code",
   "execution_count": 18,
   "id": "faa91a4b-6f38-4e00-ac38-72599eb4591e",
   "metadata": {},
   "outputs": [
    {
     "data": {
      "image/png": "[encoded data removed]",
      "text/plain": [
       "<Figure size 500x300 with 1 Axes>"
      ]
     },
     "metadata": {},
     "output_type": "display_data"
    }
   ],
   "source": [
    "import seaborn as sns\n",
    "import numpy as np\n",
    "from numpy import random\n",
    "import matplotlib.pyplot as plt\n",
    "import warnings\n",
    "warnings.filterwarnings('ignore')\n",
    "# compare normal , binomial and posson with visualzation\n",
    "plt.figure(figsize = (5, 3))\n",
    "sns.distplot(random.normal(loc = 5, scale = 0.5, size =1000), hist = False)\n",
    "sns.distplot(random.binomial(n = 10, p = 0.5, size = 1000), hist = False , kde = True)\n",
    "sns.distplot(random.poisson(lam = 5, size = 1000), hist = False)\n",
    "plt.show()            "
   ]
  },
  {
   "cell_type": "markdown",
   "id": "6bf6f6e0-cd5d-476f-a0e2-9f5cbc93d4cc",
   "metadata": {},
   "source": [
    "# Uniform Distribution"
   ]
  },
  {
   "cell_type": "code",
   "execution_count": 19,
   "id": "3bdf3dea-931f-4d16-87cb-30d9f0e813d3",
   "metadata": {},
   "outputs": [
    {
     "data": {
      "text/plain": [
       "array([[0.65086631, 0.92950768, 0.34955319, 0.77851555, 0.35625695],\n",
       "       [0.32896661, 0.05442304, 0.87824191, 0.68598017, 0.05404474],\n",
       "       [0.34032153, 0.69310425, 0.90226276, 0.79565938, 0.41194655],\n",
       "       [0.37480534, 0.84191427, 0.96883891, 0.05704722, 0.51037872],\n",
       "       [0.35270889, 0.42483252, 0.99429541, 0.9914835 , 0.2012937 ]])"
      ]
     },
     "execution_count": 19,
     "metadata": {},
     "output_type": "execute_result"
    }
   ],
   "source": [
    "# it only made for probablity \n",
    "# parameters = a (lower bound 0.0), b(upper bound 1.0), size\n",
    "\n",
    "x = random.uniform(size =(5, 5))\n",
    "x"
   ]
  },
  {
   "cell_type": "code",
   "execution_count": 20,
   "id": "e3c48e34-f962-4301-8435-ff36bce7d3a2",
   "metadata": {},
   "outputs": [
    {
     "data": {
      "image/png": "[encoded data removed]",
      "text/plain": [
       "<Figure size 500x300 with 1 Axes>"
      ]
     },
     "metadata": {},
     "output_type": "display_data"
    }
   ],
   "source": [
    "plt.figure(figsize = (5, 3))\n",
    "sns.distplot(random.uniform(size = 1000), hist = False)\n",
    "plt.show()"
   ]
  },
  {
   "cell_type": "markdown",
   "id": "6eab0834-195b-4040-a806-84a8437285e0",
   "metadata": {},
   "source": [
    "# Logistic Distribution"
   ]
  },
  {
   "cell_type": "code",
   "execution_count": 21,
   "id": "91850d36-19f8-4459-b055-3025190d3eb2",
   "metadata": {},
   "outputs": [
    {
     "data": {
      "text/plain": [
       "array([[-1.26545893, -0.57313274,  1.01007328],\n",
       "       [-6.7967446 , -4.45808563,  4.59237136],\n",
       "       [ 3.59776613, -1.78761114,  5.36761506]])"
      ]
     },
     "execution_count": 21,
     "metadata": {},
     "output_type": "execute_result"
    }
   ],
   "source": [
    "# describe growth it is basically used for Regression and Neural Networks\n",
    "# parameters = loc(mean 0), scale(standard devation 0), size\n",
    "\n",
    "std_dev = random.logistic(loc = 1, scale = 2, size = (3, 3))\n",
    "std_dev"
   ]
  },
  {
   "cell_type": "code",
   "execution_count": 22,
   "id": "001aa4b1-0d6f-4fb7-a93f-381edd1b9741",
   "metadata": {},
   "outputs": [
    {
     "data": {
      "image/png": "[encoded data removed]",
      "text/plain": [
       "<Figure size 500x300 with 1 Axes>"
      ]
     },
     "metadata": {},
     "output_type": "display_data"
    }
   ],
   "source": [
    "plt.figure(figsize = (5, 3))\n",
    "sns.distplot(random.logistic(size = 1000), hist = False)\n",
    "plt.show()"
   ]
  },
  {
   "cell_type": "markdown",
   "id": "4ae6fb81-9ea6-4f4e-889e-bab266563ce7",
   "metadata": {},
   "source": [
    "# Multinomial Distribution"
   ]
  },
  {
   "cell_type": "code",
   "execution_count": 23,
   "id": "9ac86d8d-bd59-479f-beee-2830bbb578f1",
   "metadata": {},
   "outputs": [
    {
     "data": {
      "text/plain": [
       "array([0, 1, 3, 2, 0, 0])"
      ]
     },
     "execution_count": 23,
     "metadata": {},
     "output_type": "execute_result"
    }
   ],
   "source": [
    "# it is the generalized form of binomiall distribution\n",
    "# parameters = n(no of probablity or outcome) , pvals(list of probablity or outcome), size\n",
    "\n",
    "mult_dis = random.multinomial(n = 6, pvals =[1/6, 1/6, 1/6,1/6, 1/6, 1/6])\n",
    "mult_dis"
   ]
  },
  {
   "cell_type": "code",
   "execution_count": 24,
   "id": "cb370e20-6d20-468c-b74f-030ab5fdfa6e",
   "metadata": {},
   "outputs": [
    {
     "data": {
      "image/png": "[encoded data removed]",
      "text/plain": [
       "<Figure size 500x300 with 1 Axes>"
      ]
     },
     "metadata": {},
     "output_type": "display_data"
    }
   ],
   "source": [
    "plt.figure(figsize = (5, 3))\n",
    "sns.distplot(random.binomial(n = 6, p = 0.5, size = 1000), hist = False)\n",
    "sns.distplot(random.multinomial(n = 6, pvals = [1/6, 1/6, 1/6,1/6, 1/6, 1/6], size = 1000), hist = False)\n",
    "plt.show()"
   ]
  },
  {
   "cell_type": "markdown",
   "id": "5907f971-5f0f-4bd8-bcd5-659f0fbcbd0f",
   "metadata": {},
   "source": [
    "# Exponential Distribution"
   ]
  },
  {
   "cell_type": "code",
   "execution_count": 25,
   "id": "650a105f-e5cc-4192-b497-ff9e56becae9",
   "metadata": {},
   "outputs": [
    {
     "data": {
      "text/plain": [
       "array([[ 1.23435594,  2.78296091,  0.32027136,  0.42381114],\n",
       "       [14.04072387,  1.12972405,  1.10864119,  3.76631886],\n",
       "       [ 0.82223387,  2.67600046,  3.51654203,  0.24790927]])"
      ]
     },
     "execution_count": 25,
     "metadata": {},
     "output_type": "execute_result"
    }
   ],
   "source": [
    "# it is a used for describing the the the time till the next event occur that is like failure or success\n",
    "# parameters = scale, size\n",
    "\n",
    "exp_dis = random.exponential(scale = 2, size =(3, 4))\n",
    "exp_dis"
   ]
  },
  {
   "cell_type": "code",
   "execution_count": 26,
   "id": "f21d236d-94e7-4359-9a4d-dad0603e4088",
   "metadata": {},
   "outputs": [
    {
     "data": {
      "image/png": "[encoded data removed]",
      "text/plain": [
       "<Figure size 640x480 with 1 Axes>"
      ]
     },
     "metadata": {},
     "output_type": "display_data"
    }
   ],
   "source": [
    "sns.distplot(random.exponential(size = 1000),hist = False)\n",
    "plt.show()"
   ]
  },
  {
   "cell_type": "markdown",
   "id": "90d2b266-f40b-4f40-a209-05c4b0cf816a",
   "metadata": {},
   "source": [
    "# Chi Square Distribution"
   ]
  },
  {
   "cell_type": "code",
   "execution_count": 27,
   "id": "4aef90c5-66f1-49f3-bedb-f0d2bedbb5c2",
   "metadata": {},
   "outputs": [
    {
     "data": {
      "text/plain": [
       "array([[ 0.07461499,  0.11445476,  3.41501076,  6.80606548,  2.96790309],\n",
       "       [ 0.85151846,  0.92058786,  0.49141499,  0.31388602,  3.3899418 ],\n",
       "       [ 4.11304374,  2.02548742,  2.97192147,  1.25769721,  0.14462658],\n",
       "       [ 4.2750199 , 10.5304953 ,  0.68028135,  0.89735389,  2.26817671]])"
      ]
     },
     "execution_count": 27,
     "metadata": {},
     "output_type": "execute_result"
    }
   ],
   "source": [
    "# it is basically used for verifty the hypothesis\n",
    "# parameters = df (degree of freedom), size\n",
    "\n",
    "chisq_dis = random.chisquare(df= 2, size = (4, 5))\n",
    "chisq_dis"
   ]
  },
  {
   "cell_type": "code",
   "execution_count": 28,
   "id": "ca8ace9f-6546-4051-9405-87496d0ef5c1",
   "metadata": {},
   "outputs": [
    {
     "data": {
      "text/plain": [
       "<Axes: ylabel='Density'>"
      ]
     },
     "execution_count": 28,
     "metadata": {},
     "output_type": "execute_result"
    },
    {
     "data": {
      "image/png": "[encoded data removed]",
      "text/plain": [
       "<Figure size 500x300 with 1 Axes>"
      ]
     },
     "metadata": {},
     "output_type": "display_data"
    }
   ],
   "source": [
    "plt.figure(figsize = (5, 3))\n",
    "sns.distplot(random.chisquare(df= 1, size = 1000), hist = False)"
   ]
  },
  {
   "cell_type": "markdown",
   "id": "3212fa64-73ea-4c88-8a74-f82c127f1d04",
   "metadata": {},
   "source": [
    "# Rayliegh Distribution\n",
    "\n",
    "### it is used in single preprocessing"
   ]
  },
  {
   "cell_type": "code",
   "execution_count": 29,
   "id": "a51daa31-d52c-4077-9364-50a89c589380",
   "metadata": {},
   "outputs": [
    {
     "data": {
      "text/plain": [
       "array([[2.62491163, 3.78472403, 1.07411676, 1.75999023],\n",
       "       [2.11527317, 1.82336083, 2.68155063, 1.5490673 ],\n",
       "       [1.98627061, 2.08071981, 0.7688958 , 3.41307188],\n",
       "       [2.70296542, 2.37749476, 2.22243188, 1.8602366 ],\n",
       "       [1.59033444, 2.40119141, 6.03437184, 3.40937399]])"
      ]
     },
     "execution_count": 29,
     "metadata": {},
     "output_type": "execute_result"
    }
   ],
   "source": [
    "# Parameters : Scale(Standard Deviation , how flat the Distribution is, defalult value 1.0)\n",
    "from numpy import random\n",
    "new = random.rayleigh(scale = 2, size = (5, 4))\n",
    "new"
   ]
  },
  {
   "cell_type": "code",
   "execution_count": 30,
   "id": "3172a216-335c-48ce-a8f9-902c35efbfea",
   "metadata": {},
   "outputs": [
    {
     "data": {
      "image/png": "[encoded data removed]",
      "text/plain": [
       "<Figure size 500x300 with 1 Axes>"
      ]
     },
     "metadata": {},
     "output_type": "display_data"
    }
   ],
   "source": [
    "# visualize with graph\n",
    "import matplotlib.pyplot as plt\n",
    "import seaborn as sns\n",
    "import numpy as np\n",
    "plt.figure(figsize = (5, 3))\n",
    "sns.distplot(random.rayleigh(size = 1000), hist = False)\n",
    "plt.show()"
   ]
  },
  {
   "cell_type": "markdown",
   "id": "b65c593d-f382-4409-806c-15257a3fa5c7",
   "metadata": {},
   "source": [
    "# Pareto Distribution\n",
    "\n",
    "### 80:20 ration , 20% factor cause 80% outcome"
   ]
  },
  {
   "cell_type": "code",
   "execution_count": 32,
   "id": "d1b86568-1900-4146-bd4e-86cbeffc106a",
   "metadata": {},
   "outputs": [
    {
     "data": {
      "text/plain": [
       "array([[0.80679237, 0.17268422, 1.0736746 , 0.21778931],\n",
       "       [1.63751508, 0.13287749, 3.66030185, 0.3906501 ],\n",
       "       [0.08021809, 0.55876201, 0.13316262, 0.25469782],\n",
       "       [3.07774882, 2.174204  , 0.30670237, 3.93814286],\n",
       "       [1.98461727, 0.91808443, 0.12834088, 0.02000567]])"
      ]
     },
     "execution_count": 32,
     "metadata": {},
     "output_type": "execute_result"
    }
   ],
   "source": [
    "# parameter = a (shape parameter), size\n",
    "\n",
    "from numpy import random\n",
    "new = random.pareto(a = 2, size = (5, 4))\n",
    "new"
   ]
  },
  {
   "cell_type": "code",
   "execution_count": 36,
   "id": "3a550d31-53b5-44bf-82f9-caced8888003",
   "metadata": {},
   "outputs": [
    {
     "data": {
      "image/png": "[encoded data removed]",
      "text/plain": [
       "<Figure size 500x300 with 1 Axes>"
      ]
     },
     "metadata": {},
     "output_type": "display_data"
    }
   ],
   "source": [
    "plt.figure(figsize = (5, 3))\n",
    "sns.distplot(random.pareto(a = 2, size = 1000), kde = False, hist = True)\n",
    "plt.show()"
   ]
  },
  {
   "cell_type": "markdown",
   "id": "f7bf73b1-8ee3-453c-aa11-76bcf398684a",
   "metadata": {},
   "source": [
    "# Zipf Distribution"
   ]
  },
  {
   "cell_type": "code",
   "execution_count": 37,
   "id": "43191994-b1ac-49b0-919a-117771a7c601",
   "metadata": {},
   "outputs": [
    {
     "data": {
      "text/plain": [
       "array([[42,  3,  1,  1],\n",
       "       [ 1,  1,  1,  1],\n",
       "       [ 1,  5,  1,  1],\n",
       "       [ 1,  4,  1,  1],\n",
       "       [ 1,  1,  4,  4]])"
      ]
     },
     "execution_count": 37,
     "metadata": {},
     "output_type": "execute_result"
    }
   ],
   "source": [
    "# parameters a(dist parameter)\n",
    "\n",
    "from numpy import random\n",
    "new = random.zipf(a = 2, size = (5, 4))\n",
    "new"
   ]
  },
  {
   "cell_type": "code",
   "execution_count": 38,
   "id": "86fabd10-0502-413a-9c79-00d69a40246d",
   "metadata": {},
   "outputs": [
    {
     "data": {
      "image/png": "[encoded data removed]",
      "text/plain": [
       "<Figure size 500x300 with 1 Axes>"
      ]
     },
     "metadata": {},
     "output_type": "display_data"
    }
   ],
   "source": [
    "plt.figure(figsize = (5, 3))\n",
    "sns.distplot(random.zipf(a = 2, size = 1000), kde = False, hist = True)\n",
    "plt.show()"
   ]
  },
  {
   "cell_type": "markdown",
   "id": "7ca3a32b-582f-4d26-8af9-2bd3f9f11d12",
   "metadata": {},
   "source": [
    "# Ufunc \n",
    "\n",
    "### Stands for Universal function and they are actually numpy function that operate on the ndarray object"
   ]
  },
  {
   "cell_type": "code",
   "execution_count": 43,
   "id": "89eec2e0-9c30-48aa-82c6-87b6fe7328cb",
   "metadata": {},
   "outputs": [
    {
     "name": "stdout",
     "output_type": "stream",
     "text": [
      "[6, 8, 10, 12]\n"
     ]
    }
   ],
   "source": [
    "# it also take additional argument like , where , dtype and put\n",
    "#  Vectorization : caonverting the iterative statement into vector base statement\n",
    "x = [1, 2, 3 ,4]\n",
    "y = [5, 6, 7, 8]\n",
    "z = []\n",
    "for i, j in zip(x, y):\n",
    "    z.append(i + j)\n",
    "print(z)"
   ]
  },
  {
   "cell_type": "code",
   "execution_count": 45,
   "id": "eb8fbd15-6229-4492-96db-463663af1c65",
   "metadata": {},
   "outputs": [
    {
     "name": "stdout",
     "output_type": "stream",
     "text": [
      "[ 6  8 10 12]\n"
     ]
    }
   ],
   "source": [
    "# ufunc now we will used add() function\n",
    "x = [1, 2, 3 ,4]\n",
    "y = [5, 6, 7, 8]\n",
    "z = np.add(x, y)\n",
    "print(z)"
   ]
  },
  {
   "cell_type": "markdown",
   "id": "26c365d1-2545-4ad1-9964-79be62465986",
   "metadata": {},
   "source": [
    "# Create Your Own Ufunc"
   ]
  },
  {
   "cell_type": "code",
   "execution_count": 60,
   "id": "6427bb25-27ae-4e81-bf6a-882727552816",
   "metadata": {},
   "outputs": [
    {
     "name": "stdout",
     "output_type": "stream",
     "text": [
      "[3 6 9 13]\n",
      "<class 'numpy.ufunc'>\n",
      "<class 'numpy._ArrayFunctionDispatcher'>\n"
     ]
    }
   ],
   "source": [
    "import numpy as np\n",
    "\n",
    "def myadd(x, y):\n",
    "    return x + y\n",
    "\n",
    "myadd = np.frompyfunc(myadd, 2, 1)\n",
    "print(myadd([1, 2, 3, 5], [2, 4, 6, 8]))\n",
    "\n",
    "# checking this is ufunc is or not\n",
    "import numpy as np\n",
    "print(type(np.add))\n",
    "\n",
    "import numpy as np\n",
    "print(type(np.concatenate))\n"
   ]
  },
  {
   "cell_type": "code",
   "execution_count": 59,
   "id": "20008426-0b80-4cd7-b110-ed6635db59bb",
   "metadata": {},
   "outputs": [
    {
     "name": "stdout",
     "output_type": "stream",
     "text": [
      "Yes, this function is a ufunc\n"
     ]
    }
   ],
   "source": [
    "import numpy as np\n",
    "\n",
    "def myadd(x, y):\n",
    "    return x + y\n",
    "\n",
    "myadd = np.frompyfunc(myadd, 2, 1)\n",
    "\n",
    "if isinstance(myadd, np.ufunc):\n",
    "    print('Yes, this function is a ufunc')\n",
    "else:\n",
    "    print('This function is not a ufunc')\n"
   ]
  },
  {
   "cell_type": "markdown",
   "id": "759664fc-605c-4a87-a7c1-ea73de18009d",
   "metadata": {},
   "source": [
    "# Arithmetic Ufunc"
   ]
  },
  {
   "cell_type": "code",
   "execution_count": 61,
   "id": "3ab69f69-b634-44a2-87b1-f70530613d72",
   "metadata": {},
   "outputs": [
    {
     "data": {
      "text/plain": [
       "array([12, 14, 16, 18, 20, 22, 24])"
      ]
     },
     "execution_count": 61,
     "metadata": {},
     "output_type": "execute_result"
    }
   ],
   "source": [
    "num_1 = np.array([10, 11, 12, 13, 14, 15, 16])\n",
    "num_2 = np.array([2, 3 ,4, 5 ,6, 7, 8])\n",
    "add = np.add(num_1, num_2)\n",
    "add"
   ]
  },
  {
   "cell_type": "code",
   "execution_count": 63,
   "id": "9f4915e9-227f-49ef-9184-5b9e28e62b13",
   "metadata": {},
   "outputs": [
    {
     "data": {
      "text/plain": [
       "array([8, 8, 8, 8, 8, 8, 8])"
      ]
     },
     "execution_count": 63,
     "metadata": {},
     "output_type": "execute_result"
    }
   ],
   "source": [
    "num_1 = np.array([10, 11, 12, 13, 14, 15, 16])\n",
    "num_2 = np.array([2, 3 ,4, 5 ,6, 7, 8])\n",
    "add = np.subtract(num_1, num_2)\n",
    "add"
   ]
  },
  {
   "cell_type": "code",
   "execution_count": 65,
   "id": "12f50ca7-6ceb-4ef0-8c56-0eb484f6e3a1",
   "metadata": {},
   "outputs": [
    {
     "data": {
      "text/plain": [
       "array([ 20,  33,  48,  65,  84, 105, 128])"
      ]
     },
     "execution_count": 65,
     "metadata": {},
     "output_type": "execute_result"
    }
   ],
   "source": [
    "num_1 = np.array([10, 11, 12, 13, 14, 15, 16])\n",
    "num_2 = np.array([2, 3 ,4, 5 ,6, 7, 8])\n",
    "add = np.multiply(num_1, num_2)\n",
    "add"
   ]
  },
  {
   "cell_type": "code",
   "execution_count": 66,
   "id": "d6b01d2f-7928-443f-9044-89cca8290c9c",
   "metadata": {},
   "outputs": [
    {
     "data": {
      "text/plain": [
       "array([5.        , 3.66666667, 3.        , 2.6       , 2.33333333,\n",
       "       2.14285714, 2.        ])"
      ]
     },
     "execution_count": 66,
     "metadata": {},
     "output_type": "execute_result"
    }
   ],
   "source": [
    "num_1 = np.array([10, 11, 12, 13, 14, 15, 16])\n",
    "num_2 = np.array([2, 3 ,4, 5 ,6, 7, 8])\n",
    "add = np.divide(num_1, num_2)\n",
    "add"
   ]
  },
  {
   "cell_type": "code",
   "execution_count": 68,
   "id": "19f534c6-d84f-48f0-b9e8-a3c12e3a1630",
   "metadata": {},
   "outputs": [
    {
     "data": {
      "text/plain": [
       "array([0, 2, 0, 3, 2, 1, 0])"
      ]
     },
     "execution_count": 68,
     "metadata": {},
     "output_type": "execute_result"
    }
   ],
   "source": [
    "num_1 = np.array([10, 11, 12, 13, 14, 15, 16])\n",
    "num_2 = np.array([2, 3 ,4, 5 ,6, 7, 8])\n",
    "add = np.mod(num_1, num_2)\n",
    "add"
   ]
  },
  {
   "cell_type": "code",
   "execution_count": 72,
   "id": "4d16cb98-12b2-494f-a017-fa4875d08ba6",
   "metadata": {},
   "outputs": [
    {
     "data": {
      "text/plain": [
       "array([0, 2, 0, 3, 2, 1, 0])"
      ]
     },
     "execution_count": 72,
     "metadata": {},
     "output_type": "execute_result"
    }
   ],
   "source": [
    "num_1 = np.array([10, 11, 12, 13, 14, 15, 16])\n",
    "num_2 = np.array([2, 3 ,4, 5 ,6, 7, 8])\n",
    "add = np.remainder(num_1, num_2)\n",
    "add"
   ]
  },
  {
   "cell_type": "code",
   "execution_count": 75,
   "id": "4c2f8607-1f04-4f5f-9a6b-8163c1e24439",
   "metadata": {},
   "outputs": [
    {
     "data": {
      "text/plain": [
       "array([100, 121, 144, 169, 196, 225, 256])"
      ]
     },
     "execution_count": 75,
     "metadata": {},
     "output_type": "execute_result"
    }
   ],
   "source": [
    "num_1 = np.array([10, 11, 12, 13, 14, 15, 16])\n",
    "num_2 = np.array([2, 2 ,2, 2 ,2, 2, 2])\n",
    "add = np.power(num_1, num_2)\n",
    "add"
   ]
  },
  {
   "cell_type": "code",
   "execution_count": 76,
   "id": "2a727597-bf9d-4783-b7c9-ea605c1d946b",
   "metadata": {},
   "outputs": [
    {
     "data": {
      "text/plain": [
       "(array([5, 3, 3, 2, 2, 2, 2]), array([0, 2, 0, 3, 2, 1, 0]))"
      ]
     },
     "execution_count": 76,
     "metadata": {},
     "output_type": "execute_result"
    }
   ],
   "source": [
    "num_1 = np.array([10, 11, 12, 13, 14, 15, 16])\n",
    "num_2 = np.array([2, 3 ,4, 5 ,6, 7, 8])\n",
    "add = np.divmod(num_1, num_2)\n",
    "add"
   ]
  },
  {
   "cell_type": "code",
   "execution_count": 77,
   "id": "3b1ea426-6e0d-4cc5-bbf2-9239dd2308cc",
   "metadata": {},
   "outputs": [
    {
     "data": {
      "text/plain": [
       "array([10, 11, 12, 13, 14, 15, 16])"
      ]
     },
     "execution_count": 77,
     "metadata": {},
     "output_type": "execute_result"
    }
   ],
   "source": [
    "num_1 = np.array([-10, -11, -12, -13, -14, -15, -16])\n",
    "\n",
    "add = np.absolute(num_1, num_2)\n",
    "add"
   ]
  },
  {
   "cell_type": "markdown",
   "id": "2676ba81-4be7-4d9e-bbc2-a2adc22bc5d9",
   "metadata": {},
   "source": [
    "# Rounding Decimal "
   ]
  },
  {
   "cell_type": "code",
   "execution_count": 81,
   "id": "f6bbb11e-8aac-415c-af5e-10209ed88248",
   "metadata": {},
   "outputs": [
    {
     "name": "stdout",
     "output_type": "stream",
     "text": [
      "[-5. -5.]\n"
     ]
    }
   ],
   "source": [
    "# Turncation\n",
    "import numpy as np\n",
    "new = np.trunc([-5.888888, -5.76574])\n",
    "print(new)"
   ]
  },
  {
   "cell_type": "code",
   "execution_count": 82,
   "id": "9e87af4b-ce3b-4ee4-9e31-58ae648b899e",
   "metadata": {},
   "outputs": [
    {
     "name": "stdout",
     "output_type": "stream",
     "text": [
      "[-5. -5.]\n"
     ]
    }
   ],
   "source": [
    "# Fix\n",
    "import numpy as np\n",
    "new = np.fix([-5.888888, -5.76574])\n",
    "print(new)"
   ]
  },
  {
   "cell_type": "code",
   "execution_count": 87,
   "id": "5915fbba-9d53-4ba4-9710-514fb835c900",
   "metadata": {},
   "outputs": [
    {
     "name": "stdout",
     "output_type": "stream",
     "text": [
      "[5. 5.]\n"
     ]
    }
   ],
   "source": [
    "# Rouunding\n",
    "\n",
    "import numpy as np\n",
    "new = np.round([5.12, 5])\n",
    "print(new)"
   ]
  },
  {
   "cell_type": "code",
   "execution_count": 88,
   "id": "39b04b03-3f33-4031-92c1-0707cc1191ea",
   "metadata": {},
   "outputs": [
    {
     "name": "stdout",
     "output_type": "stream",
     "text": [
      "[-6.  5.]\n"
     ]
    }
   ],
   "source": [
    "# Floor\n",
    "\n",
    "import numpy as np\n",
    "new = np.floor([-5.888888, 5.76574])\n",
    "print(new)"
   ]
  },
  {
   "cell_type": "code",
   "execution_count": 89,
   "id": "21275720-15be-4451-b9ea-d32b6d2694d0",
   "metadata": {},
   "outputs": [
    {
     "name": "stdout",
     "output_type": "stream",
     "text": [
      "[-5.  6.]\n"
     ]
    }
   ],
   "source": [
    "# ceil\n",
    "\n",
    "import numpy as np\n",
    "new = np.ceil([-5.888888, 5.76574])\n",
    "print(new)"
   ]
  },
  {
   "cell_type": "markdown",
   "id": "c8dbc022-2096-4ea7-82da-c25644c765c8",
   "metadata": {},
   "source": [
    "# Summition and Cumulative sum"
   ]
  },
  {
   "cell_type": "code",
   "execution_count": 92,
   "id": "71419853-bafd-4a0c-93d7-4df730eeba05",
   "metadata": {},
   "outputs": [
    {
     "data": {
      "text/plain": [
       "array([ 3,  4,  6,  8, 10, 12, 14])"
      ]
     },
     "execution_count": 92,
     "metadata": {},
     "output_type": "execute_result"
    }
   ],
   "source": [
    "import numpy as np\n",
    "num_1 = np.array([1, 1, 2, 3, 4, 5, 6])\n",
    "num_2 = np.array([2, 3 ,4, 5 ,6, 7, 8])\n",
    "add = np.add(num_1, num_2)\n",
    "add"
   ]
  },
  {
   "cell_type": "code",
   "execution_count": 93,
   "id": "a271e6f5-fc8a-48ae-871e-a8e6c93c2da4",
   "metadata": {},
   "outputs": [
    {
     "data": {
      "text/plain": [
       "126"
      ]
     },
     "execution_count": 93,
     "metadata": {},
     "output_type": "execute_result"
    }
   ],
   "source": [
    "import numpy as np\n",
    "num_1 = np.array([10, 11, 12, 13, 14, 15, 16])\n",
    "num_2 = np.array([2, 3 ,4, 5 ,6, 7, 8])\n",
    "add = np.sum([num_1, num_2])\n",
    "add"
   ]
  },
  {
   "cell_type": "code",
   "execution_count": 94,
   "id": "8186f39e-5e24-40c7-bf87-d45a5f06049e",
   "metadata": {},
   "outputs": [
    {
     "data": {
      "text/plain": [
       "array([91, 35])"
      ]
     },
     "execution_count": 94,
     "metadata": {},
     "output_type": "execute_result"
    }
   ],
   "source": [
    "import numpy as np\n",
    "num_1 = np.array([10, 11, 12, 13, 14, 15, 16])\n",
    "num_2 = np.array([2, 3 ,4, 5 ,6, 7, 8])\n",
    "add = np.sum([num_1, num_2], axis = 1)\n",
    "add"
   ]
  },
  {
   "cell_type": "code",
   "execution_count": 100,
   "id": "2c51fedc-762f-4d15-9970-d714879b1df2",
   "metadata": {},
   "outputs": [
    {
     "data": {
      "text/plain": [
       "array([10, 21, 33, 46, 60, 75, 91])"
      ]
     },
     "execution_count": 100,
     "metadata": {},
     "output_type": "execute_result"
    }
   ],
   "source": [
    "import numpy as np\n",
    "num_1 = np.array([10, 11, 12, 13, 14, 15, 16])\n",
    "cumsum = np.cumsum(num_1)\n",
    "cumsum"
   ]
  },
  {
   "cell_type": "markdown",
   "id": "12edc34f-5071-424c-8849-44aa10953efa",
   "metadata": {},
   "source": [
    "# Product and Cumulative "
   ]
  },
  {
   "cell_type": "code",
   "execution_count": 101,
   "id": "1b2ed0a5-deb3-4708-bcfd-3a4b3534dc40",
   "metadata": {},
   "outputs": [
    {
     "data": {
      "text/plain": [
       "57657600"
      ]
     },
     "execution_count": 101,
     "metadata": {},
     "output_type": "execute_result"
    }
   ],
   "source": [
    "import numpy as np\n",
    "num_1 = np.array([10, 11, 12, 13, 14, 15, 16])\n",
    "pro = np.prod(num_1)\n",
    "apro"
   ]
  },
  {
   "cell_type": "code",
   "execution_count": 103,
   "id": "8eadb1d8-fe43-4b53-b538-c1f2fa4416b2",
   "metadata": {},
   "outputs": [
    {
     "data": {
      "text/plain": [
       "array([    0, 40320])"
      ]
     },
     "execution_count": 103,
     "metadata": {},
     "output_type": "execute_result"
    }
   ],
   "source": [
    "import numpy as np\n",
    "num_1 = np.array([0, 1, 2, 3, 4, 5, 6])\n",
    "num_2 = np.array([2, 3 ,4, 5 ,6, 7, 8])\n",
    "pro = np.prod([num_1, num_2], axis = 1)\n",
    "pro"
   ]
  },
  {
   "cell_type": "code",
   "execution_count": 105,
   "id": "0030522d-3ad4-4059-904d-34092dd09459",
   "metadata": {},
   "outputs": [
    {
     "data": {
      "text/plain": [
       "array([  1,   1,   2,   6,  24, 120, 720])"
      ]
     },
     "execution_count": 105,
     "metadata": {},
     "output_type": "execute_result"
    }
   ],
   "source": [
    "import numpy as np\n",
    "num_1 = np.array([1, 1, 2, 3, 4, 5, 6])\n",
    "c_pro = np.cumprod(num_1)\n",
    "c_pro"
   ]
  },
  {
   "cell_type": "markdown",
   "id": "f804baa7-7a30-4baa-8424-86b271bff4ac",
   "metadata": {},
   "source": [
    "# Difference"
   ]
  },
  {
   "cell_type": "code",
   "execution_count": 113,
   "id": "58cf53a4-69dd-45dd-9ddd-f43c46a13f1b",
   "metadata": {},
   "outputs": [
    {
     "data": {
      "text/plain": [
       "array([[ 4,  3,  4,  4, 10, 19],\n",
       "       [28, 10, 10, 19,  6,  6]])"
      ]
     },
     "execution_count": 113,
     "metadata": {},
     "output_type": "execute_result"
    }
   ],
   "source": [
    "import numpy as np\n",
    "num_1 = np.array([0, 4, 7, 11, 15, 25, 44])\n",
    "num_2 = np.array([2, 30 ,40, 50 ,69, 75, 81])\n",
    "diff = np.diff([num_1, num_2], axis = 1)\n",
    "diff"
   ]
  },
  {
   "cell_type": "markdown",
   "id": "dc35d0d0-548e-434d-9484-5473e4e9eb4c",
   "metadata": {},
   "source": [
    "# Numpy LCM"
   ]
  },
  {
   "cell_type": "code",
   "execution_count": 116,
   "id": "830a85a8-1430-42eb-8eef-a2f84eb446b6",
   "metadata": {},
   "outputs": [
    {
     "data": {
      "text/plain": [
       "10"
      ]
     },
     "execution_count": 116,
     "metadata": {},
     "output_type": "execute_result"
    }
   ],
   "source": [
    "num_1 = 10\n",
    "num_2 = 2\n",
    "lcm = np.lcm(num_1, num_2)\n",
    "lcm"
   ]
  },
  {
   "cell_type": "code",
   "execution_count": 118,
   "id": "bf8b695f-04ef-409a-b9f0-208eb11154d4",
   "metadata": {},
   "outputs": [
    {
     "name": "stdout",
     "output_type": "stream",
     "text": [
      "18\n"
     ]
    }
   ],
   "source": [
    "arra = np.array([3, 6, 9])\n",
    "lcm = np.lcm.reduce(arra)\n",
    "print(lcm)"
   ]
  },
  {
   "cell_type": "code",
   "execution_count": 124,
   "id": "8181a158-cc48-4d47-86cf-831431dbd6fc",
   "metadata": {},
   "outputs": [
    {
     "name": "stdout",
     "output_type": "stream",
     "text": [
      "2520\n"
     ]
    }
   ],
   "source": [
    "import numpy as np\n",
    "new = np.arange(1, 11)\n",
    "lc = np.lcm.reduce(new)\n",
    "print(lc)"
   ]
  },
  {
   "cell_type": "markdown",
   "id": "0770a9be-5078-4883-aa19-89b4ac0a3a1b",
   "metadata": {},
   "source": [
    "# Numpy GCD or HCF"
   ]
  },
  {
   "cell_type": "code",
   "execution_count": 128,
   "id": "c00a5030-2362-439e-90a0-05865b0ebc18",
   "metadata": {},
   "outputs": [
    {
     "data": {
      "text/plain": [
       "2"
      ]
     },
     "execution_count": 128,
     "metadata": {},
     "output_type": "execute_result"
    }
   ],
   "source": [
    "num_1 = 10\n",
    "num_2 = 2\n",
    "gcd = np.gcd(num_1, num_2)\n",
    "gcd"
   ]
  },
  {
   "cell_type": "code",
   "execution_count": 137,
   "id": "7a22a6a2-dd58-452e-829d-14478670d893",
   "metadata": {},
   "outputs": [
    {
     "name": "stdout",
     "output_type": "stream",
     "text": [
      "3\n"
     ]
    }
   ],
   "source": [
    "x = np.array([3, 6, 9])\n",
    "r_gcd = np.gcd.reduce(x)\n",
    "print(r_gcd)"
   ]
  },
  {
   "cell_type": "code",
   "execution_count": 139,
   "id": "f6eef775-47d5-41b1-bd73-c30280aeb2e4",
   "metadata": {},
   "outputs": [
    {
     "name": "stdout",
     "output_type": "stream",
     "text": [
      "8\n"
     ]
    }
   ],
   "source": [
    "import numpy as np\n",
    "x = np.array([16, 8, 32, 64])\n",
    "lc = np.gcd.reduce(x)\n",
    "print(lc)"
   ]
  },
  {
   "cell_type": "code",
   "execution_count": 142,
   "id": "cdeceab0-70f9-4700-9c7f-c30b37e04a5b",
   "metadata": {},
   "outputs": [
    {
     "data": {
      "text/plain": [
       "1.0"
      ]
     },
     "execution_count": 142,
     "metadata": {},
     "output_type": "execute_result"
    }
   ],
   "source": [
    "import numpy as np\n",
    "new = np.sin(np.pi/2)\n",
    "new"
   ]
  },
  {
   "cell_type": "code",
   "execution_count": 144,
   "id": "f97c42b2-747c-457c-9db0-3f71376918da",
   "metadata": {},
   "outputs": [
    {
     "name": "stdout",
     "output_type": "stream",
     "text": [
      "[1.         0.8660254  0.70710678 0.58778525]\n"
     ]
    }
   ],
   "source": [
    "arr = np.array([np.pi/2, np.pi/3, np.pi/4, np.pi/5])\n",
    "new = np.sin(arr)\n",
    "print(new)"
   ]
  },
  {
   "cell_type": "code",
   "execution_count": 146,
   "id": "eeeaa617-87e3-400d-8a39-4c9d36b12350",
   "metadata": {},
   "outputs": [
    {
     "name": "stdout",
     "output_type": "stream",
     "text": [
      "[1.57079633 3.14159265 4.71238898 6.28318531]\n"
     ]
    }
   ],
   "source": [
    "arr = np.array([90, 180, 270, 360])\n",
    "new = np.deg2rad(arr)\n",
    "print(new)"
   ]
  },
  {
   "cell_type": "code",
   "execution_count": 148,
   "id": "35a2f6f4-70b5-4f93-bb3b-1337ba94101a",
   "metadata": {},
   "outputs": [
    {
     "name": "stdout",
     "output_type": "stream",
     "text": [
      "[ 90. 180. 270. 360.]\n"
     ]
    }
   ],
   "source": [
    "arr = np.array([np.pi/2, np.pi, 1.5*np.pi, 2*np.pi])\n",
    "new = np.rad2deg(arr)\n",
    "print(new)"
   ]
  },
  {
   "cell_type": "code",
   "execution_count": 150,
   "id": "dfeffcbc-dea3-4970-bfc6-351117ab814d",
   "metadata": {},
   "outputs": [
    {
     "data": {
      "text/plain": [
       "1.5707963267948966"
      ]
     },
     "execution_count": 150,
     "metadata": {},
     "output_type": "execute_result"
    }
   ],
   "source": [
    "# Arcsin\n",
    "\n",
    "arc= np.arcsin(1.0)\n",
    "arc"
   ]
  },
  {
   "cell_type": "code",
   "execution_count": 156,
   "id": "1ac445b3-73a2-478b-bb4d-7cb25daf2943",
   "metadata": {},
   "outputs": [
    {
     "data": {
      "text/plain": [
       "array([-1.57079633,  1.57079633,  0.        ,  1.57079633])"
      ]
     },
     "execution_count": 156,
     "metadata": {},
     "output_type": "execute_result"
    }
   ],
   "source": [
    "y = np.array([-1, 1, 0,1])\n",
    "a_sin = np.arcsin(y)\n",
    "a_sin"
   ]
  },
  {
   "cell_type": "code",
   "execution_count": 158,
   "id": "7844a441-2e63-438e-b901-c39ac91d07a9",
   "metadata": {},
   "outputs": [
    {
     "data": {
      "text/plain": [
       "7.810249675906654"
      ]
     },
     "execution_count": 158,
     "metadata": {},
     "output_type": "execute_result"
    }
   ],
   "source": [
    "# hypothesis\n",
    "\n",
    "base = 5\n",
    "per = 6\n",
    "hypo = np.hypot(base, per)\n",
    "hypo"
   ]
  },
  {
   "cell_type": "markdown",
   "id": "6405a4ee-6ef4-46f9-a039-8841c4bacd42",
   "metadata": {},
   "source": [
    "# Hyperbolic Functions"
   ]
  },
  {
   "cell_type": "code",
   "execution_count": 160,
   "id": "dc6acd19-3bcb-4720-8306-12f9fa10797c",
   "metadata": {},
   "outputs": [
    {
     "data": {
      "text/plain": [
       "2.3012989023072947"
      ]
     },
     "execution_count": 160,
     "metadata": {},
     "output_type": "execute_result"
    }
   ],
   "source": [
    "h = np.sinh(np.pi/2)\n",
    "h"
   ]
  },
  {
   "cell_type": "code",
   "execution_count": 161,
   "id": "4acd6fd7-8e0f-4fce-972d-e6a63b8f523d",
   "metadata": {},
   "outputs": [
    {
     "name": "stdout",
     "output_type": "stream",
     "text": [
      "[  2.3012989   11.54873936  55.6543976  267.74489404]\n"
     ]
    }
   ],
   "source": [
    "arr = np.array([np.pi/2, np.pi, 1.5*np.pi, 2*np.pi])\n",
    "new = np.sinh(arr)\n",
    "print(new)"
   ]
  },
  {
   "cell_type": "code",
   "execution_count": 162,
   "id": "6fb8780e-d848-4162-9503-f62606024eba",
   "metadata": {},
   "outputs": [
    {
     "name": "stdout",
     "output_type": "stream",
     "text": [
      "[  2.50917848  11.59195328  55.66338089 267.74676148]\n"
     ]
    }
   ],
   "source": [
    "arr = np.array([np.pi/2, np.pi, 1.5*np.pi, 2*np.pi])\n",
    "new = np.cosh(arr)\n",
    "print(new)"
   ]
  },
  {
   "cell_type": "code",
   "execution_count": 163,
   "id": "9b96526a-f198-44a1-8e07-e5099302d275",
   "metadata": {},
   "outputs": [
    {
     "name": "stdout",
     "output_type": "stream",
     "text": [
      "[0.91715234 0.99627208 0.99983861 0.99999303]\n"
     ]
    }
   ],
   "source": [
    "arr = np.array([np.pi/2, np.pi, 1.5*np.pi, 2*np.pi])\n",
    "new = np.tanh(arr)\n",
    "print(new)"
   ]
  },
  {
   "cell_type": "code",
   "execution_count": 166,
   "id": "594b71f0-af06-4a2b-8164-c281736ce3bc",
   "metadata": {},
   "outputs": [
    {
     "data": {
      "text/plain": [
       "0.881373587019543"
      ]
     },
     "execution_count": 166,
     "metadata": {},
     "output_type": "execute_result"
    }
   ],
   "source": [
    "# Finding  angles\n",
    "\n",
    "angle = np.arcsinh(1.0)\n",
    "angle"
   ]
  },
  {
   "cell_type": "code",
   "execution_count": 167,
   "id": "403ca730-0041-44b2-a4a4-bb521a22f1af",
   "metadata": {},
   "outputs": [
    {
     "name": "stdout",
     "output_type": "stream",
     "text": [
      "[       inf       -inf 0.10033535]\n"
     ]
    }
   ],
   "source": [
    "arr = np.array([1, -1, 0.1])\n",
    "new = np.arctanh(arr)\n",
    "print(new)"
   ]
  },
  {
   "cell_type": "code",
   "execution_count": 168,
   "id": "433003bd-95e3-4ec6-8997-89ea9b548ee8",
   "metadata": {},
   "outputs": [
    {
     "name": "stdout",
     "output_type": "stream",
     "text": [
      "[ 0.88137359 -0.88137359  0.09983408]\n"
     ]
    }
   ],
   "source": [
    "arr = np.array([1, -1, 0.1])\n",
    "new = np.arcsinh(arr)\n",
    "print(new)"
   ]
  },
  {
   "cell_type": "code",
   "execution_count": 169,
   "id": "1cd117b0-0f81-4b29-97ec-15855eccafbe",
   "metadata": {},
   "outputs": [
    {
     "name": "stdout",
     "output_type": "stream",
     "text": [
      "[ 0. nan nan]\n"
     ]
    }
   ],
   "source": [
    "arr = np.array([1, -1, 0.1])\n",
    "new = np.arccosh(arr)\n",
    "print(new)"
   ]
  },
  {
   "cell_type": "markdown",
   "id": "032cba71-22aa-44fe-a264-33645fab17be",
   "metadata": {},
   "source": [
    "# Unique "
   ]
  },
  {
   "cell_type": "code",
   "execution_count": 171,
   "id": "e9a4e223-a08c-4063-9338-4df03023e227",
   "metadata": {},
   "outputs": [
    {
     "data": {
      "text/plain": [
       "array([1, 2, 3, 4, 5, 6, 7, 8, 9])"
      ]
     },
     "execution_count": 171,
     "metadata": {},
     "output_type": "execute_result"
    }
   ],
   "source": [
    "new = np.array([1, 2, 3, 4 ,5 ,5, 6 ,7 ,8 ,8, 9 ])\n",
    "uni = np.unique(new)\n",
    "uni"
   ]
  },
  {
   "cell_type": "code",
   "execution_count": 176,
   "id": "10736304-7e8e-4ec2-aab9-3e1f713d6173",
   "metadata": {},
   "outputs": [
    {
     "name": "stdout",
     "output_type": "stream",
     "text": [
      "[ 1  4  5  6  7  9 10 11 12]\n"
     ]
    }
   ],
   "source": [
    "import numpy as np\n",
    "\n",
    "new = np.array([1, 5, 6, 7, 9])\n",
    "new_1 = np.array([10, 11, 12, 5, 4])\n",
    "union = np.union1d(new, new_1)\n",
    "print(union)\n"
   ]
  },
  {
   "cell_type": "code",
   "execution_count": 180,
   "id": "02c16b59-9043-4106-85d0-61c84b36d0c7",
   "metadata": {},
   "outputs": [
    {
     "name": "stdout",
     "output_type": "stream",
     "text": [
      "[4 5]\n"
     ]
    }
   ],
   "source": [
    "new = np.array([4, 5, 6, 7, 9])\n",
    "new_1 = np.array([10, 11, 12, 5, 4])\n",
    "inter = np.intersect1d(new, new_1)\n",
    "print(inter)"
   ]
  },
  {
   "cell_type": "code",
   "execution_count": 183,
   "id": "789b98bf-f14a-476a-a9a6-a9618b2a9e79",
   "metadata": {},
   "outputs": [
    {
     "name": "stdout",
     "output_type": "stream",
     "text": [
      "[6 7 9]\n"
     ]
    }
   ],
   "source": [
    "new = np.array([4, 5, 6, 7, 9])\n",
    "new_1 = np.array([10, 11, 12, 5, 4])\n",
    "st = np.setdiff1d(new, new_1, assume_unique = True)\n",
    "print(st)"
   ]
  },
  {
   "cell_type": "code",
   "execution_count": 184,
   "id": "d9d2e8ba-f5f6-4e8b-b9c7-784c01b9f502",
   "metadata": {},
   "outputs": [
    {
     "name": "stdout",
     "output_type": "stream",
     "text": [
      "[ 6  7  9 10 11 12]\n"
     ]
    }
   ],
   "source": [
    "new = np.array([4, 5, 6, 7, 9])\n",
    "new_1 = np.array([10, 11, 12, 5, 4])\n",
    "inter = np.setxor1d(new, new_1, assume_unique = True)\n",
    "print(inter)"
   ]
  },
  {
   "cell_type": "code",
   "execution_count": null,
   "id": "d7217986-453d-427b-9677-f15d382b5c9d",
   "metadata": {},
   "outputs": [],
   "source": []
  }
 ],
 "metadata": {
  "kernelspec": {
   "display_name": "Python 3 (ipykernel)",
   "language": "python",
   "name": "python3"
  },
  "language_info": {
   "codemirror_mode": {
    "name": "ipython",
    "version": 3
   },
   "file_extension": ".py",
   "mimetype": "text/x-python",
   "name": "python",
   "nbconvert_exporter": "python",
   "pygments_lexer": "ipython3",
   "version": "3.12.4"
  }
 },
 "nbformat": 4,
 "nbformat_minor": 5
}
