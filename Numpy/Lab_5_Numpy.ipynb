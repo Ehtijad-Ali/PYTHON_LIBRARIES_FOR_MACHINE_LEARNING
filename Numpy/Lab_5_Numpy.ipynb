{
 "cells": [
  {
   "cell_type": "markdown",
   "metadata": {
    "id": "0D-xx_BulSPv"
   },
   "source": [
    "# **Introduction to NumPy**\n",
    "\n",
    "---\n",
    "NumPy brings the computational power of languages like C and Fortran to Python, a language much easier to learn and use. \n",
    "\n"
   ]
  },
  {
   "cell_type": "markdown",
   "metadata": {
    "id": "gXWkicw4lk5m"
   },
   "source": [
    "**What is Numpy?**\n",
    "\n",
    "---\n",
    "\n",
    "A numpy array is similar to a list. It's usually fixed in size and each element is of the same type. We can cast a list to a numpy array by first importing numpy:"
   ]
  },
  {
   "cell_type": "markdown",
   "metadata": {
    "id": "QMGYYBcV_CMh"
   },
   "source": [
    "A numpy array is a grid of values, all of the same type. The number of dimensions is the rank of the array; the shape of an array is a tuple of integers giving the size of the array along each dimension.\n",
    "\n",
    "We can initialize numpy arrays from nested Python lists, and access elements using square brackets:\n"
   ]
  },
  {
   "cell_type": "code",
   "execution_count": 37,
   "metadata": {
    "colab": {
     "base_uri": "https://localhost:8080/"
    },
    "executionInfo": {
     "elapsed": 437,
     "status": "ok",
     "timestamp": 1686140004540,
     "user": {
      "displayName": "Noman Tanveer",
      "userId": "12233155518196327905"
     },
     "user_tz": -300
    },
    "id": "Ff5oI32Dlib2",
    "outputId": "2a69f94d-9adc-4a64-8cdf-4a991433303d"
   },
   "outputs": [],
   "source": [
    "import numpy as np "
   ]
  },
  {
   "cell_type": "markdown",
   "metadata": {
    "id": "AtQ7GBC3lSMw"
   },
   "source": [
    "We then cast the list as follows:"
   ]
  },
  {
   "cell_type": "code",
   "execution_count": 40,
   "metadata": {
    "colab": {
     "base_uri": "https://localhost:8080/"
    },
    "executionInfo": {
     "elapsed": 31,
     "status": "ok",
     "timestamp": 1686135965346,
     "user": {
      "displayName": "Noman Tanveer",
      "userId": "12233155518196327905"
     },
     "user_tz": -300
    },
    "id": "HPfRCH4Xmj6f",
    "outputId": "f2b01006-7c1f-45cd-fa75-d9404dc6695c"
   },
   "outputs": [
    {
     "data": {
      "text/plain": [
       "array([0, 1, 2, 3, 4])"
      ]
     },
     "execution_count": 40,
     "metadata": {},
     "output_type": "execute_result"
    }
   ],
   "source": [
    "# Create a numpy array\n",
    "\n",
    "a = np.array([0, 1, 2, 3, 4])\n",
    "a"
   ]
  },
  {
   "cell_type": "markdown",
   "metadata": {
    "id": "ojbtWXAXlSJo"
   },
   "source": [
    "If we check the type of the array we get numpy.ndarray:"
   ]
  },
  {
   "cell_type": "code",
   "execution_count": null,
   "metadata": {
    "colab": {
     "base_uri": "https://localhost:8080/"
    },
    "executionInfo": {
     "elapsed": 28,
     "status": "ok",
     "timestamp": 1686135965348,
     "user": {
      "displayName": "Noman Tanveer",
      "userId": "12233155518196327905"
     },
     "user_tz": -300
    },
    "id": "k52pBzyDmvhm",
    "outputId": "a1c33f6f-c6e3-46a2-e349-192265bcaab3"
   },
   "outputs": [
    {
     "data": {
      "text/plain": [
       "numpy.ndarray"
      ]
     },
     "execution_count": 3,
     "metadata": {},
     "output_type": "execute_result"
    }
   ],
   "source": [
    "# Check the type of the array\n",
    "type(a)"
   ]
  },
  {
   "cell_type": "markdown",
   "metadata": {
    "id": "_q_egq_Dm6ju"
   },
   "source": [
    "As numpy arrays contain data of the same type, we can use the attribute \"dtype\" to obtain the Data-type of the array’s elements. In this case a 32-bit integer:"
   ]
  },
  {
   "cell_type": "code",
   "execution_count": 42,
   "metadata": {
    "colab": {
     "base_uri": "https://localhost:8080/"
    },
    "executionInfo": {
     "elapsed": 1497,
     "status": "ok",
     "timestamp": 1686140652332,
     "user": {
      "displayName": "Noman Tanveer",
      "userId": "12233155518196327905"
     },
     "user_tz": -300
    },
    "id": "A2ki9KQYm10O",
    "outputId": "bb84abe8-27f7-4aae-f3bd-c467c428c1c4"
   },
   "outputs": [
    {
     "data": {
      "text/plain": [
       "dtype('int32')"
      ]
     },
     "execution_count": 42,
     "metadata": {},
     "output_type": "execute_result"
    }
   ],
   "source": [
    "# Check the type of the values stored in numpy array\n",
    "\n",
    "a.dtype"
   ]
  },
  {
   "cell_type": "markdown",
   "metadata": {
    "id": "hFIC5oQvm9um"
   },
   "source": [
    "We can change the value of the array, consider the array c:"
   ]
  },
  {
   "cell_type": "code",
   "execution_count": 43,
   "metadata": {
    "colab": {
     "base_uri": "https://localhost:8080/"
    },
    "executionInfo": {
     "elapsed": 18,
     "status": "ok",
     "timestamp": 1686135965350,
     "user": {
      "displayName": "Noman Tanveer",
      "userId": "12233155518196327905"
     },
     "user_tz": -300
    },
    "id": "S51a-GmFnR4f",
    "outputId": "d761d95c-f243-4450-a329-2a84e6dbb8b5"
   },
   "outputs": [
    {
     "data": {
      "text/plain": [
       "array([20,  1,  2,  3,  4])"
      ]
     },
     "execution_count": 43,
     "metadata": {},
     "output_type": "execute_result"
    }
   ],
   "source": [
    "# Create numpy array\n",
    "c = np.array([20, 1, 2, 3, 4])\n",
    "c"
   ]
  },
  {
   "cell_type": "code",
   "execution_count": 44,
   "metadata": {
    "colab": {
     "base_uri": "https://localhost:8080/"
    },
    "executionInfo": {
     "elapsed": 468,
     "status": "ok",
     "timestamp": 1686140724625,
     "user": {
      "displayName": "Noman Tanveer",
      "userId": "12233155518196327905"
     },
     "user_tz": -300
    },
    "id": "tWwM4r07nVUG",
    "outputId": "82cea61a-34dd-4092-902d-e53b23c49fa2"
   },
   "outputs": [
    {
     "data": {
      "text/plain": [
       "array([100,   1,   2,   3,   4])"
      ]
     },
     "execution_count": 44,
     "metadata": {},
     "output_type": "execute_result"
    }
   ],
   "source": [
    "# Assign the first element to 100\n",
    "\n",
    "c[0] = 100\n",
    "c"
   ]
  },
  {
   "cell_type": "markdown",
   "metadata": {
    "id": "giL3OyR9nhd6"
   },
   "source": [
    "**Slicing**\n",
    "\n",
    "---\n",
    "\n",
    "\n",
    "Like lists, we can slice the numpy array, and we can select the elements from 1 to 3 and assign it to a new numpy array d as follows:"
   ]
  },
  {
   "cell_type": "code",
   "execution_count": 45,
   "metadata": {
    "colab": {
     "base_uri": "https://localhost:8080/"
    },
    "executionInfo": {
     "elapsed": 417,
     "status": "ok",
     "timestamp": 1686140765729,
     "user": {
      "displayName": "Noman Tanveer",
      "userId": "12233155518196327905"
     },
     "user_tz": -300
    },
    "id": "nmwPdCcgnoVe",
    "outputId": "fbee87c6-8bd2-4d66-dd2f-573049aecd3c"
   },
   "outputs": [
    {
     "data": {
      "text/plain": [
       "array([1, 2, 3])"
      ]
     },
     "execution_count": 45,
     "metadata": {},
     "output_type": "execute_result"
    }
   ],
   "source": [
    "# Slicing the numpy array\n",
    "\n",
    "d = c[1:4] # the last element at position  '4' is not considered\n",
    "d"
   ]
  },
  {
   "cell_type": "markdown",
   "metadata": {
    "id": "yUgwegtdnhYe"
   },
   "source": [
    "\n",
    "We can assign the corresponding indexes to new values as follows:"
   ]
  },
  {
   "cell_type": "code",
   "execution_count": 69,
   "metadata": {
    "colab": {
     "base_uri": "https://localhost:8080/"
    },
    "executionInfo": {
     "elapsed": 410,
     "status": "ok",
     "timestamp": 1686140791174,
     "user": {
      "displayName": "Noman Tanveer",
      "userId": "12233155518196327905"
     },
     "user_tz": -300
    },
    "id": "e_JJsjE8nqh2",
    "outputId": "c83f451e-981c-4c48-a08b-7b90bde8fbdd"
   },
   "outputs": [
    {
     "data": {
      "text/plain": [
       "array([   100,      1, 100000,    300,    400])"
      ]
     },
     "execution_count": 69,
     "metadata": {},
     "output_type": "execute_result"
    }
   ],
   "source": [
    "# Set the fourth element and fifth element to 300 and 400\n",
    "\n",
    "c[3:5] = 300, 400\n",
    "c"
   ]
  },
  {
   "cell_type": "markdown",
   "metadata": {
    "id": "v3XkKvwolR9f"
   },
   "source": [
    "Similarly, we can use a list to select a specific index. The list ' select ' contains several values:"
   ]
  },
  {
   "cell_type": "code",
   "execution_count": 7,
   "metadata": {
    "executionInfo": {
     "elapsed": 374,
     "status": "ok",
     "timestamp": 1686140874280,
     "user": {
      "displayName": "Noman Tanveer",
      "userId": "12233155518196327905"
     },
     "user_tz": -300
    },
    "id": "Pljl6NCon5Pe"
   },
   "outputs": [],
   "source": [
    "# Create the index list\n",
    "select = [0, 2, 3]"
   ]
  },
  {
   "cell_type": "code",
   "execution_count": 8,
   "metadata": {
    "colab": {
     "base_uri": "https://localhost:8080/"
    },
    "executionInfo": {
     "elapsed": 400,
     "status": "ok",
     "timestamp": 1686140915896,
     "user": {
      "displayName": "Noman Tanveer",
      "userId": "12233155518196327905"
     },
     "user_tz": -300
    },
    "id": "nLy93igAn8IG",
    "outputId": "954e1381-4250-42f4-b7af-1533662b6cda"
   },
   "outputs": [
    {
     "data": {
      "text/plain": [
       "array([100,   2,   3])"
      ]
     },
     "execution_count": 8,
     "metadata": {},
     "output_type": "execute_result"
    }
   ],
   "source": [
    "# Use List to select elements\n",
    "d = c[select]\n",
    "d"
   ]
  },
  {
   "cell_type": "markdown",
   "metadata": {
    "id": "3ehT5W-poCEg"
   },
   "source": [
    "We can assign the specified elements to a new value. For example, we can assign the values to 100 000 as follows:"
   ]
  },
  {
   "cell_type": "code",
   "execution_count": 72,
   "metadata": {
    "colab": {
     "base_uri": "https://localhost:8080/"
    },
    "executionInfo": {
     "elapsed": 717,
     "status": "ok",
     "timestamp": 1686140948567,
     "user": {
      "displayName": "Noman Tanveer",
      "userId": "12233155518196327905"
     },
     "user_tz": -300
    },
    "id": "yiSmFX21oF6f",
    "outputId": "43649c59-8e38-4935-d5c7-6293853a4791"
   },
   "outputs": [
    {
     "data": {
      "text/plain": [
       "array([100000,      1, 100000, 100000,    400])"
      ]
     },
     "execution_count": 72,
     "metadata": {},
     "output_type": "execute_result"
    }
   ],
   "source": [
    "# Assign the specified elements to new value\n",
    "c[select] = 100000\n",
    "c"
   ]
  },
  {
   "cell_type": "markdown",
   "metadata": {
    "id": "BmOABbKhlR6R"
   },
   "source": [
    "# **Other Attributes**\n",
    "\n",
    "---\n",
    "\n",
    "\n",
    "Let's review some basic array attributes using the array a:"
   ]
  },
  {
   "cell_type": "code",
   "execution_count": 48,
   "metadata": {},
   "outputs": [],
   "source": [
    "\n",
    "lis_1 = [1, 2, 4, 6]\n",
    "lis_2 = [4, 6, 7, 8]\n",
    "\n",
    "lis_3 = [lis_1, lis_2]"
   ]
  },
  {
   "cell_type": "code",
   "execution_count": 50,
   "metadata": {},
   "outputs": [],
   "source": [
    "arr = np.array(lis_3)"
   ]
  },
  {
   "cell_type": "code",
   "execution_count": null,
   "metadata": {
    "colab": {
     "base_uri": "https://localhost:8080/"
    },
    "executionInfo": {
     "elapsed": 2,
     "status": "ok",
     "timestamp": 1686136005973,
     "user": {
      "displayName": "Noman Tanveer",
      "userId": "12233155518196327905"
     },
     "user_tz": -300
    },
    "id": "g6Gb8zcroTy2",
    "outputId": "b063b860-1e27-43b7-916c-53801a7a2006"
   },
   "outputs": [
    {
     "data": {
      "text/plain": [
       "array([0, 1, 2, 3, 4])"
      ]
     },
     "execution_count": 12,
     "metadata": {},
     "output_type": "execute_result"
    }
   ],
   "source": [
    "# Create a numpy array\n",
    "\n",
    "a = np.array([0, 1, 2, 3, 4])\n",
    "a"
   ]
  },
  {
   "cell_type": "markdown",
   "metadata": {
    "id": "S6m2rZOglR2v"
   },
   "source": [
    "The attribute size is the number of elements in the array:"
   ]
  },
  {
   "cell_type": "code",
   "execution_count": 47,
   "metadata": {},
   "outputs": [
    {
     "data": {
      "text/plain": [
       "array([0, 1, 2, 3, 4])"
      ]
     },
     "execution_count": 47,
     "metadata": {},
     "output_type": "execute_result"
    }
   ],
   "source": [
    "a"
   ]
  },
  {
   "cell_type": "code",
   "execution_count": 46,
   "metadata": {
    "colab": {
     "base_uri": "https://localhost:8080/"
    },
    "executionInfo": {
     "elapsed": 412,
     "status": "ok",
     "timestamp": 1686140962799,
     "user": {
      "displayName": "Noman Tanveer",
      "userId": "12233155518196327905"
     },
     "user_tz": -300
    },
    "id": "aDIavB4loWf-",
    "outputId": "b482b013-6120-4bf4-9237-45f59e5dd193"
   },
   "outputs": [
    {
     "data": {
      "text/plain": [
       "5"
      ]
     },
     "execution_count": 46,
     "metadata": {},
     "output_type": "execute_result"
    }
   ],
   "source": [
    "# Get the size of numpy array\n",
    "\n",
    "a.size"
   ]
  },
  {
   "cell_type": "code",
   "execution_count": null,
   "metadata": {
    "colab": {
     "base_uri": "https://localhost:8080/"
    },
    "executionInfo": {
     "elapsed": 5,
     "status": "ok",
     "timestamp": 1686136009681,
     "user": {
      "displayName": "Noman Tanveer",
      "userId": "12233155518196327905"
     },
     "user_tz": -300
    },
    "id": "iysPcVGh_CMx",
    "outputId": "e909d88d-202b-4777-b2c8-f89a780cb9c8"
   },
   "outputs": [
    {
     "data": {
      "text/plain": [
       "(5,)"
      ]
     },
     "execution_count": 14,
     "metadata": {},
     "output_type": "execute_result"
    }
   ],
   "source": [
    "a.shape"
   ]
  },
  {
   "cell_type": "code",
   "execution_count": null,
   "metadata": {
    "colab": {
     "base_uri": "https://localhost:8080/"
    },
    "executionInfo": {
     "elapsed": 6,
     "status": "ok",
     "timestamp": 1686136011218,
     "user": {
      "displayName": "Noman Tanveer",
      "userId": "12233155518196327905"
     },
     "user_tz": -300
    },
    "id": "m40tyksm_CMy",
    "outputId": "5193e449-2bec-4c29-9c07-5fd453d08ae2"
   },
   "outputs": [
    {
     "data": {
      "text/plain": [
       "1"
      ]
     },
     "execution_count": 15,
     "metadata": {},
     "output_type": "execute_result"
    }
   ],
   "source": [
    "a.ndim"
   ]
  },
  {
   "cell_type": "markdown",
   "metadata": {
    "id": "2_9vHtU0pd4P"
   },
   "source": [
    "# 2d Arrays"
   ]
  },
  {
   "cell_type": "code",
   "execution_count": 74,
   "metadata": {
    "colab": {
     "base_uri": "https://localhost:8080/"
    },
    "executionInfo": {
     "elapsed": 430,
     "status": "ok",
     "timestamp": 1686141201964,
     "user": {
      "displayName": "Noman Tanveer",
      "userId": "12233155518196327905"
     },
     "user_tz": -300
    },
    "id": "r98o39of_CMy",
    "outputId": "e37527f9-660d-44d3-e497-77eac5a260b5"
   },
   "outputs": [
    {
     "name": "stdout",
     "output_type": "stream",
     "text": [
      "[[1. 1. 1. 1. 1.]\n",
      " [1. 1. 1. 1. 1.]\n",
      " [1. 1. 1. 1. 1.]]\n"
     ]
    }
   ],
   "source": [
    "b = np.ones((3,5))   # Create an array of all ones\n",
    "print(b)"
   ]
  },
  {
   "cell_type": "code",
   "execution_count": 75,
   "metadata": {
    "colab": {
     "base_uri": "https://localhost:8080/"
    },
    "executionInfo": {
     "elapsed": 412,
     "status": "ok",
     "timestamp": 1686141213054,
     "user": {
      "displayName": "Noman Tanveer",
      "userId": "12233155518196327905"
     },
     "user_tz": -300
    },
    "id": "XrAFT9v6_CMz",
    "outputId": "2b47444a-3a5d-4e4a-c40b-7c84c3863f2c"
   },
   "outputs": [
    {
     "name": "stdout",
     "output_type": "stream",
     "text": [
      "[[1. 0. 0.]\n",
      " [0. 1. 0.]\n",
      " [0. 0. 1.]]\n"
     ]
    }
   ],
   "source": [
    "d = np.eye(3)        # Create a identity matrix\n",
    "print(d)"
   ]
  },
  {
   "cell_type": "code",
   "execution_count": 26,
   "metadata": {
    "colab": {
     "base_uri": "https://localhost:8080/"
    },
    "executionInfo": {
     "elapsed": 416,
     "status": "ok",
     "timestamp": 1686141231293,
     "user": {
      "displayName": "Noman Tanveer",
      "userId": "12233155518196327905"
     },
     "user_tz": -300
    },
    "id": "eePWddBq_CMz",
    "outputId": "28691d44-54cf-4672-a338-7e4654896a18"
   },
   "outputs": [
    {
     "name": "stdout",
     "output_type": "stream",
     "text": [
      "[[0. 0. 0. 0.]\n",
      " [0. 0. 0. 0.]\n",
      " [0. 0. 0. 0.]\n",
      " [0. 0. 0. 0.]]\n"
     ]
    }
   ],
   "source": [
    "a= np.zeros((4,4))  # Create an array of all zeros\n",
    "print(a)"
   ]
  },
  {
   "cell_type": "code",
   "execution_count": 77,
   "metadata": {
    "colab": {
     "base_uri": "https://localhost:8080/"
    },
    "executionInfo": {
     "elapsed": 441,
     "status": "ok",
     "timestamp": 1686141239076,
     "user": {
      "displayName": "Noman Tanveer",
      "userId": "12233155518196327905"
     },
     "user_tz": -300
    },
    "id": "BfdTsh7L_CM0",
    "outputId": "8c0e2172-1ea6-48bf-bb88-5a5a2d17da52"
   },
   "outputs": [
    {
     "name": "stdout",
     "output_type": "stream",
     "text": [
      "[[1, 2, 3], [4, 5, 6], [4, 9, 0]]\n"
     ]
    }
   ],
   "source": [
    "x = [[1,2,3],\n",
    "     [4,5,6], \n",
    "     [4,9,0]]\n",
    "\n",
    "print(x)"
   ]
  },
  {
   "cell_type": "code",
   "execution_count": 78,
   "metadata": {
    "colab": {
     "base_uri": "https://localhost:8080/"
    },
    "executionInfo": {
     "elapsed": 401,
     "status": "ok",
     "timestamp": 1686141241317,
     "user": {
      "displayName": "Noman Tanveer",
      "userId": "12233155518196327905"
     },
     "user_tz": -300
    },
    "id": "INDBpVXZ_CM0",
    "outputId": "d46fdd2c-3f85-4ba2-e72d-05e725e00bb1"
   },
   "outputs": [
    {
     "name": "stdout",
     "output_type": "stream",
     "text": [
      "[[1. 2. 3.]\n",
      " [4. 5. 6.]\n",
      " [4. 9. 0.]]\n"
     ]
    }
   ],
   "source": [
    "a = np.array([[1,2,3],[4,5,6], [4,9,0]], dtype='float64')   # Create a rank 2 array\n",
    "print(a)"
   ]
  },
  {
   "cell_type": "code",
   "execution_count": 80,
   "metadata": {
    "colab": {
     "base_uri": "https://localhost:8080/"
    },
    "executionInfo": {
     "elapsed": 563,
     "status": "ok",
     "timestamp": 1686141336765,
     "user": {
      "displayName": "Noman Tanveer",
      "userId": "12233155518196327905"
     },
     "user_tz": -300
    },
    "id": "3FV_erRRCZCc",
    "outputId": "1de702c7-6b53-409b-9fa3-57e5ae13fc56"
   },
   "outputs": [
    {
     "data": {
      "text/plain": [
       "6.0"
      ]
     },
     "execution_count": 80,
     "metadata": {},
     "output_type": "execute_result"
    }
   ],
   "source": [
    "# Access the element on the second row and third column\n",
    "\n",
    "a[1, 2]"
   ]
  },
  {
   "cell_type": "markdown",
   "metadata": {
    "id": "8g8iuSACCuyt"
   },
   "source": [
    "![image.png](data:image/png;base64,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)"
   ]
  },
  {
   "cell_type": "code",
   "execution_count": null,
   "metadata": {
    "colab": {
     "base_uri": "https://localhost:8080/"
    },
    "executionInfo": {
     "elapsed": 487,
     "status": "ok",
     "timestamp": 1686136370341,
     "user": {
      "displayName": "Noman Tanveer",
      "userId": "12233155518196327905"
     },
     "user_tz": -300
    },
    "id": "Zac3tsn0_CM5",
    "outputId": "bac15880-5451-4ecf-9c71-b820cfa10df7"
   },
   "outputs": [
    {
     "data": {
      "text/plain": [
       "6"
      ]
     },
     "execution_count": 24,
     "metadata": {},
     "output_type": "execute_result"
    }
   ],
   "source": [
    "x[1][2]"
   ]
  },
  {
   "cell_type": "code",
   "execution_count": null,
   "metadata": {
    "colab": {
     "base_uri": "https://localhost:8080/"
    },
    "executionInfo": {
     "elapsed": 5,
     "status": "ok",
     "timestamp": 1686136371879,
     "user": {
      "displayName": "Noman Tanveer",
      "userId": "12233155518196327905"
     },
     "user_tz": -300
    },
    "id": "DV0R3Kpf_CM6",
    "outputId": "b8778f44-c7e3-4828-9f10-7052440109c4"
   },
   "outputs": [
    {
     "data": {
      "text/plain": [
       "array([1., 2., 3.])"
      ]
     },
     "execution_count": 26,
     "metadata": {},
     "output_type": "execute_result"
    }
   ],
   "source": [
    "a[0]"
   ]
  },
  {
   "cell_type": "code",
   "execution_count": null,
   "metadata": {
    "colab": {
     "base_uri": "https://localhost:8080/"
    },
    "executionInfo": {
     "elapsed": 2,
     "status": "ok",
     "timestamp": 1686136372924,
     "user": {
      "displayName": "Noman Tanveer",
      "userId": "12233155518196327905"
     },
     "user_tz": -300
    },
    "id": "CcP1V8Hw_CNK",
    "outputId": "9c8993e6-85d5-45dc-f29b-c66a7c1517e9"
   },
   "outputs": [
    {
     "data": {
      "text/plain": [
       "3.0"
      ]
     },
     "execution_count": 27,
     "metadata": {},
     "output_type": "execute_result"
    }
   ],
   "source": [
    "a[0][2]"
   ]
  },
  {
   "cell_type": "code",
   "execution_count": null,
   "metadata": {
    "colab": {
     "base_uri": "https://localhost:8080/"
    },
    "executionInfo": {
     "elapsed": 2,
     "status": "ok",
     "timestamp": 1686136373605,
     "user": {
      "displayName": "Noman Tanveer",
      "userId": "12233155518196327905"
     },
     "user_tz": -300
    },
    "id": "3Vna6wln_CNL",
    "outputId": "873bb18b-aa72-4e21-d83e-75cad13ca62d"
   },
   "outputs": [
    {
     "data": {
      "text/plain": [
       "array([[4., 5., 6.],\n",
       "       [4., 9., 0.]])"
      ]
     },
     "execution_count": 28,
     "metadata": {},
     "output_type": "execute_result"
    }
   ],
   "source": [
    "a[1:3]"
   ]
  },
  {
   "cell_type": "code",
   "execution_count": null,
   "metadata": {
    "colab": {
     "base_uri": "https://localhost:8080/"
    },
    "executionInfo": {
     "elapsed": 7,
     "status": "ok",
     "timestamp": 1686136374274,
     "user": {
      "displayName": "Noman Tanveer",
      "userId": "12233155518196327905"
     },
     "user_tz": -300
    },
    "id": "p5TUxe-h_CNL",
    "outputId": "3c4f81dc-a80a-4a49-b3e0-f62b7c540ba2"
   },
   "outputs": [
    {
     "data": {
      "text/plain": [
       "array([[5., 6.],\n",
       "       [9., 0.]])"
      ]
     },
     "execution_count": 29,
     "metadata": {},
     "output_type": "execute_result"
    }
   ],
   "source": [
    "a[1:3, 1:3]"
   ]
  },
  {
   "cell_type": "code",
   "execution_count": null,
   "metadata": {
    "colab": {
     "base_uri": "https://localhost:8080/"
    },
    "executionInfo": {
     "elapsed": 6,
     "status": "ok",
     "timestamp": 1686136375906,
     "user": {
      "displayName": "Noman Tanveer",
      "userId": "12233155518196327905"
     },
     "user_tz": -300
    },
    "id": "GEKSw94opb8e",
    "outputId": "792ba745-4eb8-4288-c711-64bbf7c36642"
   },
   "outputs": [
    {
     "data": {
      "text/plain": [
       "2"
      ]
     },
     "execution_count": 30,
     "metadata": {},
     "output_type": "execute_result"
    }
   ],
   "source": [
    "# Get the number of dimensions of numpy array\n",
    "\n",
    "a.ndim"
   ]
  },
  {
   "cell_type": "code",
   "execution_count": 81,
   "metadata": {
    "colab": {
     "base_uri": "https://localhost:8080/"
    },
    "executionInfo": {
     "elapsed": 473,
     "status": "ok",
     "timestamp": 1686141421754,
     "user": {
      "displayName": "Noman Tanveer",
      "userId": "12233155518196327905"
     },
     "user_tz": -300
    },
    "id": "tuk4AxMy_CNM",
    "outputId": "1de40236-06f8-4f54-8dcc-91faa4cd69f7"
   },
   "outputs": [
    {
     "data": {
      "text/plain": [
       "9"
      ]
     },
     "execution_count": 81,
     "metadata": {},
     "output_type": "execute_result"
    }
   ],
   "source": [
    "a.size"
   ]
  },
  {
   "cell_type": "code",
   "execution_count": 82,
   "metadata": {
    "colab": {
     "base_uri": "https://localhost:8080/"
    },
    "executionInfo": {
     "elapsed": 393,
     "status": "ok",
     "timestamp": 1686141423901,
     "user": {
      "displayName": "Noman Tanveer",
      "userId": "12233155518196327905"
     },
     "user_tz": -300
    },
    "id": "bd26An2K_CNN",
    "outputId": "87dcb23a-ac99-499c-939c-674d190ad380"
   },
   "outputs": [
    {
     "data": {
      "text/plain": [
       "dtype('float64')"
      ]
     },
     "execution_count": 82,
     "metadata": {},
     "output_type": "execute_result"
    }
   ],
   "source": [
    "a.dtype"
   ]
  },
  {
   "cell_type": "code",
   "execution_count": 83,
   "metadata": {
    "colab": {
     "base_uri": "https://localhost:8080/"
    },
    "executionInfo": {
     "elapsed": 436,
     "status": "ok",
     "timestamp": 1686141426799,
     "user": {
      "displayName": "Noman Tanveer",
      "userId": "12233155518196327905"
     },
     "user_tz": -300
    },
    "id": "WpzzhW4N_CNN",
    "outputId": "e131314a-a447-43c6-cef9-605a86a3f3c2"
   },
   "outputs": [
    {
     "data": {
      "text/plain": [
       "8"
      ]
     },
     "execution_count": 83,
     "metadata": {},
     "output_type": "execute_result"
    }
   ],
   "source": [
    "a.itemsize"
   ]
  },
  {
   "cell_type": "markdown",
   "metadata": {
    "id": "yHSBLqP0phOm"
   },
   "source": [
    "The attribute shape is a tuple of integers indicating the size of the array in each dimension:"
   ]
  },
  {
   "cell_type": "code",
   "execution_count": 85,
   "metadata": {
    "colab": {
     "base_uri": "https://localhost:8080/"
    },
    "executionInfo": {
     "elapsed": 427,
     "status": "ok",
     "timestamp": 1686141559031,
     "user": {
      "displayName": "Noman Tanveer",
      "userId": "12233155518196327905"
     },
     "user_tz": -300
    },
    "id": "jSM5fJjYpj2G",
    "outputId": "408ee9cc-0245-4924-e49b-ea26c91d5036"
   },
   "outputs": [
    {
     "data": {
      "text/plain": [
       "(3, 3)"
      ]
     },
     "execution_count": 85,
     "metadata": {},
     "output_type": "execute_result"
    }
   ],
   "source": [
    "# Get the shape/size of numpy array\n",
    "\n",
    "a.shape"
   ]
  },
  {
   "attachments": {
    "de5131b8-ee4f-46ac-b904-3ee6036724e3.png": {
     "image/png": "[encoded data removed]"
    }
   },
   "cell_type": "markdown",
   "metadata": {},
   "source": [
    "![1.png](attachment:de5131b8-ee4f-46ac-b904-3ee6036724e3.png)"
   ]
  },
  {
   "cell_type": "code",
   "execution_count": 28,
   "metadata": {
    "colab": {
     "base_uri": "https://localhost:8080/"
    },
    "executionInfo": {
     "elapsed": 6,
     "status": "ok",
     "timestamp": 1686141560713,
     "user": {
      "displayName": "Noman Tanveer",
      "userId": "12233155518196327905"
     },
     "user_tz": -300
    },
    "id": "hWsTw5n4_CNO",
    "outputId": "f6764d76-c661-4481-d4bf-308a202a284c"
   },
   "outputs": [
    {
     "data": {
      "text/plain": [
       "array([[3, 5, 2, 7],\n",
       "       [9, 0, 1, 6]])"
      ]
     },
     "execution_count": 28,
     "metadata": {},
     "output_type": "execute_result"
    }
   ],
   "source": [
    "a = np.array([[3,5,2,7], [9,0,1,6]])\n",
    "a"
   ]
  },
  {
   "cell_type": "code",
   "execution_count": 29,
   "metadata": {
    "colab": {
     "base_uri": "https://localhost:8080/"
    },
    "executionInfo": {
     "elapsed": 475,
     "status": "ok",
     "timestamp": 1686141576309,
     "user": {
      "displayName": "Noman Tanveer",
      "userId": "12233155518196327905"
     },
     "user_tz": -300
    },
    "id": "wCnsoV3y_CNP",
    "outputId": "ae6614a0-ca1c-4654-fbb3-3a5178b75656"
   },
   "outputs": [
    {
     "data": {
      "text/plain": [
       "array([[3, 5],\n",
       "       [2, 7],\n",
       "       [9, 0],\n",
       "       [1, 6]])"
      ]
     },
     "execution_count": 29,
     "metadata": {},
     "output_type": "execute_result"
    }
   ],
   "source": [
    "a_1 = np.reshape(a, (4, 2))\n",
    "a_1"
   ]
  },
  {
   "cell_type": "code",
   "execution_count": 88,
   "metadata": {
    "colab": {
     "base_uri": "https://localhost:8080/"
    },
    "executionInfo": {
     "elapsed": 407,
     "status": "ok",
     "timestamp": 1686141692936,
     "user": {
      "displayName": "Noman Tanveer",
      "userId": "12233155518196327905"
     },
     "user_tz": -300
    },
    "id": "yGHTLZ9V_CNP",
    "outputId": "1d30a050-a137-48fb-daf9-0fee18879f78"
   },
   "outputs": [
    {
     "data": {
      "text/plain": [
       "array([3, 5, 2, 7, 9, 0, 1, 6])"
      ]
     },
     "execution_count": 88,
     "metadata": {},
     "output_type": "execute_result"
    }
   ],
   "source": [
    "a=a.flatten()\n",
    "a"
   ]
  },
  {
   "cell_type": "code",
   "execution_count": 89,
   "metadata": {
    "colab": {
     "base_uri": "https://localhost:8080/"
    },
    "executionInfo": {
     "elapsed": 396,
     "status": "ok",
     "timestamp": 1686141709248,
     "user": {
      "displayName": "Noman Tanveer",
      "userId": "12233155518196327905"
     },
     "user_tz": -300
    },
    "id": "X5ovAOwx_CNQ",
    "outputId": "155a4687-3505-446d-977c-3ec4d5adc778"
   },
   "outputs": [
    {
     "data": {
      "text/plain": [
       "(8,)"
      ]
     },
     "execution_count": 89,
     "metadata": {},
     "output_type": "execute_result"
    }
   ],
   "source": [
    "a.shape"
   ]
  },
  {
   "cell_type": "code",
   "execution_count": 31,
   "metadata": {
    "colab": {
     "base_uri": "https://localhost:8080/"
    },
    "executionInfo": {
     "elapsed": 6,
     "status": "ok",
     "timestamp": 1686141711467,
     "user": {
      "displayName": "Noman Tanveer",
      "userId": "12233155518196327905"
     },
     "user_tz": -300
    },
    "id": "9uee-WAgpp3O",
    "outputId": "c4a72723-3818-4679-e855-8c740667fe92"
   },
   "outputs": [
    {
     "data": {
      "text/plain": [
       "4.125"
      ]
     },
     "execution_count": 31,
     "metadata": {},
     "output_type": "execute_result"
    }
   ],
   "source": [
    "# Get the mean of numpy array\n",
    "\n",
    "mean = a.mean()\n",
    "mean"
   ]
  },
  {
   "cell_type": "code",
   "execution_count": 33,
   "metadata": {
    "colab": {
     "base_uri": "https://localhost:8080/"
    },
    "executionInfo": {
     "elapsed": 740,
     "status": "ok",
     "timestamp": 1686141859128,
     "user": {
      "displayName": "Noman Tanveer",
      "userId": "12233155518196327905"
     },
     "user_tz": -300
    },
    "id": "3LGaMFrDsLIu",
    "outputId": "4eeb95a3-588e-4fc4-e2f5-cc1ae7aedd79"
   },
   "outputs": [
    {
     "data": {
      "text/plain": [
       "9"
      ]
     },
     "execution_count": 33,
     "metadata": {},
     "output_type": "execute_result"
    }
   ],
   "source": [
    "# Get the biggest value in the numpy array\n",
    "\n",
    "max_a = a.max()\n",
    "max_a"
   ]
  },
  {
   "cell_type": "code",
   "execution_count": 34,
   "metadata": {
    "colab": {
     "base_uri": "https://localhost:8080/"
    },
    "executionInfo": {
     "elapsed": 13,
     "status": "ok",
     "timestamp": 1686141859130,
     "user": {
      "displayName": "Noman Tanveer",
      "userId": "12233155518196327905"
     },
     "user_tz": -300
    },
    "id": "oX4QbRjLsMQO",
    "outputId": "a76fe824-1044-4ccf-f82f-f97b9109556e"
   },
   "outputs": [
    {
     "data": {
      "text/plain": [
       "0"
      ]
     },
     "execution_count": 34,
     "metadata": {},
     "output_type": "execute_result"
    }
   ],
   "source": [
    "# Get the smallest value in the numpy array\n",
    "\n",
    "min_a = a.min()\n",
    "min_a"
   ]
  },
  {
   "cell_type": "code",
   "execution_count": 36,
   "metadata": {},
   "outputs": [
    {
     "data": {
      "text/plain": [
       "array([[3, 5, 2, 7],\n",
       "       [9, 0, 1, 6]])"
      ]
     },
     "execution_count": 36,
     "metadata": {},
     "output_type": "execute_result"
    }
   ],
   "source": [
    "a"
   ]
  },
  {
   "cell_type": "code",
   "execution_count": 35,
   "metadata": {
    "colab": {
     "base_uri": "https://localhost:8080/"
    },
    "executionInfo": {
     "elapsed": 462,
     "status": "ok",
     "timestamp": 1686141913696,
     "user": {
      "displayName": "Noman Tanveer",
      "userId": "12233155518196327905"
     },
     "user_tz": -300
    },
    "id": "iIlOdqig_CNV",
    "outputId": "1bc7eda9-7721-4c34-d225-fc55b0b24e11"
   },
   "outputs": [
    {
     "data": {
      "text/plain": [
       "array([1, 0, 0, 0], dtype=int64)"
      ]
     },
     "execution_count": 35,
     "metadata": {},
     "output_type": "execute_result"
    }
   ],
   "source": [
    "amax = np.argmax(a, axis=0)\n",
    "amax"
   ]
  },
  {
   "cell_type": "code",
   "execution_count": null,
   "metadata": {
    "colab": {
     "base_uri": "https://localhost:8080/"
    },
    "executionInfo": {
     "elapsed": 6,
     "status": "ok",
     "timestamp": 1686136392854,
     "user": {
      "displayName": "Noman Tanveer",
      "userId": "12233155518196327905"
     },
     "user_tz": -300
    },
    "id": "_8Myao6H_CNW",
    "outputId": "e21a49de-5f9d-4c0c-e6ec-c94095dd06aa"
   },
   "outputs": [
    {
     "data": {
      "text/plain": [
       "1"
      ]
     },
     "execution_count": 45,
     "metadata": {},
     "output_type": "execute_result"
    }
   ],
   "source": [
    "amin = np.argmin(a)\n",
    "amin"
   ]
  },
  {
   "cell_type": "markdown",
   "metadata": {
    "id": "LAnmycmVul2X"
   },
   "source": [
    "## **Numpy Array Operations**\n",
    "\n",
    "---\n",
    "**Array Addition**\n",
    "\n",
    "Consider the numpy array u:"
   ]
  },
  {
   "cell_type": "code",
   "execution_count": 99,
   "metadata": {
    "colab": {
     "base_uri": "https://localhost:8080/"
    },
    "executionInfo": {
     "elapsed": 464,
     "status": "ok",
     "timestamp": 1686142157508,
     "user": {
      "displayName": "Noman Tanveer",
      "userId": "12233155518196327905"
     },
     "user_tz": -300
    },
    "id": "ZO8WgUCnuwVf",
    "outputId": "887b8b3b-be12-4d17-9f53-788962ce5ea0"
   },
   "outputs": [
    {
     "data": {
      "text/plain": [
       "array([ 11, 121])"
      ]
     },
     "execution_count": 99,
     "metadata": {},
     "output_type": "execute_result"
    }
   ],
   "source": [
    "u = np.array([1, 120])\n",
    "v = np.array([10, 1])\n",
    "z = u + v\n",
    "z"
   ]
  },
  {
   "cell_type": "markdown",
   "metadata": {
    "id": "QqLu5ZFKu9_G"
   },
   "source": [
    "**Array Multiplication**\n",
    "\n",
    "Consider the vector numpy array y:"
   ]
  },
  {
   "cell_type": "code",
   "execution_count": 101,
   "metadata": {
    "colab": {
     "base_uri": "https://localhost:8080/"
    },
    "executionInfo": {
     "elapsed": 380,
     "status": "ok",
     "timestamp": 1686142246521,
     "user": {
      "displayName": "Noman Tanveer",
      "userId": "12233155518196327905"
     },
     "user_tz": -300
    },
    "id": "av9M7qDqu9gN",
    "outputId": "0dad62a2-a8ab-441c-b50c-1c84c18321ec"
   },
   "outputs": [
    {
     "data": {
      "text/plain": [
       "array([2, 4])"
      ]
     },
     "execution_count": 101,
     "metadata": {},
     "output_type": "execute_result"
    }
   ],
   "source": [
    "# Create a numpy array\n",
    "y = np.array([1, 2])\n",
    "z = 2 * y\n",
    "z"
   ]
  },
  {
   "cell_type": "code",
   "execution_count": 102,
   "metadata": {
    "colab": {
     "base_uri": "https://localhost:8080/"
    },
    "executionInfo": {
     "elapsed": 5,
     "status": "ok",
     "timestamp": 1686142247147,
     "user": {
      "displayName": "Noman Tanveer",
      "userId": "12233155518196327905"
     },
     "user_tz": -300
    },
    "id": "8PIahB3x_CNY",
    "outputId": "510eb7b0-3263-42d6-c3c5-a2b4080338b3"
   },
   "outputs": [
    {
     "data": {
      "text/plain": [
       "array([[4, 1],\n",
       "       [1, 4]])"
      ]
     },
     "execution_count": 102,
     "metadata": {},
     "output_type": "execute_result"
    }
   ],
   "source": [
    "Y = np.array([[2, 1], [1, 2]]) \n",
    "Z = np.array([[2, 1], [1, 2]]) \n",
    "X = Y * Z\n",
    "X"
   ]
  },
  {
   "cell_type": "markdown",
   "metadata": {
    "id": "PiN4RBc9vNi2"
   },
   "source": [
    "**Product of Two Numpy Arrays**\n",
    "\n",
    "Consider the following array u:"
   ]
  },
  {
   "cell_type": "code",
   "execution_count": 103,
   "metadata": {
    "colab": {
     "base_uri": "https://localhost:8080/"
    },
    "executionInfo": {
     "elapsed": 433,
     "status": "ok",
     "timestamp": 1686142300975,
     "user": {
      "displayName": "Noman Tanveer",
      "userId": "12233155518196327905"
     },
     "user_tz": -300
    },
    "id": "QIc4AZH-vRqn",
    "outputId": "75e406ec-806f-4b12-ee32-59e8e4968a41"
   },
   "outputs": [
    {
     "data": {
      "text/plain": [
       "array([3, 4])"
      ]
     },
     "execution_count": 103,
     "metadata": {},
     "output_type": "execute_result"
    }
   ],
   "source": [
    "# Create a numpy array\n",
    "u = np.array([1, 2])\n",
    "v = np.array([3, 2])\n",
    "z = u * v\n",
    "z"
   ]
  },
  {
   "cell_type": "markdown",
   "metadata": {
    "id": "j5Ulxq94vQa9"
   },
   "source": [
    "**Dot Product**\n",
    "\n",
    "The dot product of the two numpy arrays u and v is given by:"
   ]
  },
  {
   "cell_type": "code",
   "execution_count": 104,
   "metadata": {
    "colab": {
     "base_uri": "https://localhost:8080/"
    },
    "executionInfo": {
     "elapsed": 500,
     "status": "ok",
     "timestamp": 1686142307574,
     "user": {
      "displayName": "Noman Tanveer",
      "userId": "12233155518196327905"
     },
     "user_tz": -300
    },
    "id": "XByixd2kvnme",
    "outputId": "6a79a9db-749c-4a6f-fd85-83d6c8ae424a"
   },
   "outputs": [
    {
     "data": {
      "text/plain": [
       "7"
      ]
     },
     "execution_count": 104,
     "metadata": {},
     "output_type": "execute_result"
    }
   ],
   "source": [
    "# Calculate the dot product\n",
    "np.dot(u, v)"
   ]
  },
  {
   "cell_type": "code",
   "execution_count": 105,
   "metadata": {
    "colab": {
     "base_uri": "https://localhost:8080/"
    },
    "executionInfo": {
     "elapsed": 454,
     "status": "ok",
     "timestamp": 1686142414722,
     "user": {
      "displayName": "Noman Tanveer",
      "userId": "12233155518196327905"
     },
     "user_tz": -300
    },
    "id": "BAJnr1ie_CNa",
    "outputId": "f27ce766-e710-4867-f9ab-7cd6624ef53b"
   },
   "outputs": [
    {
     "data": {
      "text/plain": [
       "array([[0, 2],\n",
       "       [1, 2]])"
      ]
     },
     "execution_count": 105,
     "metadata": {},
     "output_type": "execute_result"
    }
   ],
   "source": [
    "A = np.array([[0, 1], [1, 0]])\n",
    "B = np.array([[1, 2], [0, 2]])\n",
    "C = np.dot(A,B)\n",
    "C"
   ]
  },
  {
   "cell_type": "code",
   "execution_count": 106,
   "metadata": {
    "colab": {
     "base_uri": "https://localhost:8080/"
    },
    "executionInfo": {
     "elapsed": 4,
     "status": "ok",
     "timestamp": 1686142435991,
     "user": {
      "displayName": "Noman Tanveer",
      "userId": "12233155518196327905"
     },
     "user_tz": -300
    },
    "id": "5z4Qc3pv_CNa",
    "outputId": "fadd37e3-f1a0-48d1-d2f4-80b78a1d9ee5"
   },
   "outputs": [
    {
     "name": "stdout",
     "output_type": "stream",
     "text": [
      "[[0 2]\n",
      " [1 2]]\n"
     ]
    },
    {
     "data": {
      "text/plain": [
       "array([[0, 1],\n",
       "       [2, 2]])"
      ]
     },
     "execution_count": 106,
     "metadata": {},
     "output_type": "execute_result"
    }
   ],
   "source": [
    "print(C)\n",
    "C.T # Transopose of a matrix"
   ]
  },
  {
   "cell_type": "markdown",
   "metadata": {
    "id": "BaRhSG9Svtkf"
   },
   "source": [
    "**Adding Constant to a Numpy Array**\n",
    "\n",
    "Consider the following array:"
   ]
  },
  {
   "cell_type": "code",
   "execution_count": 111,
   "metadata": {
    "colab": {
     "base_uri": "https://localhost:8080/"
    },
    "executionInfo": {
     "elapsed": 626,
     "status": "ok",
     "timestamp": 1686142620062,
     "user": {
      "displayName": "Noman Tanveer",
      "userId": "12233155518196327905"
     },
     "user_tz": -300
    },
    "id": "cGc3X7jivszN",
    "outputId": "6fc25ba5-69b2-4a4c-9893-dd403a0ca51b"
   },
   "outputs": [
    {
     "name": "stdout",
     "output_type": "stream",
     "text": [
      "[ 1  2  3 -1]\n"
     ]
    },
    {
     "data": {
      "text/plain": [
       "array([ 1,  2,  4, -1])"
      ]
     },
     "execution_count": 111,
     "metadata": {},
     "output_type": "execute_result"
    }
   ],
   "source": [
    "# Create a constant to numpy array\n",
    "u = np.array([1, 2, 3, -1]) \n",
    "print(u)\n",
    "u[2] =  u[2] +1\n",
    "u"
   ]
  },
  {
   "cell_type": "markdown",
   "metadata": {
    "id": "kjKWmjzkwALW"
   },
   "source": [
    "# **Mathematical Functions**\n",
    "\n",
    "\n",
    "---\n",
    "\n",
    "\n",
    "We can access the value of pie in numpy as follows :"
   ]
  },
  {
   "cell_type": "code",
   "execution_count": 108,
   "metadata": {
    "colab": {
     "base_uri": "https://localhost:8080/"
    },
    "executionInfo": {
     "elapsed": 606,
     "status": "ok",
     "timestamp": 1686142458491,
     "user": {
      "displayName": "Noman Tanveer",
      "userId": "12233155518196327905"
     },
     "user_tz": -300
    },
    "id": "PhtdU9dDv_h-",
    "outputId": "81aed0d0-736f-4cdb-cbf8-7f0625697c75"
   },
   "outputs": [
    {
     "data": {
      "text/plain": [
       "3.141592653589793"
      ]
     },
     "execution_count": 108,
     "metadata": {},
     "output_type": "execute_result"
    }
   ],
   "source": [
    "# The value of pie\n",
    "np.pi"
   ]
  },
  {
   "cell_type": "markdown",
   "metadata": {
    "id": "YUNgVP9owFTl"
   },
   "source": [
    "We can create the following numpy array in Radians:"
   ]
  },
  {
   "cell_type": "code",
   "execution_count": 112,
   "metadata": {
    "colab": {
     "base_uri": "https://localhost:8080/"
    },
    "executionInfo": {
     "elapsed": 355,
     "status": "ok",
     "timestamp": 1686142664984,
     "user": {
      "displayName": "Noman Tanveer",
      "userId": "12233155518196327905"
     },
     "user_tz": -300
    },
    "id": "UUDo3MyfwHQl",
    "outputId": "ba40a1e0-1a7b-4b62-a945-b588829a02c2"
   },
   "outputs": [
    {
     "data": {
      "text/plain": [
       "array([0.        , 1.57079633, 3.14159265])"
      ]
     },
     "execution_count": 112,
     "metadata": {},
     "output_type": "execute_result"
    }
   ],
   "source": [
    "# Create the numpy array in radians\n",
    "\n",
    "x = np.array([0, np.pi/2 , np.pi])\n",
    "x"
   ]
  },
  {
   "cell_type": "code",
   "execution_count": 11,
   "metadata": {
    "colab": {
     "base_uri": "https://localhost:8080/"
    },
    "executionInfo": {
     "elapsed": 485,
     "status": "ok",
     "timestamp": 1686142786477,
     "user": {
      "displayName": "Noman Tanveer",
      "userId": "12233155518196327905"
     },
     "user_tz": -300
    },
    "id": "PtjuBQ8D_CNe",
    "outputId": "85a20cf8-5cc0-4c49-9e53-fd9fbcb58c6a"
   },
   "outputs": [
    {
     "name": "stdout",
     "output_type": "stream",
     "text": [
      "[[1 2]\n",
      " [3 4]\n",
      " [5 6]]\n",
      "[[False False]\n",
      " [ True  True]\n",
      " [ True  True]]\n"
     ]
    }
   ],
   "source": [
    "a = np.array([[1,2], [3, 4], [5, 6]])\n",
    "print(a)\n",
    "\n",
    "bool_idx = (a > 2)  # Find the elements of a that are bigger than 2;\n",
    "                    # this returns a numpy array of Booleans of the same\n",
    "                    # shape as a, where each slot of bool_idx tells\n",
    "                    # whether that element of a is > 2.\n",
    "\n",
    "print(bool_idx)"
   ]
  },
  {
   "cell_type": "code",
   "execution_count": 115,
   "metadata": {
    "colab": {
     "base_uri": "https://localhost:8080/"
    },
    "executionInfo": {
     "elapsed": 577,
     "status": "ok",
     "timestamp": 1686142842863,
     "user": {
      "displayName": "Noman Tanveer",
      "userId": "12233155518196327905"
     },
     "user_tz": -300
    },
    "id": "fEyvdI3t_CNe",
    "outputId": "d1a9d8c3-c91a-4627-ab28-bd619266a502"
   },
   "outputs": [
    {
     "name": "stdout",
     "output_type": "stream",
     "text": [
      "[3 4 5 6]\n"
     ]
    }
   ],
   "source": [
    "print(a[a > 2]) # return values of 'a'  greater than 2"
   ]
  },
  {
   "cell_type": "code",
   "execution_count": 2,
   "metadata": {
    "colab": {
     "base_uri": "https://localhost:8080/"
    },
    "executionInfo": {
     "elapsed": 655,
     "status": "ok",
     "timestamp": 1686142920789,
     "user": {
      "displayName": "Noman Tanveer",
      "userId": "12233155518196327905"
     },
     "user_tz": -300
    },
    "id": "SMdeXI8H_CNf",
    "outputId": "7425b20f-9420-4910-dc7d-cca2ee749ade"
   },
   "outputs": [
    {
     "ename": "NameError",
     "evalue": "name 'np' is not defined",
     "output_type": "error",
     "traceback": [
      "\u001b[1;31m---------------------------------------------------------------------------\u001b[0m",
      "\u001b[1;31mNameError\u001b[0m                                 Traceback (most recent call last)",
      "Cell \u001b[1;32mIn[2], line 1\u001b[0m\n\u001b[1;32m----> 1\u001b[0m x \u001b[38;5;241m=\u001b[39m np\u001b[38;5;241m.\u001b[39marray([[\u001b[38;5;241m1\u001b[39m,\u001b[38;5;241m2\u001b[39m],[\u001b[38;5;241m3\u001b[39m,\u001b[38;5;241m4\u001b[39m]])\n\u001b[0;32m      3\u001b[0m \u001b[38;5;28mprint\u001b[39m(np\u001b[38;5;241m.\u001b[39msum(x))  \u001b[38;5;66;03m# Compute sum of all elements; prints \"10\"\u001b[39;00m\n\u001b[0;32m      4\u001b[0m \u001b[38;5;28mprint\u001b[39m(np\u001b[38;5;241m.\u001b[39msum(x, axis\u001b[38;5;241m=\u001b[39m\u001b[38;5;241m0\u001b[39m))  \u001b[38;5;66;03m# Compute sum of each column; prints \"[4 6]\"\u001b[39;00m\n",
      "\u001b[1;31mNameError\u001b[0m: name 'np' is not defined"
     ]
    }
   ],
   "source": [
    "x = np.array([[1,2],[3,4]])\n",
    "\n",
    "print(np.sum(x))  # Compute sum of all elements; prints \"10\"\n",
    "print(np.sum(x, axis=0))  # Compute sum of each column; prints \"[4 6]\"\n",
    "print(np.sum(x, axis=1))"
   ]
  },
  {
   "cell_type": "markdown",
   "metadata": {
    "id": "oSQr19bMwXYO"
   },
   "source": [
    "# **Linspace**\n",
    "\n",
    "---\n",
    "\n",
    "\n",
    "A useful function for plotting mathematical functions is \"linespace\". Linespace returns evenly spaced numbers over a specified interval. We specify the starting point of the sequence and the ending point of the sequence. The parameter \"num\" indicates the Number of samples to generate, in this case 5:"
   ]
  },
  {
   "cell_type": "code",
   "execution_count": 120,
   "metadata": {
    "colab": {
     "base_uri": "https://localhost:8080/"
    },
    "executionInfo": {
     "elapsed": 700,
     "status": "ok",
     "timestamp": 1686143031601,
     "user": {
      "displayName": "Noman Tanveer",
      "userId": "12233155518196327905"
     },
     "user_tz": -300
    },
    "id": "nxwE04rkwXJ-",
    "outputId": "88158b82-b180-44fb-b5ab-2b5defee4ce4"
   },
   "outputs": [
    {
     "data": {
      "text/plain": [
       "array([-2. , -1.5, -1. , -0.5,  0. ,  0.5,  1. ,  1.5,  2. ])"
      ]
     },
     "execution_count": 120,
     "metadata": {},
     "output_type": "execute_result"
    }
   ],
   "source": [
    "# Makeup a numpy array within [-2, 2] and 5 elements\n",
    "\n",
    "np.linspace(-2, 2, num=9)"
   ]
  },
  {
   "cell_type": "markdown",
   "metadata": {
    "id": "syywS2i3wepG"
   },
   "source": [
    "If we change the parameter num to 9, we get 9 evenly spaced numbers over the interval from -2 to 2:"
   ]
  },
  {
   "cell_type": "code",
   "execution_count": null,
   "metadata": {
    "colab": {
     "base_uri": "https://localhost:8080/"
    },
    "executionInfo": {
     "elapsed": 7,
     "status": "ok",
     "timestamp": 1686136487214,
     "user": {
      "displayName": "Noman Tanveer",
      "userId": "12233155518196327905"
     },
     "user_tz": -300
    },
    "id": "vWWkPgG6wgNW",
    "outputId": "c1cb000a-feee-45ed-9df3-90c0b0f8ee20"
   },
   "outputs": [
    {
     "data": {
      "text/plain": [
       "array([-2. , -1.5, -1. , -0.5,  0. ,  0.5,  1. ,  1.5,  2. ])"
      ]
     },
     "execution_count": 61,
     "metadata": {},
     "output_type": "execute_result"
    }
   ],
   "source": [
    "\n",
    "# Makeup a numpy array within [-2, 2] and 9 elements\n",
    "\n",
    "np.linspace(-2, 2, num=9)"
   ]
  },
  {
   "cell_type": "markdown",
   "metadata": {
    "id": "d-4oOTxEwhv2"
   },
   "source": [
    "We can use the function line space to generate 100 evenly spaced samples from the interval 0 to 2π:"
   ]
  },
  {
   "cell_type": "code",
   "execution_count": null,
   "metadata": {
    "colab": {
     "base_uri": "https://localhost:8080/"
    },
    "executionInfo": {
     "elapsed": 7,
     "status": "ok",
     "timestamp": 1686136488869,
     "user": {
      "displayName": "Noman Tanveer",
      "userId": "12233155518196327905"
     },
     "user_tz": -300
    },
    "id": "Bt_appsKwjUm",
    "outputId": "6ebaf6fa-4f4a-4ffd-fff5-41c20b078112"
   },
   "outputs": [
    {
     "data": {
      "text/plain": [
       "array([0.        , 0.06346652, 0.12693304, 0.19039955, 0.25386607,\n",
       "       0.31733259, 0.38079911, 0.44426563, 0.50773215, 0.57119866,\n",
       "       0.63466518, 0.6981317 , 0.76159822, 0.82506474, 0.88853126,\n",
       "       0.95199777, 1.01546429, 1.07893081, 1.14239733, 1.20586385,\n",
       "       1.26933037, 1.33279688, 1.3962634 , 1.45972992, 1.52319644,\n",
       "       1.58666296, 1.65012947, 1.71359599, 1.77706251, 1.84052903,\n",
       "       1.90399555, 1.96746207, 2.03092858, 2.0943951 , 2.15786162,\n",
       "       2.22132814, 2.28479466, 2.34826118, 2.41172769, 2.47519421,\n",
       "       2.53866073, 2.60212725, 2.66559377, 2.72906028, 2.7925268 ,\n",
       "       2.85599332, 2.91945984, 2.98292636, 3.04639288, 3.10985939,\n",
       "       3.17332591, 3.23679243, 3.30025895, 3.36372547, 3.42719199,\n",
       "       3.4906585 , 3.55412502, 3.61759154, 3.68105806, 3.74452458,\n",
       "       3.8079911 , 3.87145761, 3.93492413, 3.99839065, 4.06185717,\n",
       "       4.12532369, 4.1887902 , 4.25225672, 4.31572324, 4.37918976,\n",
       "       4.44265628, 4.5061228 , 4.56958931, 4.63305583, 4.69652235,\n",
       "       4.75998887, 4.82345539, 4.88692191, 4.95038842, 5.01385494,\n",
       "       5.07732146, 5.14078798, 5.2042545 , 5.26772102, 5.33118753,\n",
       "       5.39465405, 5.45812057, 5.52158709, 5.58505361, 5.64852012,\n",
       "       5.71198664, 5.77545316, 5.83891968, 5.9023862 , 5.96585272,\n",
       "       6.02931923, 6.09278575, 6.15625227, 6.21971879, 6.28318531])"
      ]
     },
     "execution_count": 62,
     "metadata": {},
     "output_type": "execute_result"
    }
   ],
   "source": [
    "# Makeup a numpy array within [0, 2π] and 100 elements \n",
    "\n",
    "x = np.linspace(0, 2*np.pi, num=100)\n",
    "x"
   ]
  },
  {
   "cell_type": "markdown",
   "metadata": {
    "id": "l1bwOxwxwlhN"
   },
   "source": [
    "We can apply the sine function to each element in the array x and assign it to the array y:"
   ]
  },
  {
   "cell_type": "markdown",
   "metadata": {
    "id": "RmYMpJ-2_CNi"
   },
   "source": [
    "# Lab Task"
   ]
  },
  {
   "cell_type": "markdown",
   "metadata": {
    "id": "rLXPAaox_CNi"
   },
   "source": [
    "## Question 1:\n",
    "Create a 2D NumPy array with dimensions 5x5. Replace all elements in the last column with the mean value of that column. "
   ]
  },
  {
   "cell_type": "markdown",
   "metadata": {
    "id": "Bz6nwZHy_CNj"
   },
   "source": [
    "## Question 2"
   ]
  },
  {
   "cell_type": "markdown",
   "metadata": {
    "colab": {
     "base_uri": "https://localhost:8080/"
    },
    "executionInfo": {
     "elapsed": 461,
     "status": "ok",
     "timestamp": 1686143392825,
     "user": {
      "displayName": "Noman Tanveer",
      "userId": "12233155518196327905"
     },
     "user_tz": -300
    },
    "id": "hrWKgp9D_CNk",
    "outputId": "f868f041-976c-4358-d62d-3bd12eb49350"
   },
   "source": [
    "Create a 3x3 identity matrix"
   ]
  },
  {
   "cell_type": "code",
   "execution_count": 55,
   "metadata": {},
   "outputs": [],
   "source": [
    "d = np.ones((3,3))"
   ]
  },
  {
   "cell_type": "code",
   "execution_count": 63,
   "metadata": {},
   "outputs": [
    {
     "data": {
      "text/plain": [
       "array([[1., 1., 1.],\n",
       "       [1., 1., 7.],\n",
       "       [1., 1., 1.]])"
      ]
     },
     "execution_count": 63,
     "metadata": {},
     "output_type": "execute_result"
    }
   ],
   "source": [
    "d"
   ]
  },
  {
   "cell_type": "code",
   "execution_count": 62,
   "metadata": {},
   "outputs": [],
   "source": [
    "d[1][2] = 7."
   ]
  },
  {
   "cell_type": "code",
   "execution_count": 65,
   "metadata": {},
   "outputs": [
    {
     "data": {
      "text/plain": [
       "1.0"
      ]
     },
     "execution_count": 65,
     "metadata": {},
     "output_type": "execute_result"
    }
   ],
   "source": [
    "d[1][1]"
   ]
  },
  {
   "cell_type": "code",
   "execution_count": 71,
   "metadata": {},
   "outputs": [
    {
     "data": {
      "text/plain": [
       "array([  1.  , 125.75, 250.5 , 375.25, 500.  ])"
      ]
     },
     "execution_count": 71,
     "metadata": {},
     "output_type": "execute_result"
    }
   ],
   "source": [
    "np.linspace(1, 500, 5)"
   ]
  },
  {
   "cell_type": "markdown",
   "metadata": {},
   "source": [
    "### Question 3"
   ]
  },
  {
   "cell_type": "markdown",
   "metadata": {
    "id": "TXm5H48E_CNj"
   },
   "source": [
    "Create a NumPy array with the numbers 1 to 100. Reshape it into a 10x10 array. Calculate the sum of each row and find the row with the maximum sum.(Hint: you can use 'np.random.randint' to create the 2d array and fill it with random numbers."
   ]
  },
  {
   "cell_type": "markdown",
   "metadata": {},
   "source": [
    "### Question 4"
   ]
  },
  {
   "cell_type": "markdown",
   "metadata": {},
   "source": [
    "Consider a (8,7) shape array, what is the index (x,y) of the 35th element?"
   ]
  },
  {
   "cell_type": "code",
   "execution_count": null,
   "metadata": {},
   "outputs": [],
   "source": []
  },
  {
   "cell_type": "code",
   "execution_count": null,
   "metadata": {},
   "outputs": [],
   "source": []
  },
  {
   "cell_type": "code",
   "execution_count": null,
   "metadata": {},
   "outputs": [],
   "source": []
  },
  {
   "cell_type": "code",
   "execution_count": 12,
   "metadata": {
    "executionInfo": {
     "elapsed": 662,
     "status": "ok",
     "timestamp": 1686143512000,
     "user": {
      "displayName": "Noman Tanveer",
      "userId": "12233155518196327905"
     },
     "user_tz": -300
    },
    "id": "sA0NdD2u-Rrm"
   },
   "outputs": [],
   "source": [
    "a = np.linspace(2, 200, 100).reshape((10, 10))"
   ]
  },
  {
   "cell_type": "code",
   "execution_count": 16,
   "metadata": {
    "colab": {
     "base_uri": "https://localhost:8080/"
    },
    "executionInfo": {
     "elapsed": 474,
     "status": "ok",
     "timestamp": 1686143554394,
     "user": {
      "displayName": "Noman Tanveer",
      "userId": "12233155518196327905"
     },
     "user_tz": -300
    },
    "id": "eFkHrjbE-vId",
    "outputId": "28d22aef-e0c8-4839-ff5a-fe0f0b16e396"
   },
   "outputs": [
    {
     "data": {
      "text/plain": [
       "9"
      ]
     },
     "execution_count": 16,
     "metadata": {},
     "output_type": "execute_result"
    }
   ],
   "source": [
    "a.sum(axis=0).argmax()"
   ]
  },
  {
   "cell_type": "code",
   "execution_count": 25,
   "metadata": {
    "id": "gqWXi5-q-4br"
   },
   "outputs": [
    {
     "data": {
      "text/plain": [
       "array([[1, 0, 0, 0],\n",
       "       [0, 2, 0, 0],\n",
       "       [0, 0, 3, 0],\n",
       "       [0, 0, 0, 4]])"
      ]
     },
     "execution_count": 25,
     "metadata": {},
     "output_type": "execute_result"
    }
   ],
   "source": [
    "np.diag((1,2,3,4))"
   ]
  },
  {
   "cell_type": "code",
   "execution_count": null,
   "metadata": {},
   "outputs": [],
   "source": []
  }
 ],
 "metadata": {
  "colab": {
   "provenance": []
  },
  "kernelspec": {
   "display_name": "Python 3 (ipykernel)",
   "language": "python",
   "name": "python3"
  },
  "language_info": {
   "codemirror_mode": {
    "name": "ipython",
    "version": 3
   },
   "file_extension": ".py",
   "mimetype": "text/x-python",
   "name": "python",
   "nbconvert_exporter": "python",
   "pygments_lexer": "ipython3",
   "version": "3.12.4"
  }
 },
 "nbformat": 4,
 "nbformat_minor": 4
}
