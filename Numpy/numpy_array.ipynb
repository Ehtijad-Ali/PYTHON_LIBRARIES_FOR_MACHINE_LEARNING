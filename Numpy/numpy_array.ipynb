{
 "cells": [
  {
   "cell_type": "markdown",
   "id": "b92b72a5-a53a-4d64-bd2a-60f58b83814a",
   "metadata": {},
   "source": [
    "#  NumPy    (Numerical  Python)"
   ]
  },
  {
   "cell_type": "code",
   "execution_count": 5,
   "id": "93c9d907-5e69-4a63-9bab-834f2ef65d7b",
   "metadata": {},
   "outputs": [
    {
     "name": "stderr",
     "output_type": "stream",
     "text": [
      "Unable to create process using 'C:\\Users\\Shekhani Laptop\\anaconda3\\python.exe \"C:\\Users\\Shekhani Laptop\\anaconda3\\Scripts\\pip-script.py\" install numpy'\n"
     ]
    }
   ],
   "source": [
    "# Installing Numpy Libary\n",
    "pip install numpy    # (outside the Jupyter Notebook)"
   ]
  },
  {
   "cell_type": "code",
   "execution_count": 7,
   "id": "90f9e5a8-f3a9-4142-89fd-94e6c28d457e",
   "metadata": {},
   "outputs": [
    {
     "data": {
      "text/plain": [
       "'To use NumPy in your Python scripts, you need to import it. The convention is to import it under the alias np.'"
      ]
     },
     "execution_count": 7,
     "metadata": {},
     "output_type": "execute_result"
    }
   ],
   "source": [
    "# Importing NumPy\n",
    "     #To use NumPy in your Python scripts, you need to import it. The convention is to import it under the alias np."
   ]
  },
  {
   "cell_type": "code",
   "execution_count": 8,
   "id": "de4f6cc3-fc56-48bf-a39a-2fa2e0a07b5c",
   "metadata": {},
   "outputs": [],
   "source": [
    "import numpy as np"
   ]
  },
  {
   "cell_type": "code",
   "execution_count": 9,
   "id": "7989f5ae-28b0-4adb-a22d-795959421e64",
   "metadata": {},
   "outputs": [
    {
     "name": "stdout",
     "output_type": "stream",
     "text": [
      "[1 2 3 4]\n"
     ]
    }
   ],
   "source": [
    "# The NumPy Array Object\n",
    "     #The core of NumPy is the ndarray object, a fast and space-efficient multi-dimensional array that supports vectorized operations.\n",
    "array = np.array([1, 2, 3, 4])\n",
    "print(array)  # Output: [1 2 3 4]\n"
   ]
  },
  {
   "cell_type": "markdown",
   "id": "35b8a05b-bc0e-4644-bf15-c8924badc95b",
   "metadata": {},
   "source": [
    "# Creating NumPy Arrays"
   ]
  },
  {
   "cell_type": "code",
   "execution_count": 10,
   "id": "4cf977ef-7a80-44c5-b6ff-056bce2c54e0",
   "metadata": {},
   "outputs": [],
   "source": [
    "#You can create NumPy arrays from Python lists or tuples, and use various functions to generate arrays \n",
    "# filled with zeros, ones, or evenly spaced values."
   ]
  },
  {
   "cell_type": "code",
   "execution_count": 61,
   "id": "46555efb-1c4a-4a62-8d85-dcc9c2687cfe",
   "metadata": {},
   "outputs": [
    {
     "name": "stdout",
     "output_type": "stream",
     "text": [
      "2\n",
      "[1 2 3 4]\n"
     ]
    }
   ],
   "source": [
    "# From list\n",
    "arr1 = np.array(2)\n",
    "print(arr1)\n",
    "array = np.array([1, 2, 3, 4])\n",
    "print(array)"
   ]
  },
  {
   "cell_type": "code",
   "execution_count": 62,
   "id": "bd3e1c19-750a-4390-8dc2-a49bade3631e",
   "metadata": {},
   "outputs": [],
   "source": [
    "# Zeros array\n",
    "zeros_array = np.zeros((3, 3))"
   ]
  },
  {
   "cell_type": "code",
   "execution_count": 63,
   "id": "195d0377-8491-4ba7-bfb6-ef04206cb4de",
   "metadata": {},
   "outputs": [
    {
     "name": "stdout",
     "output_type": "stream",
     "text": [
      "[[0. 0. 0.]\n",
      " [0. 0. 0.]\n",
      " [0. 0. 0.]]\n"
     ]
    }
   ],
   "source": [
    "print(zeros_array)"
   ]
  },
  {
   "cell_type": "code",
   "execution_count": 65,
   "id": "b4ccd34f-f5e8-4a99-81d3-dcbe401c2b3a",
   "metadata": {},
   "outputs": [
    {
     "name": "stdout",
     "output_type": "stream",
     "text": [
      "[[1. 1.]\n",
      " [1. 1.]]\n"
     ]
    }
   ],
   "source": [
    "# Ones array\n",
    "ones_array = np.ones((2, 2))\n",
    "\n",
    "print(ones_array)"
   ]
  },
  {
   "cell_type": "code",
   "execution_count": 67,
   "id": "7d50ae3e-ace0-4732-a2bc-b0f19b111ee8",
   "metadata": {},
   "outputs": [
    {
     "name": "stdout",
     "output_type": "stream",
     "text": [
      "[ 0.   2.5  5.   7.5 10. ]\n"
     ]
    }
   ],
   "source": [
    "# Evenly spaced values\n",
    "linspace_array = np.linspace(0, 10, 5)\n",
    "print(linspace_array)"
   ]
  },
  {
   "cell_type": "markdown",
   "id": "dc1a4cb6-9a10-46f3-94e8-cb415ac41b0c",
   "metadata": {},
   "source": [
    "# Task 1: Creating and Manipulating Arrays\n"
   ]
  },
  {
   "cell_type": "code",
   "execution_count": 57,
   "id": "6fc2a054-ea9b-4328-a311-2b4a9daf637a",
   "metadata": {},
   "outputs": [],
   "source": [
    "# Task: Create different types of arrays and perform basic operations.\n",
    "# Instructions:\n",
    "# Create an array of zeros with shape (3, 3).\n",
    "# Create an array of ones with shape (2, 4).\n",
    "# Create an array with values from 10 to 50, with a step of 10.\n",
    "# Add 5 to each element of the array created in step 3."
   ]
  },
  {
   "cell_type": "code",
   "execution_count": 80,
   "id": "f7a5d96c-9475-432d-b235-ef99bef7cdd7",
   "metadata": {},
   "outputs": [
    {
     "name": "stdout",
     "output_type": "stream",
     "text": [
      "[10.         14.44444444 18.88888889 23.33333333 27.77777778 32.22222222\n",
      " 36.66666667 41.11111111 45.55555556 50.        ]\n"
     ]
    }
   ],
   "source": [
    "import numpy as np\n",
    "arra1 = np.linspace(10, 50, 10)\n",
    "print(arra1)"
   ]
  },
  {
   "cell_type": "code",
   "execution_count": 81,
   "id": "f3a43550-bfe9-4a3d-ae52-658b94b36f8f",
   "metadata": {},
   "outputs": [
    {
     "name": "stdout",
     "output_type": "stream",
     "text": [
      "[15.         19.44444444 23.88888889 28.33333333 32.77777778 37.22222222\n",
      " 41.66666667 46.11111111 50.55555556 55.        ]\n"
     ]
    }
   ],
   "source": [
    "arra2 = np.linspace(10, 50, 10)+5\n",
    "print(arra2)"
   ]
  },
  {
   "cell_type": "markdown",
   "id": "2c544c51-eda7-440a-b9fa-2a6ef8f4e82e",
   "metadata": {},
   "source": [
    "# Array Data Types"
   ]
  },
  {
   "cell_type": "code",
   "execution_count": 16,
   "id": "570dacd6-43d8-4bb3-a9ff-8c0fc7a6e12d",
   "metadata": {},
   "outputs": [],
   "source": [
    "#NumPy arrays are homogeneous, meaning all elements in an array must be of the same data type. \n",
    "#You can specify the data type using the dtype parameter."
   ]
  },
  {
   "cell_type": "code",
   "execution_count": 18,
   "id": "43f06f28-671f-47b7-8f78-82b4f2a0624a",
   "metadata": {},
   "outputs": [
    {
     "name": "stdout",
     "output_type": "stream",
     "text": [
      "float64\n",
      "[1. 2. 3.]\n"
     ]
    }
   ],
   "source": [
    "float_array = np.array([1, 2, 3], dtype=float)\n",
    "print(float_array.dtype)  # Output: float64\n",
    "print(float_array)"
   ]
  },
  {
   "cell_type": "markdown",
   "id": "47f28e5e-509e-44ee-af01-6809ab7db06d",
   "metadata": {},
   "source": [
    "# Basic Array Operations"
   ]
  },
  {
   "cell_type": "code",
   "execution_count": 19,
   "id": "f958a2e0-1013-4fd5-a12f-31abc2fb9406",
   "metadata": {},
   "outputs": [],
   "source": [
    "# NumPy supports element-wise operations, meaning operations are applied to each element in the array independently."
   ]
  },
  {
   "cell_type": "code",
   "execution_count": 20,
   "id": "08fbed14-6a37-4002-b27d-d067f70869a6",
   "metadata": {},
   "outputs": [],
   "source": [
    "# Creating two differnt arrays\n",
    "array1 = np.array([1, 2, 3])\n",
    "array2 = np.array([4, 5, 6])"
   ]
  },
  {
   "cell_type": "code",
   "execution_count": 21,
   "id": "1910810d-3397-42e7-ae90-2535a7f75d9a",
   "metadata": {},
   "outputs": [],
   "source": [
    "# Addition\n",
    "sum_array = array1 + array2"
   ]
  },
  {
   "cell_type": "code",
   "execution_count": 22,
   "id": "ad22ed7a-b948-47ef-ad8e-6140338a2251",
   "metadata": {},
   "outputs": [],
   "source": [
    "# Multiplication\n",
    "prod_array = array1 * array2\n"
   ]
  },
  {
   "cell_type": "code",
   "execution_count": 82,
   "id": "caf7cdf1-6a76-443f-9736-7445162d4cfc",
   "metadata": {},
   "outputs": [],
   "source": [
    "# Broadcasting\n",
    "# NumPy automatically expands the smaller array's dimensions to match the larger array's shape without actually copying the data. \n",
    "#This process is known as broadcasting.\n",
    "broadcast_array = array1 + 10"
   ]
  },
  {
   "cell_type": "code",
   "execution_count": 83,
   "id": "3dda38df-3281-4171-b659-549408020aeb",
   "metadata": {},
   "outputs": [
    {
     "name": "stdout",
     "output_type": "stream",
     "text": [
      "[11 12 13]\n"
     ]
    }
   ],
   "source": [
    "print(broadcast_array)"
   ]
  },
  {
   "cell_type": "markdown",
   "id": "e2345bb0-184b-4e7c-b2f1-11cc468ae140",
   "metadata": {},
   "source": [
    "# Indexing and Slicing\n",
    "Like lists, NumPy arrays can be indexed and sliced to access specific elements or subarrays. Advanced indexing allows you to access arrays in more sophisticated ways."
   ]
  },
  {
   "cell_type": "code",
   "execution_count": 84,
   "id": "649a736a-f33f-438a-9b76-5f781cf4ac27",
   "metadata": {},
   "outputs": [
    {
     "name": "stdout",
     "output_type": "stream",
     "text": [
      "30\n",
      "[20 30 40]\n",
      "[10 30 50]\n"
     ]
    }
   ],
   "source": [
    "array = np.array([10, 20, 30, 40, 50])\n",
    "\n",
    "# Indexing\n",
    "print(array[2])  # Output: 30\n",
    "\n",
    "# Slicing\n",
    "print(array[1:4])  # Output: [20 30 40]\n",
    "\n",
    "# Advanced Indexing\n",
    "print(array[[0, 2, 4]])  # Output: [10 30 50]\n"
   ]
  },
  {
   "cell_type": "markdown",
   "id": "697c5e9e-4677-40db-8290-6cb7931d2ade",
   "metadata": {},
   "source": [
    "# Task 3: Indexing and Slicing\n"
   ]
  },
  {
   "cell_type": "code",
   "execution_count": null,
   "id": "6a2bc316-e36b-421c-8592-24bd5b1e00d0",
   "metadata": {},
   "outputs": [],
   "source": [
    "# Task: Practice indexing and slicing arrays.\n",
    "# Instructions:\n",
    "# Create an array [10, 20, 30, 40, 50, 60].\n",
    "# Slice the array to get the first three elements.\n",
    "# Slice the array to get the last three elements.\n",
    "# Use advanced indexing to get the elements at indices 1, 3, and 5."
   ]
  },
  {
   "cell_type": "markdown",
   "id": "da5eb5c9-8b82-4c37-9285-6b40b0935a52",
   "metadata": {},
   "source": [
    "# Array Shape and Reshape"
   ]
  },
  {
   "cell_type": "code",
   "execution_count": 42,
   "id": "735a20c7-0b58-41f4-ba45-5a6b2a2accd9",
   "metadata": {},
   "outputs": [],
   "source": [
    "# The shape of a NumPy array can be accessed and modified using the .shape attribute and the reshape() function."
   ]
  },
  {
   "cell_type": "code",
   "execution_count": 44,
   "id": "083404c3-9b30-4174-a86d-f6574f2cd664",
   "metadata": {},
   "outputs": [
    {
     "name": "stdout",
     "output_type": "stream",
     "text": [
      "Shape of Array\n",
      "(2, 3)\n",
      "Re-Shape of Array\n",
      "[[1 2]\n",
      " [3 4]\n",
      " [5 6]]\n"
     ]
    }
   ],
   "source": [
    "array = np.array([[1, 2, 3], [4, 5, 6]])\n",
    "\n",
    "# Shape\n",
    "print(\"Shape of Array\")\n",
    "print(array.shape)  # Output: (2, 3)\n",
    "\n",
    "# Reshape\n",
    "reshaped_array = array.reshape((3, 2))\n",
    "print(\"Re-Shape of Array\")\n",
    "print(reshaped_array)"
   ]
  },
  {
   "cell_type": "markdown",
   "id": "299df220-f274-452f-b66e-ffb4a2f0bfde",
   "metadata": {},
   "source": [
    "# Task 4: Array Shape and Reshape\n",
    "<!-- Task: Reshape arrays and explore different shapes.\n",
    "Instructions:\n",
    "Create an array with values from 1 to 12.\n",
    "Reshape it into a 3x4 matrix.\n",
    "Reshape the same array into a 2x6 matrix.\n",
    "Flatten the reshaped 3x4 matrix back into a 1D array. -->"
   ]
  },
  {
   "cell_type": "code",
   "execution_count": 58,
   "id": "84c4ebea-085f-48e4-8f31-5e58928b4c39",
   "metadata": {},
   "outputs": [],
   "source": [
    "# Task 4: Array Shape and Reshape\n",
    "# Task: Reshape arrays and explore different shapes.\n",
    "# Instructions:\n",
    "# Create an array with values from 1 to 12.\n",
    "# Reshape it into a 3x4 matrix.\n",
    "# Reshape the same array into a 2x6 matrix.\n",
    "# Flatten the reshaped 3x4 matrix back into a 1D array."
   ]
  },
  {
   "cell_type": "markdown",
   "id": "19c0d063-0a58-4507-8074-011aad9f51ac",
   "metadata": {},
   "source": [
    "# Array Manipulation"
   ]
  },
  {
   "cell_type": "code",
   "execution_count": 47,
   "id": "7f3bf99f-8c92-4131-a5dd-8babec9189ae",
   "metadata": {},
   "outputs": [
    {
     "name": "stdout",
     "output_type": "stream",
     "text": [
      "3.0\n",
      "1.4142135623730951\n"
     ]
    }
   ],
   "source": [
    "array = np.array([1, 2, 3, 4, 5])\n",
    "\n",
    "# Sum\n",
    "total_sum = np.sum(array)\n",
    "\n",
    "# Mean\n",
    "mean_value = np.mean(array)\n",
    "print(mean_value)\n",
    "# Standard Deviation\n",
    "std_dev = np.std(array)\n",
    "print(std_dev)\n"
   ]
  },
  {
   "cell_type": "markdown",
   "id": "d5f538e7-ab32-42bb-895a-6b666c05e948",
   "metadata": {},
   "source": [
    "# Task 6: Mathematical Operations"
   ]
  },
  {
   "cell_type": "code",
   "execution_count": null,
   "id": "da1a0c2b-44c8-4549-b8d6-7c88b8f2cb55",
   "metadata": {},
   "outputs": [],
   "source": [
    "# Task: Perform mathematical operations on arrays.\n",
    "# Instructions:\n",
    "# Create an array [10, 20, 30, 40, 50].\n",
    "# Calculate the sum of all elements.\n",
    "# Calculate the mean of the array.\n",
    "# Find the standard deviation."
   ]
  },
  {
   "cell_type": "markdown",
   "id": "a0bec747-bd97-4b1f-9bff-5d8e59b11fc1",
   "metadata": {},
   "source": [
    "# Linear Algebra with NumPy\n",
    "NumPy includes a submodule for linear algebra operations such as matrix multiplication, transposition, and finding eigenvalues."
   ]
  },
  {
   "cell_type": "code",
   "execution_count": 52,
   "id": "96eb5287-b4a6-43b3-b150-d3b2305a7bdb",
   "metadata": {},
   "outputs": [
    {
     "name": "stdout",
     "output_type": "stream",
     "text": [
      "[[1 2]\n",
      " [3 4]]\n",
      "[[1 3]\n",
      " [2 4]]\n",
      "[[ 5 11]\n",
      " [11 25]]\n"
     ]
    }
   ],
   "source": [
    "matrix = np.array([[1, 2], [3, 4]])\n",
    "print(matrix)\n",
    "# Transpose\n",
    "transposed = np.transpose(matrix)\n",
    "print(transposed)\n",
    "\n",
    "# Matrix Multiplication\n",
    "result = np.dot(matrix, transposed)\n",
    "print(result)\n",
    "\n",
    "# [[1*1 + 2*2, 1*3 + 2*4],  ->  [[ 5, 11],\n",
    "# [3*1 + 4*2, 3*3 + 4*4]]       [11, 25]]\n",
    "\n"
   ]
  },
  {
   "cell_type": "markdown",
   "id": "24abd461-597d-4d58-9a76-e27a53e5c5e1",
   "metadata": {},
   "source": [
    "# Linear Algebra Operations\n"
   ]
  },
  {
   "cell_type": "code",
   "execution_count": null,
   "id": "e3facb25-6598-4905-b765-45b7bee4f439",
   "metadata": {},
   "outputs": [],
   "source": [
    "# Task: Perform linear algebra operations using NumPy.\n",
    "# Instructions:\n",
    "# Create a 2x2 matrix [[1, 2], [3, 4]].\n",
    "# Calculate its transpose.\n",
    "# Perform matrix multiplication of the matrix with its transpose.\n",
    "# Find the determinant of the matrix."
   ]
  },
  {
   "cell_type": "markdown",
   "id": "9c821c00-4680-4f7e-90df-97a7b067f3dc",
   "metadata": {},
   "source": [
    "# Random Number Generation\n",
    "NumPy’s random module allows you to generate random numbers, random arrays, and draw samples from statistical distributions.\n"
   ]
  },
  {
   "cell_type": "code",
   "execution_count": 54,
   "id": "d51489d9-631b-4560-bfd2-342324d9a350",
   "metadata": {},
   "outputs": [
    {
     "name": "stdout",
     "output_type": "stream",
     "text": [
      "[[0.30740541 0.51008081 0.67782818]\n",
      " [0.64197525 0.86595513 0.87938425]]\n",
      "[ 4.39731111e-01 -1.63386996e+00  6.03831201e-02 -6.75486865e-01\n",
      " -3.10445455e-01  6.80763155e-01 -9.69905209e-02  6.74167484e-01\n",
      " -4.83960598e-01 -4.13383580e-02  9.68911718e-01 -9.22505228e-01\n",
      "  6.13058226e-01  5.66820318e-01  7.68442522e-01 -1.21954877e-01\n",
      " -6.54393318e-01  7.39349473e-01 -1.56001082e+00  2.70757407e+00\n",
      "  1.78425801e+00 -7.77588041e-01 -2.07222989e-01 -3.57780548e-01\n",
      "  1.12627183e+00 -1.62369461e-01  4.83737598e-01  7.04573981e-04\n",
      "  3.31959450e-01  3.27428261e-01 -1.63578731e+00 -3.06409059e-01\n",
      "  2.64838148e-02 -1.39133423e+00 -1.06232051e-01  3.81496405e-01\n",
      "  6.62495132e-01  2.90631478e-02  1.58709265e+00 -1.17004361e+00\n",
      "  1.92517757e+00 -6.70435954e-01  1.06347571e+00  7.65575031e-01\n",
      "  6.17581854e-01 -1.33479723e+00 -4.83017334e-01  6.83116522e-01\n",
      " -1.12396939e+00  7.66810569e-01  1.01817364e+00 -1.13399899e-01\n",
      "  1.73770253e+00  1.36619385e+00 -2.45347860e-01 -5.87095535e-01\n",
      " -9.20712188e-01  5.62524693e-01 -1.02244480e-01 -2.28624139e+00\n",
      " -6.72693194e-01  9.34657945e-01 -1.00720823e+00  6.24612499e-01\n",
      "  1.15292170e+00 -7.15441143e-01 -9.87917635e-02 -3.42200739e+00\n",
      " -2.42932696e+00  5.40368615e-01 -1.05118076e-01 -9.74086039e-01\n",
      "  3.66794000e-02 -2.53533992e-01 -1.74823911e+00  1.54333622e-01\n",
      "  1.16135037e+00 -2.66044984e+00  1.22383368e+00 -1.34439144e+00\n",
      "  3.04108872e-02  3.32617268e-01  1.31404192e+00  1.06002902e+00\n",
      " -3.80564039e-01  5.28291977e-01  6.10610258e-01 -1.10847436e+00\n",
      " -1.74307219e+00 -1.50905837e-01 -5.19093273e-02 -1.22343755e+00\n",
      " -1.77756070e+00 -8.31075624e-02  6.11669493e-01  1.37429454e+00\n",
      " -7.98885986e-01 -6.98793984e-01  6.79691398e-01 -9.87383586e-01\n",
      "  1.80421703e-01  3.04002040e+00  3.10288677e-01 -1.28215002e+00\n",
      " -3.95973174e-01  4.20904776e-01  1.27766047e+00  2.04361980e-01\n",
      " -4.35296429e-01 -8.41521266e-01  8.99905224e-01 -5.93099442e-01\n",
      "  1.85620199e-01  2.19289466e-01  3.19051649e-01  1.36117076e+00\n",
      " -2.93267108e+00  7.58894692e-01  1.21908070e+00  1.95809049e+00\n",
      "  2.02640636e+00 -3.14915625e-01  1.06426288e+00 -1.13469857e+00\n",
      " -1.45483204e-01 -8.55225128e-01 -7.57500481e-01 -1.43554919e+00\n",
      " -1.42425735e+00  8.89872078e-01  1.47427730e+00 -1.97653702e+00\n",
      "  2.80240859e-01 -1.17905117e-01 -1.53101651e+00 -8.15606302e-01\n",
      "  2.14233821e+00 -2.00233234e+00  4.11376734e-01 -3.20206561e-01\n",
      " -2.27346571e-01  5.32811950e-01 -3.73605383e-01 -1.88603749e+00\n",
      "  7.05186523e-02  1.93045202e+00 -1.43981050e+00  3.95442379e-01\n",
      "  5.88994580e-01  2.04094739e+00 -1.24106300e+00  7.01896377e-01\n",
      "  1.55142140e+00 -6.37799574e-01 -5.64158706e-01 -1.03089196e+00\n",
      " -2.04177521e+00 -1.10510386e+00  1.03551471e+00 -7.39627749e-01\n",
      " -9.87151018e-01 -1.87286055e-01 -5.15159371e-01 -4.96623888e-01\n",
      " -3.61165401e-01  2.61918785e-01 -1.14457825e+00  1.23058512e-01\n",
      "  1.43012034e+00  5.54715688e-01 -8.10300085e-01  4.65049987e-01\n",
      "  2.85638420e-01  1.38952236e+00  2.79299559e-01 -4.14286603e-01\n",
      " -2.81462945e-01  1.48019035e+00  5.30682414e-01  1.22274758e+00\n",
      "  1.81864514e+00 -4.13262651e-01  1.25734577e+00  5.70426721e-01\n",
      "  8.12620494e-01  4.06148895e-01 -1.35477247e+00 -1.12364497e+00\n",
      "  1.16179948e+00 -1.33203802e+00  7.77755792e-01  5.18890739e-01\n",
      " -4.90250278e-01  3.94987529e-02  8.71114604e-02 -6.55653807e-01\n",
      "  2.90460376e-01  9.95226367e-01 -3.07910677e-01 -5.31208194e-02\n",
      " -6.00327423e-01 -1.30489852e+00  1.80761477e+00 -5.54714053e-01\n",
      " -1.10347269e+00 -2.12288279e+00  4.88590575e-02 -6.57436311e-02\n",
      "  1.04624119e+00  4.88857113e-01 -2.54604896e+00 -1.52067793e-01\n",
      "  7.65786318e-01 -1.41509483e+00 -1.57749184e+00  1.22540613e+00\n",
      " -7.33985351e-01  2.36222919e-02  2.48595505e-01  1.04287847e+00\n",
      "  6.62556318e-01  2.23705097e-01 -1.25021810e-01  7.16102189e-01\n",
      " -6.25997365e-01 -3.94602741e-01  6.90484510e-01 -6.05143149e-01\n",
      "  1.39342376e+00  8.29446065e-01  1.00014891e+00 -5.04436239e-01\n",
      "  1.02051475e+00 -1.39292417e+00  1.36972887e+00  1.43008095e+00\n",
      " -7.72323535e-01  5.16031815e-01 -1.20026923e+00 -4.54571791e-01\n",
      " -2.49095798e-01  3.04272386e+00  1.19376951e+00  1.95957939e-01\n",
      " -1.34484012e+00 -2.30487931e-01 -1.72113560e-01 -2.80368050e-01\n",
      " -6.75178113e-02  1.03202350e-01 -5.47299430e-01  6.73980227e-01\n",
      "  8.25923501e-01 -6.45652533e-01  1.06797752e+00  1.09172941e-01\n",
      "  1.14860600e+00 -8.33707896e-01  1.67562321e+00  6.69886459e-01\n",
      "  7.29382549e-01 -7.78996533e-01  3.80050291e-02 -1.14767591e+00\n",
      " -2.54805694e-01 -1.15572730e+00 -1.74104570e-01  2.02058412e+00\n",
      " -2.24124071e+00 -4.26715042e-01  9.90268602e-01  2.98430930e-01\n",
      " -3.29229517e-01 -4.40024406e-02 -1.59571879e+00 -1.90822805e-01\n",
      " -7.51116628e-02  7.56641902e-01 -3.75473501e-01 -3.93930956e-01\n",
      " -7.49727099e-01 -1.53205058e+00  4.52487869e-01  2.30192243e+00\n",
      "  6.59143213e-01 -1.24905400e+00 -8.98427316e-01 -9.19108551e-01\n",
      "  5.27893354e-01 -2.93417325e-02  3.04014949e-01  1.31515127e+00\n",
      "  1.49761690e+00 -1.03907706e+00  3.39674363e-01 -6.63228208e-01\n",
      "  9.74375313e-01 -1.12140641e+00  1.27192856e+00  1.72794132e+00\n",
      "  2.01627558e+00 -1.32466115e+00 -1.08841447e+00  5.25960185e-02\n",
      "  1.15689489e+00 -4.39657162e-01  1.66289360e-02  4.07282103e-01\n",
      " -5.05285412e-01 -1.32703526e+00  5.21888555e-01 -9.41830070e-01\n",
      "  1.97111242e+00 -3.07169003e-02  9.55100795e-01  8.97637200e-01\n",
      " -1.00929911e+00 -5.95821412e-01  9.98092560e-01 -7.73103332e-01\n",
      "  8.11692095e-01  7.87722758e-01 -6.58048093e-01 -3.02172617e-01\n",
      "  6.20004411e-01  1.70685824e+00 -1.60968639e+00 -1.29975472e+00\n",
      "  8.60376863e-01  9.53795866e-02  7.19721027e-02 -8.15959264e-02\n",
      "  8.24816445e-01  5.73416492e-01  3.15279697e-02 -2.93321902e-01\n",
      "  3.69867051e-01 -1.07025538e+00 -4.99608745e-01 -9.21741158e-01\n",
      "  5.63374994e-02  4.81113977e-01 -2.49806626e-01 -1.04678318e+00\n",
      "  9.59022771e-02 -1.63797202e+00  1.21295493e-01  1.20548158e+00\n",
      " -1.00731590e+00 -2.02669284e-01 -2.66500696e-01  5.08067319e-01\n",
      "  1.30247787e+00 -1.31139636e+00 -1.22690673e+00  2.04276722e-01\n",
      "  1.61756250e+00  8.03330728e-01 -5.15997222e-01 -1.26413033e-01\n",
      "  1.56087280e+00 -4.46844163e-01 -6.73010422e-01 -2.97388659e-02\n",
      " -9.30982036e-01  1.82180739e+00 -8.49469624e-01 -3.30423150e-01\n",
      "  6.86330771e-01  1.56194777e+00 -1.54170096e+00  1.85326235e+00\n",
      " -1.40558777e-01  6.61724329e-02 -1.04338056e+00 -8.58796966e-01\n",
      " -3.33488798e-01 -1.66189061e+00  5.88464082e-01 -2.16430817e+00\n",
      " -2.50413994e-01  1.28434801e+00  1.92626576e+00 -1.59734603e-01\n",
      " -3.03031438e+00 -1.59362358e+00 -2.39364874e-01  5.49824663e-01\n",
      "  5.84083949e-01  5.21093428e-01  3.33236189e-01  8.30711144e-01\n",
      " -8.42975878e-01 -1.16764729e+00  1.04420412e+00 -7.38559688e-01\n",
      " -5.34822566e-01 -2.10316864e-01 -7.19615427e-01 -7.53450539e-01\n",
      " -1.17225127e+00  1.16305273e+00 -8.88256151e-01  6.27807222e-01\n",
      " -7.31989867e-01 -6.00774921e-01 -1.89310460e-01  1.43172313e-01\n",
      "  4.02385411e-01 -1.53179560e+00 -2.90574087e-01 -2.79949504e-01\n",
      "  3.12259760e+00  2.79774244e-01  1.61432498e+00 -1.10197749e-01\n",
      "  7.86797061e-01  2.00117149e+00 -3.85076440e-01 -1.60084871e+00\n",
      "  4.59728052e-01  7.62893185e-01  1.29513189e+00  1.47045059e+00\n",
      " -4.20468067e-01  9.10331329e-01  6.30917383e-04  1.08453172e+00\n",
      "  1.69363038e+00  1.48645997e+00 -8.70059705e-01  5.49152609e-01\n",
      " -1.92159889e-02  1.30111703e+00 -1.38431724e+00  3.31720963e-01\n",
      "  1.78957286e+00  3.37797077e-01 -6.89899537e-01 -1.47995349e+00\n",
      " -2.04342087e-01 -1.03811494e+00 -9.68188623e-01  8.08948068e-01\n",
      " -3.58823228e-02 -5.02107893e-01 -6.10124018e-01  1.93958518e+00\n",
      "  5.55233153e-01 -3.00821346e-02 -8.47954345e-01  9.60074371e-01\n",
      "  3.07936391e-01 -2.20469559e-01  1.18056931e+00  7.53312401e-01\n",
      " -6.49792894e-01  2.10265679e-01 -7.72586169e-02 -7.28180891e-01\n",
      "  2.14440485e+00  5.27890883e-02 -8.00368312e-01  1.50277207e+00\n",
      " -1.79256907e-01  1.15618389e+00 -1.44716496e+00  3.72224054e-01\n",
      "  3.05422141e-01 -1.21806829e-01 -5.44999273e-02 -2.08555307e+00\n",
      " -1.41563517e-01  5.07166564e-01  9.47860703e-01  1.15229662e+00\n",
      " -4.79702161e-01  3.19836553e-01 -7.20393739e-01  4.58718086e-01\n",
      " -1.54562447e+00 -1.48944326e+00  4.09312816e-01  1.74913673e+00\n",
      " -1.88651814e+00  1.32809863e-01  1.41816821e+00 -1.88112045e+00\n",
      "  1.22420147e+00 -1.51937926e+00  1.42723998e-01  1.57843351e-01\n",
      " -3.04837619e+00 -1.88646805e+00  1.28161558e+00  3.07543018e-01\n",
      " -4.14538276e-01 -4.45635931e-01 -7.07062292e-01 -2.04789426e-01\n",
      " -1.72419193e+00  4.02516598e-01 -1.16181451e+00  6.04613921e-01\n",
      "  8.73755307e-01  1.45572109e+00 -9.64841081e-01 -2.12168221e-01\n",
      " -6.79301399e-01 -1.41757823e+00 -2.16821502e+00  2.77902035e-01\n",
      "  9.47531696e-02  1.60660569e+00 -1.13440410e+00 -6.80258252e-01\n",
      " -7.18870761e-01 -1.86143555e+00 -1.39605635e+00  8.82523871e-01\n",
      " -3.08953860e-01  1.02238764e-02  9.49750692e-01 -2.39904820e-01\n",
      "  1.08419865e+00 -1.39319293e+00  1.02132890e+00  1.63318041e+00\n",
      "  5.54309373e-01  8.96816836e-01  1.93166119e-01 -1.06044238e-02\n",
      " -4.48656426e-02 -1.14178226e+00  1.96810353e-01  1.33533073e+00\n",
      " -1.23454649e+00  5.21387804e-01  9.06272806e-01  1.29474556e-01\n",
      "  1.77859667e+00 -1.11267202e+00  9.34680604e-01  4.72695567e-01\n",
      " -5.38008931e-01  6.30184650e-01  5.17316888e-01 -1.75123602e+00\n",
      "  2.49807315e-01  6.72188173e-01 -2.87145280e-01  3.44260525e-01\n",
      " -1.47465253e+00 -1.94150061e+00  1.03141272e+00 -1.78642670e-01\n",
      " -9.67290214e-01 -3.27324778e-02  3.31445184e-01  3.75661527e-01\n",
      "  7.72777530e-01  2.73842286e-01 -4.74326208e-01 -1.88576985e-01\n",
      " -6.20974036e-01  8.12907316e-01  7.76513261e-01 -2.42685102e-01\n",
      " -1.33453561e+00  1.43378851e+00 -1.57498371e+00  1.98135862e-01\n",
      " -9.29829433e-01  1.75649155e+00 -2.58709410e+00  8.86438953e-01\n",
      " -5.04222949e-01 -1.01786499e-01  7.89926460e-01 -2.55079336e+00\n",
      "  4.55170761e-01 -2.22184745e-01  1.04002470e+00  1.71432939e+00\n",
      " -2.37548617e-01 -1.39070813e+00 -8.41435058e-01 -7.60163229e-01\n",
      " -7.49308311e-01  1.11396212e+00 -2.10991092e-02  8.00119236e-01\n",
      " -1.13025973e+00 -5.74195201e-01 -6.12919336e-01 -2.82208028e+00\n",
      "  2.18935041e-01 -3.47359994e-01  1.18199140e+00 -1.74461758e+00\n",
      "  2.72024135e-01 -7.20263177e-01 -2.11949661e-01 -2.04020708e+00\n",
      "  9.97115578e-01  1.12220317e+00  6.89554151e-01  1.48606644e+00\n",
      " -4.42612850e-01  8.68441141e-01 -1.20326863e+00  4.94013108e-01\n",
      " -6.93831837e-01  1.78173186e-01  3.56505420e-01 -9.57051146e-01\n",
      "  8.47903815e-02 -2.31542118e+00  2.67598349e-01 -1.11453879e+00\n",
      " -1.46238427e-01 -1.29573486e+00  9.85168105e-01  2.77147971e+00\n",
      " -1.93032355e-01 -2.00538822e-01  1.04436764e-01  2.87316649e-01\n",
      " -3.44888161e-01  9.29267073e-02  5.85480892e-01 -1.03323040e+00\n",
      "  6.82893922e-01  1.38328005e+00  1.83960033e+00 -7.99378227e-01\n",
      "  8.16484473e-01  2.05090700e-01 -2.09134608e-01 -1.08248117e+00\n",
      " -1.53701058e+00  1.76249049e+00 -9.78325958e-01 -2.92896657e-01\n",
      " -1.85199167e+00  8.94413228e-01  2.83203133e-01  1.51417219e+00\n",
      "  2.38169898e-01 -1.16843876e+00  1.24089708e+00 -1.99043912e+00\n",
      " -7.41929552e-01 -5.00504924e-01  1.72704426e+00 -1.60799390e-01\n",
      "  4.48874432e-01  1.54695924e-01 -8.00737150e-02 -3.27268606e-01\n",
      "  1.55688045e+00 -1.27397956e-01  1.63998925e+00 -5.63270002e-01\n",
      " -1.65213360e+00 -4.48355643e-01  1.02060351e+00  1.40686063e+00\n",
      " -1.38830422e-01  1.18867578e+00  4.91948468e-01  1.41763881e+00\n",
      " -7.57102781e-01 -3.27178351e-01  5.41314371e-01  2.81462827e-01\n",
      "  6.31423373e-01  1.64987166e-01 -2.53628541e-01 -2.99516550e-02\n",
      "  1.41436174e+00 -2.06691851e+00  8.01627748e-01  3.54662578e-01\n",
      " -5.48032080e-01  1.49335517e+00  1.61342436e+00  1.28910320e+00\n",
      " -6.28907589e-01  5.73177477e-01  1.55640012e+00  1.22644497e+00\n",
      " -1.08693491e+00  1.03975518e+00  1.22777258e+00  8.23036189e-01\n",
      "  5.09569556e-02 -9.35091723e-02 -6.11654935e-01 -3.06975806e-01\n",
      " -1.74942139e+00 -1.72266006e+00 -1.71661256e-01  2.00981787e+00\n",
      " -2.94544461e-01  8.55059409e-01  1.33354715e+00  1.45548225e+00\n",
      "  6.25496747e-01 -4.42596461e-01  8.15199878e-01 -9.45668638e-01\n",
      "  2.20622457e+00 -1.44911112e+00  1.61582826e+00 -7.54165273e-01\n",
      " -1.38142570e-01 -5.62310334e-01  1.19864112e-01  3.40177502e-01\n",
      " -2.31174325e-01  2.43622728e+00 -1.12414590e+00  4.87854636e-01\n",
      " -3.19145718e-01 -3.11650503e-01  9.67147533e-01  1.66699681e+00\n",
      "  7.63328134e-01 -8.96192508e-02  7.95916659e-01  7.52535116e-01\n",
      " -1.02269063e+00 -1.82255846e+00  9.30661255e-01 -4.14869148e-01\n",
      "  5.77901211e-02  2.17000867e-01  2.37921618e+00  4.15538002e-01\n",
      "  1.31241758e+00 -1.17822523e+00 -2.03655132e-01  2.65903087e+00\n",
      " -1.55919268e-01  5.47130243e-01 -8.41408788e-01  1.00459381e+00\n",
      " -2.78447905e-01 -7.55829792e-01 -2.08074310e+00  8.16885369e-01\n",
      "  4.74895019e-01 -6.63005783e-01 -2.72949287e+00  9.35839740e-03\n",
      " -1.64175493e-01  6.75865932e-01  5.01721153e-01 -4.94005030e-01\n",
      "  8.91974077e-01 -5.88469784e-01  1.03609688e+00  8.00185072e-01\n",
      " -6.80988922e-01 -2.09960187e-01 -6.34824376e-01  1.50469676e+00\n",
      "  6.87990791e-01 -3.66088071e-01 -4.43398323e-01  1.56586667e+00\n",
      "  1.95399740e-01  2.53606959e-01  4.03772789e-01 -3.05536536e-01\n",
      " -1.34419943e+00 -1.07389903e+00 -1.40992897e+00  5.76275859e-01\n",
      "  8.63504028e-01  1.53236823e+00 -9.33668961e-01  4.84381764e-01\n",
      "  5.49335263e-01  5.42111197e-01 -2.58856825e-01 -2.88051710e-01\n",
      " -2.39463671e-01 -6.63980865e-01  3.30638085e-01  1.54026004e+00\n",
      "  5.95448017e-01 -1.68262418e-01 -4.21097216e-01  9.79570242e-01\n",
      "  2.10312571e-01  3.77313259e-01  7.79174445e-01  4.63999485e-02\n",
      "  6.03944695e-01 -3.69763207e-01  1.38824463e+00 -6.02302568e-01\n",
      " -1.81288080e-01 -2.82270511e-01 -2.32646172e+00 -6.23097754e-01\n",
      " -1.13698444e+00 -7.53160529e-01  1.04064966e-01 -4.91459097e-01\n",
      " -4.59627423e-01  4.24547778e-02  4.69374930e-01 -4.30597746e-01\n",
      "  1.35389040e+00  1.61367235e+00  1.62073053e-01 -1.80571822e+00\n",
      " -4.64017034e-01 -6.50262113e-01 -6.48130333e-01 -4.14243509e-01\n",
      "  3.30414186e-01  1.08466768e+00  1.19883314e-01  1.95665207e+00\n",
      " -1.72308033e+00  1.66003530e+00  2.16564319e+00 -4.87664619e-01\n",
      " -1.12573567e+00 -1.23660779e+00 -8.71310139e-01  1.41774517e+00\n",
      " -1.16943882e+00  4.16130576e-01  1.18968038e+00  7.94237361e-01\n",
      " -9.61964806e-01 -1.59147431e+00  4.00605210e-01  6.25304341e-01\n",
      "  8.61940938e-01  8.68285633e-01 -6.03092908e-01 -5.64358860e-01\n",
      "  1.55007406e+00 -1.89667814e-01  4.26523811e-02  5.06413435e-01\n",
      " -1.25148911e+00 -6.30544586e-01  4.31225575e-01  4.86446170e-01\n",
      " -2.85378646e-01  7.28684134e-01 -5.98165143e-01  2.42543343e-01\n",
      " -8.89135051e-01 -8.98610427e-01 -4.27118486e-01 -7.26200231e-01\n",
      "  9.75820150e-01 -3.54573448e-01 -1.80223570e+00  9.13608825e-01\n",
      " -1.82715617e+00  6.94882549e-01  2.07909102e+00 -5.73633834e-03\n",
      "  1.78891938e+00  1.07640048e+00  1.35896981e+00 -1.64924918e+00\n",
      " -7.69132630e-01  5.99041353e-01  4.20008734e-01 -7.26002167e-01\n",
      "  2.68933824e-01  3.06446419e-01 -8.49397129e-02  7.51946801e-01\n",
      "  4.66058114e-01  1.31383376e+00 -7.49707597e-01 -3.43073450e-01\n",
      " -1.32841638e+00 -4.15681943e-01  1.32116750e+00  1.02378431e+00\n",
      "  2.06210050e+00  6.78166261e-02  9.69131501e-01 -1.28404832e+00\n",
      " -1.05339777e+00 -6.76401515e-02  1.01318424e+00 -6.07146852e-01\n",
      "  5.72732769e-01 -5.60407932e-01 -7.23765453e-01 -1.25757297e+00\n",
      "  1.66331696e+00  1.56833859e+00  2.95960062e-01 -5.53688236e-02\n",
      " -1.79221881e+00 -5.55484462e-01 -1.74931104e+00  9.92371170e-01\n",
      "  5.18080635e-01 -8.20029008e-01  6.39172156e-01 -4.97618517e-01\n",
      " -7.30547076e-01 -2.11725265e+00 -1.27643482e-01 -2.69971272e-01\n",
      "  6.96381088e-01 -6.63807133e-02 -4.46636078e-01  5.37039290e-01\n",
      " -7.07009958e-01 -1.43444207e+00 -1.19360501e-01 -8.02577817e-01\n",
      "  4.94534156e-01  1.19192841e+00  6.38898688e-01  5.20726287e-01\n",
      " -3.85097039e-01 -1.50238051e+00 -1.16530439e+00 -3.55493978e-01\n",
      "  8.78991933e-01 -1.39182749e-01  1.68219381e+00  5.37542962e-01\n",
      " -1.86320566e+00  1.03649644e+00 -4.03631385e-01  2.13206120e+00\n",
      "  1.17051005e+00  1.17889456e-01  2.50516438e+00  6.21222937e-01\n",
      "  1.87771474e+00  1.58086603e+00  1.16387577e-01  3.89269254e-01\n",
      " -4.67267570e-01 -2.98036493e-01 -3.33717828e-01 -4.41970514e-01\n",
      "  1.05629941e+00 -6.83531870e-02 -1.46020009e+00  4.86243542e-01\n",
      " -3.16817668e-01 -5.84034318e-01  1.97394552e+00  3.73385732e-01\n",
      " -5.99402351e-01  1.68327200e+00  6.22155355e-01  7.41928432e-01\n",
      " -8.56947780e-01 -5.42985785e-01 -2.18873293e-01  9.02965097e-02\n",
      "  2.99289933e-01 -5.12512246e-01  3.21379664e-01  1.61475852e+00\n",
      "  6.70025487e-01 -1.54288806e+00  4.40504793e-01 -9.92568953e-01\n",
      " -3.10184023e-01 -1.97588321e-02  9.50238075e-01 -1.50056840e+00\n",
      " -9.66632051e-01 -1.93059582e+00 -1.03731840e+00  1.44470671e+00\n",
      " -1.33855914e-01  3.14419182e+00 -1.92954872e+00  1.03925479e+00\n",
      " -2.14910816e+00 -7.27777582e-01 -6.36358634e-01  3.56479631e-01\n",
      " -2.03220906e+00 -8.13306004e-01 -4.01571886e-01 -1.22216644e-01]\n"
     ]
    }
   ],
   "source": [
    "# Random Array\n",
    "random_array = np.random.random((2, 3))\n",
    "print(random_array)\n",
    "# Normal Distribution\n",
    "normal_array = np.random.normal(0, 1, 1000)\n",
    "print(normal_array)\n"
   ]
  },
  {
   "cell_type": "markdown",
   "id": "9aca80bc-8e2f-40fa-a4b2-3e2ca6d019de",
   "metadata": {},
   "source": [
    "# Random Number Generation"
   ]
  },
  {
   "cell_type": "code",
   "execution_count": null,
   "id": "2ad585e9-fd04-4762-9508-ee01b3899915",
   "metadata": {},
   "outputs": [],
   "source": [
    "# Task: Generate random numbers and analyze the distribution.\n",
    "# Instructions:\n",
    "# Generate a random array of shape (2, 3) with values between 0 and 1.\n",
    "# Generate a random array of 1000 elements following a normal distribution with mean 0 and standard deviation 1.\n",
    "# Plot the histogram of the normal distribution.\n"
   ]
  },
  {
   "cell_type": "markdown",
   "id": "bed75f78-6240-40f4-876c-a2a27864bdcf",
   "metadata": {},
   "source": [
    "# Advanced Indexing Techniques\n",
    "Advanced indexing includes boolean indexing and fancy indexing, which allow you to filter and select elements based on specific conditions."
   ]
  },
  {
   "cell_type": "code",
   "execution_count": 55,
   "id": "5a093f14-5591-434c-a6c5-3bd35bd9a4c1",
   "metadata": {},
   "outputs": [
    {
     "name": "stdout",
     "output_type": "stream",
     "text": [
      "[4 5 6]\n",
      "[1 3 5]\n"
     ]
    }
   ],
   "source": [
    "array = np.array([1, 2, 3, 4, 5, 6])\n",
    "\n",
    "# Boolean Indexing\n",
    "bool_idx = array > 3\n",
    "filtered_array = array[bool_idx]\n",
    "print(filtered_array)\n",
    "# Fancy Indexing\n",
    "fancy_array = array[[0, 2, 4]]\n",
    "print(fancy_array)\n"
   ]
  },
  {
   "cell_type": "markdown",
   "id": "c173e4f9-9fca-4350-9828-78cabd7ebea9",
   "metadata": {},
   "source": [
    "# Performance Optimization"
   ]
  },
  {
   "cell_type": "code",
   "execution_count": 56,
   "id": "636cae36-b7ce-4922-ac9c-2fcb04a4813e",
   "metadata": {},
   "outputs": [
    {
     "name": "stdout",
     "output_type": "stream",
     "text": [
      "333522.7161438503\n"
     ]
    }
   ],
   "source": [
    "large_array = np.random.random(1000000)\n",
    "\n",
    "# Vectorized Operation\n",
    "sum_of_squares = np.sum(large_array ** 2)\n",
    "print(sum_of_squares)"
   ]
  },
  {
   "cell_type": "code",
   "execution_count": null,
   "id": "7f30c4ad-66c7-405d-8c94-c77f4322772a",
   "metadata": {},
   "outputs": [],
   "source": []
  }
 ],
 "metadata": {
  "kernelspec": {
   "display_name": "Python 3 (ipykernel)",
   "language": "python",
   "name": "python3"
  },
  "language_info": {
   "codemirror_mode": {
    "name": "ipython",
    "version": 3
   },
   "file_extension": ".py",
   "mimetype": "text/x-python",
   "name": "python",
   "nbconvert_exporter": "python",
   "pygments_lexer": "ipython3",
   "version": "3.12.4"
  }
 },
 "nbformat": 4,
 "nbformat_minor": 5
}
