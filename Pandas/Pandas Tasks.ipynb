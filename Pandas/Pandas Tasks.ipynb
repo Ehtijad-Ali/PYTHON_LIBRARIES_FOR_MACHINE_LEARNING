{
 "cells": [
  {
   "cell_type": "markdown",
   "id": "87f1156e-e81f-4b17-85b6-bb6e70023717",
   "metadata": {},
   "source": [
    "# PANDAS Series"
   ]
  },
  {
   "cell_type": "code",
   "execution_count": 28,
   "id": "3ab597ee-7173-4881-84c0-786ffd06821f",
   "metadata": {},
   "outputs": [
    {
     "data": {
      "text/plain": [
       "Mondey       1\n",
       "Tuesday      2\n",
       "Wednesday    3\n",
       "Thursday     4\n",
       "Friday       5\n",
       "Satureday    6\n",
       "Sunday       7\n",
       "dtype: int64"
      ]
     },
     "execution_count": 28,
     "metadata": {},
     "output_type": "execute_result"
    }
   ],
   "source": [
    "import pandas as pd\n",
    "\n",
    "days_data = pd.Series( [1, 2, 3, 4, 5, 6, 7], index =['Mondey','Tuesday','Wednesday','Thursday','Friday','Satureday','Sunday'])\n",
    "days_data\n"
   ]
  },
  {
   "cell_type": "code",
   "execution_count": 26,
   "id": "940cb3ca-9668-433d-a902-d60f0d73580a",
   "metadata": {},
   "outputs": [
    {
     "name": "stdout",
     "output_type": "stream",
     "text": [
      "The Index of The Wednesday is :  5\n"
     ]
    }
   ],
   "source": [
    "index_number = days_data['Friday']\n",
    "print('The Index of The Wednesday is : ', index_number)"
   ]
  },
  {
   "cell_type": "code",
   "execution_count": 31,
   "id": "05af1549-1810-452b-a7dd-8f005f0807b5",
   "metadata": {},
   "outputs": [
    {
     "data": {
      "text/plain": [
       "Mondey       1\n",
       "Tuesday      2\n",
       "Wednesday    9\n",
       "Thursday     4\n",
       "Friday       5\n",
       "Satureday    6\n",
       "Sunday       7\n",
       "dtype: int64"
      ]
     },
     "execution_count": 31,
     "metadata": {},
     "output_type": "execute_result"
    }
   ],
   "source": [
    "days_data['Wednesday'] = 9\n",
    "days_data"
   ]
  },
  {
   "cell_type": "code",
   "execution_count": 33,
   "id": "b9d85773-336d-42b0-accd-b5f27524e18e",
   "metadata": {},
   "outputs": [
    {
     "data": {
      "text/plain": [
       "Mondey        2\n",
       "Tuesday       4\n",
       "Wednesday    18\n",
       "Thursday      8\n",
       "Friday       10\n",
       "Satureday    12\n",
       "Sunday       14\n",
       "dtype: int64"
      ]
     },
     "execution_count": 33,
     "metadata": {},
     "output_type": "execute_result"
    }
   ],
   "source": [
    "new_data = days_data*2\n",
    "new_data"
   ]
  },
  {
   "cell_type": "code",
   "execution_count": 40,
   "id": "b2312bfe-32b8-4cf5-be4b-f1251807a3f7",
   "metadata": {},
   "outputs": [
    {
     "data": {
      "text/plain": [
       "54"
      ]
     },
     "execution_count": 40,
     "metadata": {},
     "output_type": "execute_result"
    }
   ],
   "source": [
    "filter_data = new_data[days_data >= 5].sum()\n",
    "filter_data"
   ]
  },
  {
   "cell_type": "markdown",
   "id": "21506ab2-cd09-4e35-aea6-1ebb7b35512e",
   "metadata": {},
   "source": [
    "# Pandas DataFrame"
   ]
  },
  {
   "cell_type": "code",
   "execution_count": 48,
   "id": "054f07b6-f788-427c-a5a5-500da04ff418",
   "metadata": {},
   "outputs": [
    {
     "data": {
      "text/html": [
       "<div>\n",
       "<style scoped>\n",
       "    .dataframe tbody tr th:only-of-type {\n",
       "        vertical-align: middle;\n",
       "    }\n",
       "\n",
       "    .dataframe tbody tr th {\n",
       "        vertical-align: top;\n",
       "    }\n",
       "\n",
       "    .dataframe thead th {\n",
       "        text-align: right;\n",
       "    }\n",
       "</style>\n",
       "<table border=\"1\" class=\"dataframe\">\n",
       "  <thead>\n",
       "    <tr style=\"text-align: right;\">\n",
       "      <th></th>\n",
       "      <th>Name</th>\n",
       "      <th>Age</th>\n",
       "      <th>Class</th>\n",
       "    </tr>\n",
       "  </thead>\n",
       "  <tbody>\n",
       "    <tr>\n",
       "      <th>0</th>\n",
       "      <td>Ali</td>\n",
       "      <td>18</td>\n",
       "      <td>12th</td>\n",
       "    </tr>\n",
       "    <tr>\n",
       "      <th>1</th>\n",
       "      <td>Asad</td>\n",
       "      <td>18</td>\n",
       "      <td>11th</td>\n",
       "    </tr>\n",
       "    <tr>\n",
       "      <th>2</th>\n",
       "      <td>Irfan</td>\n",
       "      <td>19</td>\n",
       "      <td>12th</td>\n",
       "    </tr>\n",
       "    <tr>\n",
       "      <th>3</th>\n",
       "      <td>Muzamil</td>\n",
       "      <td>20</td>\n",
       "      <td>12th</td>\n",
       "    </tr>\n",
       "    <tr>\n",
       "      <th>4</th>\n",
       "      <td>Nadia</td>\n",
       "      <td>16</td>\n",
       "      <td>9th</td>\n",
       "    </tr>\n",
       "    <tr>\n",
       "      <th>5</th>\n",
       "      <td>Sanila</td>\n",
       "      <td>21</td>\n",
       "      <td>12th</td>\n",
       "    </tr>\n",
       "  </tbody>\n",
       "</table>\n",
       "</div>"
      ],
      "text/plain": [
       "      Name  Age Class\n",
       "0      Ali   18  12th\n",
       "1     Asad   18  11th\n",
       "2    Irfan   19  12th\n",
       "3  Muzamil   20  12th\n",
       "4    Nadia   16   9th\n",
       "5   Sanila   21  12th"
      ]
     },
     "execution_count": 48,
     "metadata": {},
     "output_type": "execute_result"
    }
   ],
   "source": [
    "school_data = {\n",
    "    'Name' : ['Ali','Asad','Irfan','Muzamil','Nadia','Sanila'],\n",
    "    'Age' : [18, 18, 19, 20, 16, 21],\n",
    "    'Class' : ['12th','11th','12th','12th','9th','12th']\n",
    "\n",
    "}\n",
    "\n",
    "detail = pd.DataFrame(school_data)\n",
    "detail"
   ]
  },
  {
   "cell_type": "code",
   "execution_count": 45,
   "id": "f2c08572-f668-4abb-8917-ec0f68638dcf",
   "metadata": {},
   "outputs": [
    {
     "name": "stdout",
     "output_type": "stream",
     "text": [
      "[18, 18, 19, 20, 16, 21]\n"
     ]
    }
   ],
   "source": [
    "age_data = school_data['Age']\n",
    "print(age_data)"
   ]
  },
  {
   "cell_type": "code",
   "execution_count": 47,
   "id": "b32d0b1c-75c8-4aed-8982-7719b9a62c9d",
   "metadata": {},
   "outputs": [
    {
     "data": {
      "text/plain": [
       "['12th', '11th', '12th', '12th', '9th', '12th']"
      ]
     },
     "execution_count": 47,
     "metadata": {},
     "output_type": "execute_result"
    }
   ],
   "source": [
    "class_data = school_data['Class']\n",
    "class_data"
   ]
  },
  {
   "cell_type": "code",
   "execution_count": 50,
   "id": "950e37ec-58d3-4f81-b424-3c5b7ffe4dfc",
   "metadata": {},
   "outputs": [
    {
     "data": {
      "text/plain": [
       "['Ali', 'Asad', 'Irfan', 'Muzamil', 'Nadia', 'Sanila']"
      ]
     },
     "execution_count": 50,
     "metadata": {},
     "output_type": "execute_result"
    }
   ],
   "source": [
    "names_data = school_data['Name']\n",
    "names_data"
   ]
  },
  {
   "cell_type": "code",
   "execution_count": 51,
   "id": "fd83404b-cff9-4413-baee-4b269b484cb6",
   "metadata": {},
   "outputs": [
    {
     "name": "stdout",
     "output_type": "stream",
     "text": [
      "19\n"
     ]
    }
   ],
   "source": [
    "print(school_data['Age'][2])"
   ]
  },
  {
   "cell_type": "code",
   "execution_count": 53,
   "id": "932e6ffd-0f9e-41fd-b897-79ef40916c7b",
   "metadata": {},
   "outputs": [
    {
     "name": "stdout",
     "output_type": "stream",
     "text": [
      "Muzamil\n"
     ]
    }
   ],
   "source": [
    "print(school_data['Name'][3])"
   ]
  },
  {
   "cell_type": "code",
   "execution_count": 54,
   "id": "9f1da437-202c-4baa-b783-cd0e42667576",
   "metadata": {},
   "outputs": [
    {
     "name": "stdout",
     "output_type": "stream",
     "text": [
      "11th\n"
     ]
    }
   ],
   "source": [
    "print(school_data['Class'][1])"
   ]
  },
  {
   "cell_type": "code",
   "execution_count": 58,
   "id": "2b34feac-fe64-4bdb-9812-d0010da995e2",
   "metadata": {},
   "outputs": [
    {
     "ename": "TypeError",
     "evalue": "'dict' object is not callable",
     "output_type": "error",
     "traceback": [
      "\u001b[1;31m---------------------------------------------------------------------------\u001b[0m",
      "\u001b[1;31mTypeError\u001b[0m                                 Traceback (most recent call last)",
      "Cell \u001b[1;32mIn[58], line 1\u001b[0m\n\u001b[1;32m----> 1\u001b[0m row \u001b[38;5;241m=\u001b[39m school_data(school_data[\u001b[38;5;124m'\u001b[39m\u001b[38;5;124mName\u001b[39m\u001b[38;5;124m'\u001b[39m] \u001b[38;5;241m==\u001b[39m \u001b[38;5;124m'\u001b[39m\u001b[38;5;124mNadia\u001b[39m\u001b[38;5;124m'\u001b[39m)\n\u001b[0;32m      2\u001b[0m row\n",
      "\u001b[1;31mTypeError\u001b[0m: 'dict' object is not callable"
     ]
    }
   ],
   "source": [
    "row = school_data(school_data['Name'] == 'Nadia')\n",
    "row"
   ]
  },
  {
   "cell_type": "code",
   "execution_count": null,
   "id": "0c766a43-4a67-4032-9b76-9030d55ecc61",
   "metadata": {},
   "outputs": [],
   "source": []
  }
 ],
 "metadata": {
  "kernelspec": {
   "display_name": "Python 3 (ipykernel)",
   "language": "python",
   "name": "python3"
  },
  "language_info": {
   "codemirror_mode": {
    "name": "ipython",
    "version": 3
   },
   "file_extension": ".py",
   "mimetype": "text/x-python",
   "name": "python",
   "nbconvert_exporter": "python",
   "pygments_lexer": "ipython3",
   "version": "3.12.4"
  }
 },
 "nbformat": 4,
 "nbformat_minor": 5
}
