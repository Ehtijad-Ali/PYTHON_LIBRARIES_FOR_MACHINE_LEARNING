{
 "cells": [
  {
   "cell_type": "markdown",
   "id": "63bf7b83-8b31-488c-a0db-48b8fb14adcf",
   "metadata": {},
   "source": [
    "# Working on Pandas\n",
    "Introduction\n",
    "\n",
    "Pandas is a powerful and flexible data analysis library in Python. It provides data structures like Series and DataFrame, which are essential for data manipulation and analysis. This lab manual will guide you through the basics of using Pandas."
   ]
  },
  {
   "cell_type": "markdown",
   "id": "c69ad5c5-75fe-4439-9118-590a0defd801",
   "metadata": {},
   "source": [
    "# 1. Series\n",
    "Definition: \n",
    "\n",
    "A Series is a one-dimensional labeled array that can hold data of any type (integer, string, float, etc.). It is similar to a column in an Excel spreadsheet or a single column in a database table.\n",
    "Labels: Each element in a Series is associated with a label, called an index. If no index is provided, Pandas automatically assigns a default index starting from 0."
   ]
  },
  {
   "cell_type": "code",
   "execution_count": 1,
   "id": "f5ecf6b6-2efc-40de-80dd-01cc29b239da",
   "metadata": {},
   "outputs": [
    {
     "name": "stdout",
     "output_type": "stream",
     "text": [
      "a    10\n",
      "b    20\n",
      "c    30\n",
      "d    40\n",
      "dtype: int64\n"
     ]
    }
   ],
   "source": [
    "import pandas as pd\n",
    "\n",
    "# Creating a Series\n",
    "data = pd.Series([10, 20, 30, 40], index=['a', 'b', 'c', 'd'])\n",
    "\n",
    "print(data)"
   ]
  },
  {
   "cell_type": "markdown",
   "id": "5f548cc2-cbcc-41ef-8717-d226cf117f31",
   "metadata": {},
   "source": [
    "# 2. DataFrame\n",
    "A DataFrame is a two-dimensional, tabular data structure with labeled axes (rows and columns). \n",
    "It can be thought of as a table or a collection of Series objects.\n",
    "Each column in a DataFrame is a Series, and the DataFrame itself is like a spreadsheet or SQL table.\n",
    "\n",
    "It consists of rows and columns:\n",
    "    \n",
    "    --  Index: Row labels.\n",
    "    --- Columns: Column labels.\n",
    "    --- Data: The actual data stored in a tabular form."
   ]
  },
  {
   "cell_type": "code",
   "execution_count": 2,
   "id": "e1f13650-5996-448c-8077-aa9a97a092c7",
   "metadata": {},
   "outputs": [
    {
     "name": "stdout",
     "output_type": "stream",
     "text": [
      "      Name  Age  Salary\n",
      "0    Alice   25   50000\n",
      "1      Bob   30   60000\n",
      "2  Charlie   35   70000\n",
      "3    David   40   80000\n"
     ]
    }
   ],
   "source": [
    "import pandas as pd\n",
    "\n",
    "# Creating a DataFrame\n",
    "data = {\n",
    "    'Name': ['Alice', 'Bob', 'Charlie', 'David'],\n",
    "    'Age': [25, 30, 35, 40],\n",
    "    'Salary': [50000, 60000, 70000, 80000]\n",
    "}\n",
    "\n",
    "df = pd.DataFrame(data)\n",
    "\n",
    "print(df)\n"
   ]
  },
  {
   "cell_type": "markdown",
   "id": "9adaac43-7ab1-4221-9375-aea8aa889fb9",
   "metadata": {},
   "source": [
    "# Key Differences:\n",
    "Series is a single column of data, whereas DataFrame is a multi-dimensional table with multiple columns.\n",
    "Series can be thought of as a single row or column of data with an index, while DataFrame can be considered a collection of multiple Series aligned on the same index."
   ]
  },
  {
   "cell_type": "markdown",
   "id": "4a6780e8-544d-48f4-ad7d-11645bf7ee07",
   "metadata": {},
   "source": [
    "# Task"
   ]
  },
  {
   "cell_type": "code",
   "execution_count": 3,
   "id": "a730389e-0210-4a82-88b2-fd015e64ca90",
   "metadata": {},
   "outputs": [
    {
     "name": "stdout",
     "output_type": "stream",
     "text": [
      "A    3.5\n",
      "B    4.2\n",
      "C    7.8\n",
      "D    5.6\n",
      "E    2.4\n",
      "dtype: float64\n"
     ]
    }
   ],
   "source": [
    "# Create a Series:\n",
    "import pandas as pd\n",
    "\n",
    "# Creating the Series\n",
    "data = pd.Series([3.5, 4.2, 7.8, 5.6, 2.4], index=['A', 'B', 'C', 'D', 'E'])\n",
    "\n",
    "# Print the Series\n",
    "print(data)"
   ]
  },
  {
   "cell_type": "code",
   "execution_count": 5,
   "id": "ac38f804-efc5-46fa-9b01-9f43982ff3de",
   "metadata": {},
   "outputs": [
    {
     "name": "stdout",
     "output_type": "stream",
     "text": [
      "Value at index 'C': 7.8\n",
      "A    3.5\n",
      "B    5.0\n",
      "C    7.8\n",
      "D    5.6\n",
      "E    2.4\n",
      "dtype: float64\n"
     ]
    }
   ],
   "source": [
    "# Access and Modify Elements:\n",
    "# Access the value at index 'C'\n",
    "value_c = data['C']\n",
    "print(\"Value at index 'C':\", value_c)\n",
    "\n",
    "# Modify the value at index 'B' to 5.0\n",
    "data['B'] = 5.0\n",
    "\n",
    "# Print the modified Series\n",
    "print(data)"
   ]
  },
  {
   "cell_type": "code",
   "execution_count": 6,
   "id": "5451950a-3556-4a95-9c32-57ebe6d9b820",
   "metadata": {},
   "outputs": [
    {
     "name": "stdout",
     "output_type": "stream",
     "text": [
      "A     7.0\n",
      "B    10.0\n",
      "C    15.6\n",
      "D    11.2\n",
      "E     4.8\n",
      "dtype: float64\n"
     ]
    }
   ],
   "source": [
    "#  Basic Operations:\n",
    "# Multiply all values in the Series by 2\n",
    "doubled_data = data * 2\n",
    "\n",
    "# Print the result\n",
    "print(doubled_data)\n"
   ]
  },
  {
   "cell_type": "code",
   "execution_count": 7,
   "id": "570736f7-d9e6-4964-ad28-dfbb73a03b68",
   "metadata": {},
   "outputs": [
    {
     "name": "stdout",
     "output_type": "stream",
     "text": [
      "C    7.8\n",
      "D    5.6\n",
      "dtype: float64\n"
     ]
    }
   ],
   "source": [
    "# Filtering:\n",
    "# Filter the Series to include only values greater than 5\n",
    "filtered_data = data[data > 5]\n",
    "\n",
    "# Print the filtered Series\n",
    "print(filtered_data)\n"
   ]
  },
  {
   "cell_type": "markdown",
   "id": "c3b38e25-f91a-4329-9e56-371c78bbb8f1",
   "metadata": {},
   "source": [
    "#  Part 2: Working with DataFrame"
   ]
  },
  {
   "cell_type": "code",
   "execution_count": 8,
   "id": "24ae47ca-235a-430d-bb0d-7d7d91515f5f",
   "metadata": {},
   "outputs": [
    {
     "name": "stdout",
     "output_type": "stream",
     "text": [
      "  Product  Quantity  Price\n",
      "0   Apple        10     30\n",
      "1  Banana        20     10\n",
      "2  Orange        15     20\n",
      "3  Grapes        12     40\n",
      "4   Mango         8     50\n"
     ]
    }
   ],
   "source": [
    "# Create a DataFrame:\n",
    "# Creating the DataFrame\n",
    "df = pd.DataFrame({\n",
    "    'Product': ['Apple', 'Banana', 'Orange', 'Grapes', 'Mango'],\n",
    "    'Quantity': [10, 20, 15, 12, 8],\n",
    "    'Price': [30, 10, 20, 40, 50]\n",
    "})\n",
    "\n",
    "# Print the DataFrame\n",
    "print(df)"
   ]
  },
  {
   "cell_type": "code",
   "execution_count": 9,
   "id": "94a1e61c-db39-4d52-a2e5-12f805ed9961",
   "metadata": {},
   "outputs": [
    {
     "name": "stdout",
     "output_type": "stream",
     "text": [
      "0    10\n",
      "1    20\n",
      "2    15\n",
      "3    12\n",
      "4     8\n",
      "Name: Quantity, dtype: int64\n",
      "  Product  Quantity  Price\n",
      "2  Orange        15     20\n"
     ]
    }
   ],
   "source": [
    "# Accessing Data:\n",
    "\n",
    "# Access and print the 'Quantity' column\n",
    "quantity_column = df['Quantity']\n",
    "print(quantity_column)\n",
    "\n",
    "# Access and print the row corresponding to 'Orange'\n",
    "orange_row = df[df['Product'] == 'Orange']\n",
    "print(orange_row)"
   ]
  },
  {
   "cell_type": "code",
   "execution_count": 10,
   "id": "55cbec2f-0859-4d42-8037-87ec3ea80d7e",
   "metadata": {},
   "outputs": [
    {
     "name": "stdout",
     "output_type": "stream",
     "text": [
      "  Product  Quantity  Price  Total Cost\n",
      "0   Apple        10     30         300\n",
      "1  Banana        20     10         200\n",
      "2  Orange        15     20         300\n",
      "3  Grapes        12     40         480\n",
      "4   Mango         8     50         400\n"
     ]
    }
   ],
   "source": [
    "#  Adding a New Column:\n",
    "# \n",
    "# Add a new column 'Total Cost' which is Quantity * Price\n",
    "df['Total Cost'] = df['Quantity'] * df['Price']\n",
    "\n",
    "# Print the updated DataFrame\n",
    "print(df)\n"
   ]
  },
  {
   "cell_type": "code",
   "execution_count": 12,
   "id": "2206a619-84fe-40b2-b645-11807fea8ce4",
   "metadata": {},
   "outputs": [
    {
     "name": "stdout",
     "output_type": "stream",
     "text": [
      "Filtered DataFrame:\n",
      "   Product  Quantity  Price  Total Cost\n",
      "3  Grapes        12     40         480\n",
      "4   Mango         8     50         400\n",
      "\n",
      "Sorted DataFrame:\n",
      "   Product  Quantity  Price  Total Cost\n",
      "4   Mango         8     50         400\n",
      "3  Grapes        12     40         480\n",
      "0   Apple        10     30         300\n",
      "2  Orange        15     20         300\n",
      "1  Banana        20     10         200\n"
     ]
    }
   ],
   "source": [
    "#  Filtering and Sorting:\n",
    "\n",
    "# Filter the DataFrame to show only products with 'Total Cost' > 300\n",
    "filtered_df = df[df['Total Cost'] > 300]\n",
    "\n",
    "# Sort the DataFrame by 'Price' in descending order\n",
    "sorted_df = df.sort_values(by='Price', ascending=False)\n",
    "\n",
    "# Print the filtered and sorted DataFrame\n",
    "print(\"Filtered DataFrame:\\n\", filtered_df)\n",
    "print(\"\\nSorted DataFrame:\\n\", sorted_df)\n"
   ]
  },
  {
   "cell_type": "code",
   "execution_count": 14,
   "id": "bd517baa-3ae8-41eb-9642-8a7163a03047",
   "metadata": {},
   "outputs": [
    {
     "name": "stdout",
     "output_type": "stream",
     "text": [
      "Total Quantity of all products: 65\n",
      "Average Price of products: 30.0\n"
     ]
    }
   ],
   "source": [
    "# Data Aggregation:\n",
    "\n",
    "# Calculate the total quantity of all products\n",
    "total_quantity = df['Quantity'].sum()\n",
    "\n",
    "# Calculate the average price of the products\n",
    "average_price = df['Price'].mean()\n",
    "\n",
    "# Print the results\n",
    "print(\"Total Quantity of all products:\", total_quantity)\n",
    "print(\"Average Price of products:\", average_price)\n"
   ]
  },
  {
   "cell_type": "markdown",
   "id": "c70c8c29-a1c3-460c-8e9c-51d9b1e56f7a",
   "metadata": {},
   "source": [
    "# 3. Data Manipulation\n",
    "\n",
    ".1 Viewing Data\n",
    "\n",
    "    ---Viewing DataFrame Information"
   ]
  },
  {
   "cell_type": "code",
   "execution_count": 16,
   "id": "d1184c1f-7a08-47ee-b3ea-1d603561659f",
   "metadata": {},
   "outputs": [
    {
     "name": "stdout",
     "output_type": "stream",
     "text": [
      "View the first few rows of df\n",
      "  Product  Quantity  Price  Total Cost\n",
      "0   Apple        10     30         300\n",
      "1  Banana        20     10         200\n",
      "2  Orange        15     20         300\n",
      "3  Grapes        12     40         480\n",
      "4   Mango         8     50         400\n",
      "View the first Tail rows of df\n",
      "  Product  Quantity  Price  Total Cost\n",
      "0   Apple        10     30         300\n",
      "1  Banana        20     10         200\n",
      "2  Orange        15     20         300\n",
      "3  Grapes        12     40         480\n",
      "4   Mango         8     50         400\n",
      "View the summary few rows of df\n",
      "        Quantity      Price  Total Cost\n",
      "count   5.000000   5.000000    5.000000\n",
      "mean   13.000000  30.000000  336.000000\n",
      "std     4.690416  15.811388  107.144762\n",
      "min     8.000000  10.000000  200.000000\n",
      "25%    10.000000  20.000000  300.000000\n",
      "50%    12.000000  30.000000  300.000000\n",
      "75%    15.000000  40.000000  400.000000\n",
      "max    20.000000  50.000000  480.000000\n"
     ]
    }
   ],
   "source": [
    "\n",
    "\n",
    "# View the first few rows\n",
    "\n",
    "print(\"View the first few rows of df\")\n",
    "print(df.head())\n",
    "\n",
    "# View the last few rows\n",
    "\n",
    "print(\"View the first Tail rows of df\")\n",
    "print(df.tail())\n",
    "\n",
    "# Get summary statistics\n",
    "\n",
    "print(\"View the summary few rows of df\")\n",
    "print(df.describe())\n"
   ]
  },
  {
   "cell_type": "markdown",
   "id": "c197b0e7-37b6-4f2d-a3d8-296cd5bf61e7",
   "metadata": {},
   "source": [
    "# Indexing and Selecting Data"
   ]
  },
  {
   "cell_type": "code",
   "execution_count": 20,
   "id": "cacd4686-9adf-419e-ad5a-31d761dd2053",
   "metadata": {},
   "outputs": [
    {
     "name": "stdout",
     "output_type": "stream",
     "text": [
      "0     Apple\n",
      "1    Banana\n",
      "2    Orange\n",
      "3    Grapes\n",
      "4     Mango\n",
      "Name: Product, dtype: object\n",
      "  Product  Price\n",
      "0   Apple     30\n",
      "1  Banana     10\n",
      "2  Orange     20\n",
      "3  Grapes     40\n",
      "4   Mango     50\n",
      "\n",
      " Select rows by label\n",
      "Product       Banana\n",
      "Quantity          20\n",
      "Price             10\n",
      "Total Cost       200\n",
      "Name: 1, dtype: object\n",
      "\n",
      " Select rows by index\n",
      "Product       Banana\n",
      "Quantity          20\n",
      "Price             10\n",
      "Total Cost       200\n",
      "Name: 1, dtype: object\n"
     ]
    }
   ],
   "source": [
    "import pandas as pd\n",
    "\n",
    "# Select a single column\n",
    "print(df['Product'])\n",
    "\n",
    "# Select multiple columns\n",
    "print(df[['Product', 'Price']])\n",
    "\n",
    "# Select rows by label\n",
    "print(\"\\n Select rows by label\")\n",
    "print(df.loc[1])\n",
    "\n",
    "# Select rows by index\n",
    "\n",
    "print(\"\\n Select rows by index\")\n",
    "\n",
    "print(df.iloc[1])\n"
   ]
  },
  {
   "cell_type": "markdown",
   "id": "102d9c27-dd2f-4f06-a856-eec5896d271a",
   "metadata": {},
   "source": [
    "# Data Cleaning\n",
    "\n",
    "Handling Missing Data"
   ]
  },
  {
   "cell_type": "code",
   "execution_count": 21,
   "id": "86edb55d-6acf-4997-8cce-421ce69f1b73",
   "metadata": {},
   "outputs": [
    {
     "name": "stdout",
     "output_type": "stream",
     "text": [
      "     A     B\n",
      "0  1.0   5.0\n",
      "1  2.0   NaN\n",
      "2  NaN   NaN\n",
      "3  4.0   8.0\n",
      "4  5.0  10.0\n",
      "     A     B\n",
      "0  1.0   5.0\n",
      "1  2.0   0.0\n",
      "2  0.0   0.0\n",
      "3  4.0   8.0\n",
      "4  5.0  10.0\n",
      "     A     B\n",
      "0  1.0   5.0\n",
      "3  4.0   8.0\n",
      "4  5.0  10.0\n"
     ]
    }
   ],
   "source": [
    "import pandas as pd\n",
    "import numpy as np\n",
    "\n",
    "# Create a DataFrame with missing values\n",
    "data = {\n",
    "    'A': [1, 2, np.nan, 4, 5],\n",
    "    'B': [5, np.nan, np.nan, 8, 10]\n",
    "}\n",
    "df = pd.DataFrame(data)\n",
    "print(df)\n",
    "\n",
    "# Fill missing values\n",
    "df_filled = df.fillna(0)\n",
    "print(df_filled)\n",
    "\n",
    "# Drop missing values\n",
    "df_dropped = df.dropna()\n",
    "print(df_dropped)\n"
   ]
  },
  {
   "cell_type": "markdown",
   "id": "53b611e1-40b5-4cf9-9e87-b87f128d6194",
   "metadata": {},
   "source": [
    "# Data Operations\n",
    "    5.1 Grouping Data"
   ]
  },
  {
   "cell_type": "code",
   "execution_count": 22,
   "id": "d42e6c80-e3ee-4e7c-a272-bfd71e4a11c5",
   "metadata": {},
   "outputs": [
    {
     "name": "stdout",
     "output_type": "stream",
     "text": [
      "Team\n",
      "A    50\n",
      "B    50\n",
      "Name: Points, dtype: int64\n"
     ]
    }
   ],
   "source": [
    "import pandas as pd\n",
    "\n",
    "# Create a DataFrame\n",
    "data = {\n",
    "    'Team': ['A', 'B', 'A', 'B', 'A'],\n",
    "    'Points': [10, 20, 15, 30, 25]\n",
    "}\n",
    "df = pd.DataFrame(data)\n",
    "\n",
    "# Group by 'Team' and sum the 'Points'\n",
    "grouped = df.groupby('Team')['Points'].sum()\n",
    "print(grouped)\n"
   ]
  },
  {
   "cell_type": "markdown",
   "id": "5b539305-9987-40cf-ab01-033b191be265",
   "metadata": {},
   "source": [
    "# Merging and Joining\n",
    "     Merging DataFrames"
   ]
  },
  {
   "cell_type": "code",
   "execution_count": 23,
   "id": "6ae5d38c-2fe6-4817-97e1-3f39ff735de1",
   "metadata": {},
   "outputs": [
    {
     "name": "stdout",
     "output_type": "stream",
     "text": [
      "  Key   A   B\n",
      "0  K0  A0  B0\n",
      "1  K1  A1  B1\n",
      "2  K2  A2  B2\n",
      "3  K3  A3  B3\n"
     ]
    }
   ],
   "source": [
    "import pandas as pd\n",
    "\n",
    "# Create two DataFrames\n",
    "data1 = {\n",
    "    'Key': ['K0', 'K1', 'K2', 'K3'],\n",
    "    'A': ['A0', 'A1', 'A2', 'A3']\n",
    "}\n",
    "\n",
    "data2 = {\n",
    "    'Key': ['K0', 'K1', 'K2', 'K3'],\n",
    "    'B': ['B0', 'B1', 'B2', 'B3']\n",
    "}\n",
    "\n",
    "df1 = pd.DataFrame(data1)\n",
    "df2 = pd.DataFrame(data2)\n",
    "\n",
    "# Merge the DataFrames on 'Key'\n",
    "merged_df = pd.merge(df1, df2, on='Key')\n",
    "print(merged_df)\n"
   ]
  },
  {
   "cell_type": "markdown",
   "id": "a9a81db7-e25d-463e-b463-f974b34575d2",
   "metadata": {},
   "source": [
    "## Importing Dataset"
   ]
  },
  {
   "cell_type": "code",
   "execution_count": 26,
   "id": "69970670-5636-443c-8e5b-47c5fd968248",
   "metadata": {},
   "outputs": [
    {
     "ename": "SyntaxError",
     "evalue": "(unicode error) 'unicodeescape' codec can't decode bytes in position 2-3: truncated \\UXXXXXXXX escape (1976179737.py, line 1)",
     "output_type": "error",
     "traceback": [
      "\u001b[1;36m  Cell \u001b[1;32mIn[26], line 1\u001b[1;36m\u001b[0m\n\u001b[1;33m    data_1 = pd.read_excel(\"C:\\Users\\Shekhani Laptop\\Downloads\\Superstore-Dataset.xls\")\u001b[0m\n\u001b[1;37m                           ^\u001b[0m\n\u001b[1;31mSyntaxError\u001b[0m\u001b[1;31m:\u001b[0m (unicode error) 'unicodeescape' codec can't decode bytes in position 2-3: truncated \\UXXXXXXXX escape\n"
     ]
    }
   ],
   "source": [
    "data_1 = pd.read_excel(\"C:\\Users\\Shekhani Laptop\\Downloads\\Superstore-Dataset.xls\")"
   ]
  },
  {
   "cell_type": "code",
   "execution_count": 24,
   "id": "c5d6fe19-1571-4d3b-a340-aa0edb9acdce",
   "metadata": {},
   "outputs": [
    {
     "name": "stdout",
     "output_type": "stream",
     "text": [
      "C:\\Users\\Shekhani Laptop\\DSAI-II\\Module_DV\n"
     ]
    }
   ],
   "source": [
    "!chdir"
   ]
  },
  {
   "cell_type": "code",
   "execution_count": 25,
   "id": "98f8a37c-912e-4f91-a04c-9c5c0cf6f475",
   "metadata": {},
   "outputs": [],
   "source": [
    "import matplotlib.pyplot as plt"
   ]
  },
  {
   "cell_type": "code",
   "execution_count": null,
   "id": "d031910d-ce4a-48ec-9ea4-6ed39280f51c",
   "metadata": {},
   "outputs": [],
   "source": []
  }
 ],
 "metadata": {
  "kernelspec": {
   "display_name": "Python 3 (ipykernel)",
   "language": "python",
   "name": "python3"
  },
  "language_info": {
   "codemirror_mode": {
    "name": "ipython",
    "version": 3
   },
   "file_extension": ".py",
   "mimetype": "text/x-python",
   "name": "python",
   "nbconvert_exporter": "python",
   "pygments_lexer": "ipython3",
   "version": "3.12.4"
  }
 },
 "nbformat": 4,
 "nbformat_minor": 5
}
